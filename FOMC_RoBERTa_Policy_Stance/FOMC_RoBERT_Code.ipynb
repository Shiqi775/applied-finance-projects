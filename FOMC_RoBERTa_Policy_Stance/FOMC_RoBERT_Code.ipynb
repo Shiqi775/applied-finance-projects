{
 "cells": [
  {
   "cell_type": "markdown",
   "id": "8e4aa68e-1f4a-43de-9aca-502c19861d0f",
   "metadata": {
    "collapsed": false,
    "name": "cell1"
   },
   "source": [
    "## Assignment 10: Fine-Tuning PLM for Monetary Policy Stance Classification\n",
    "----\n",
    "Name: Shiqi Hu\n",
    "\n",
    "GTID: 904061372"
   ]
  },
  {
   "cell_type": "markdown",
   "id": "bbb0109f-9afd-4de5-9d48-81f12b27cfbf",
   "metadata": {
    "collapsed": false,
    "name": "cell2"
   },
   "source": [
    "### Step 0: Background Research\n",
    "---\n",
    "\n",
    "**Define Hawkish and Dovish**\n",
    "\n",
    "- **Hawkish**: In monetary policy, it refers to a stance where the Federal Reserve favors raising interest rates and reducing the money supply. This approach often includes quantitative tightening (selling Treasury securities to tighten liquidity), aiming to curb inflation, but it can also slow economic growth.\n",
    "\n",
    "- **Dovish**: In contrast, dovish refers to a stance where the Federal Reserve favors lower interest rates and an increase in money supply. The Fed may pursue quantitative easing by buying Treasuries, which stimulates economic growth but can lead to higher inflation if sustained.\n",
    "\n",
    "**Key Monetary Policy Events**\n",
    "\n",
    "- **Dot-com Bubble Burst (2000-2001)**: Following rapid economic growth and market speculation, the Fed raised interest rates multiple times in the late 1990s. When the bubble burst in 2000, to stimulate the economy, the Fed quickly cut rates from 6.51% in Nov 2000 to 1.82% in Dec 2001, a shift that marked a significant response to tech sector volatility.\n",
    "\n",
    "- **2008 Financial Crisis**: In response to the collapse of major financial institutions, the Fed slashed interest rates from 5.26% in July 2007 to near zero in Dec 2008 and introduced unprecedented quantitative easing (QE) measures, purchasing large amounts of Treasuries and mortgage-backed securities to support financial stability and revive the economy.\n",
    "\n",
    "- **2015-2018 Rate Hikes**: After years of near-zero interest rates post-2008, the Fed gradually raised rates starting in 2015, reflecting a more hawkish stance as the economy recovered. This marked a shift toward normalization of monetary policy following the crisis-era support.\n",
    "\n",
    "- **COVID-19 Pandemic (2020)**: Facing a severe economic downturn, the Fed once again cut interest rates to near zero and launched aggressive QE, buying massive amounts of Treasuries and other securities. This dovish approach was aimed at supporting liquidity and economic recovery amid widespread disruptions.\n",
    "\n",
    "- **2022-2023 Inflation Surge and Rate Hikes**: In response to historic inflation, the Fed rapidly increased interest rates starting from near zero in March 2022 to around 5.33% in Aug 2023, implementing the most aggressive rate hikes in decades. This hawkish policy was designed to curb inflation but raised concerns about potential recessionary impacts."
   ]
  },
  {
   "cell_type": "code",
   "execution_count": 11,
   "id": "63de9615-a2c9-4ede-a056-7d8aadd002d4",
   "metadata": {
    "language": "python",
    "name": "cell4"
   },
   "outputs": [
    {
     "name": "stdout",
     "output_type": "stream",
     "text": [
      "Looking in indexes: https://download.pytorch.org/whl/cu118\n",
      "Requirement already satisfied: torch in c:\\users\\siki_\\anaconda3\\envs\\ai_in_finance\\lib\\site-packages (2.5.0+cu118)\n",
      "Requirement already satisfied: torchvision in c:\\users\\siki_\\anaconda3\\envs\\ai_in_finance\\lib\\site-packages (0.20.0)\n",
      "Requirement already satisfied: torchaudio in c:\\users\\siki_\\anaconda3\\envs\\ai_in_finance\\lib\\site-packages (2.5.0)\n",
      "Requirement already satisfied: filelock in c:\\users\\siki_\\anaconda3\\envs\\ai_in_finance\\lib\\site-packages (from torch) (3.16.1)\n",
      "Requirement already satisfied: typing-extensions>=4.8.0 in c:\\users\\siki_\\anaconda3\\envs\\ai_in_finance\\lib\\site-packages (from torch) (4.12.2)\n",
      "Requirement already satisfied: networkx in c:\\users\\siki_\\anaconda3\\envs\\ai_in_finance\\lib\\site-packages (from torch) (3.3)\n",
      "Requirement already satisfied: jinja2 in c:\\users\\siki_\\anaconda3\\envs\\ai_in_finance\\lib\\site-packages (from torch) (3.1.4)\n",
      "Requirement already satisfied: fsspec in c:\\users\\siki_\\anaconda3\\envs\\ai_in_finance\\lib\\site-packages (from torch) (2024.6.1)\n",
      "Requirement already satisfied: sympy==1.13.1 in c:\\users\\siki_\\anaconda3\\envs\\ai_in_finance\\lib\\site-packages (from torch) (1.13.1)\n",
      "Requirement already satisfied: mpmath<1.4,>=1.1.0 in c:\\users\\siki_\\anaconda3\\envs\\ai_in_finance\\lib\\site-packages (from sympy==1.13.1->torch) (1.3.0)\n",
      "Requirement already satisfied: numpy in c:\\users\\siki_\\anaconda3\\envs\\ai_in_finance\\lib\\site-packages (from torchvision) (1.26.4)\n",
      "Requirement already satisfied: pillow!=8.3.*,>=5.3.0 in c:\\users\\siki_\\anaconda3\\envs\\ai_in_finance\\lib\\site-packages (from torchvision) (10.4.0)\n",
      "Requirement already satisfied: MarkupSafe>=2.0 in c:\\users\\siki_\\anaconda3\\envs\\ai_in_finance\\lib\\site-packages (from jinja2->torch) (2.1.3)\n",
      "Requirement already satisfied: transformers in c:\\users\\siki_\\anaconda3\\envs\\ai_in_finance\\lib\\site-packages (4.46.0)\n",
      "Requirement already satisfied: filelock in c:\\users\\siki_\\anaconda3\\envs\\ai_in_finance\\lib\\site-packages (from transformers) (3.16.1)\n",
      "Requirement already satisfied: huggingface-hub<1.0,>=0.23.2 in c:\\users\\siki_\\anaconda3\\envs\\ai_in_finance\\lib\\site-packages (from transformers) (0.26.1)\n",
      "Requirement already satisfied: numpy>=1.17 in c:\\users\\siki_\\anaconda3\\envs\\ai_in_finance\\lib\\site-packages (from transformers) (1.26.4)\n",
      "Requirement already satisfied: packaging>=20.0 in c:\\users\\siki_\\appdata\\roaming\\python\\python311\\site-packages (from transformers) (23.2)\n",
      "Requirement already satisfied: pyyaml>=5.1 in c:\\users\\siki_\\anaconda3\\envs\\ai_in_finance\\lib\\site-packages (from transformers) (6.0.2)\n",
      "Requirement already satisfied: regex!=2019.12.17 in c:\\users\\siki_\\anaconda3\\envs\\ai_in_finance\\lib\\site-packages (from transformers) (2024.9.11)\n",
      "Requirement already satisfied: requests in c:\\users\\siki_\\anaconda3\\envs\\ai_in_finance\\lib\\site-packages (from transformers) (2.32.3)\n",
      "Requirement already satisfied: safetensors>=0.4.1 in c:\\users\\siki_\\anaconda3\\envs\\ai_in_finance\\lib\\site-packages (from transformers) (0.4.5)\n",
      "Requirement already satisfied: tokenizers<0.21,>=0.20 in c:\\users\\siki_\\anaconda3\\envs\\ai_in_finance\\lib\\site-packages (from transformers) (0.20.1)\n",
      "Requirement already satisfied: tqdm>=4.27 in c:\\users\\siki_\\anaconda3\\envs\\ai_in_finance\\lib\\site-packages (from transformers) (4.66.5)\n",
      "Requirement already satisfied: fsspec>=2023.5.0 in c:\\users\\siki_\\anaconda3\\envs\\ai_in_finance\\lib\\site-packages (from huggingface-hub<1.0,>=0.23.2->transformers) (2024.6.1)\n",
      "Requirement already satisfied: typing-extensions>=3.7.4.3 in c:\\users\\siki_\\anaconda3\\envs\\ai_in_finance\\lib\\site-packages (from huggingface-hub<1.0,>=0.23.2->transformers) (4.12.2)\n",
      "Requirement already satisfied: colorama in c:\\users\\siki_\\appdata\\roaming\\python\\python311\\site-packages (from tqdm>=4.27->transformers) (0.4.6)\n",
      "Requirement already satisfied: charset-normalizer<4,>=2 in c:\\users\\siki_\\anaconda3\\envs\\ai_in_finance\\lib\\site-packages (from requests->transformers) (3.3.2)\n",
      "Requirement already satisfied: idna<4,>=2.5 in c:\\users\\siki_\\anaconda3\\envs\\ai_in_finance\\lib\\site-packages (from requests->transformers) (3.7)\n",
      "Requirement already satisfied: urllib3<3,>=1.21.1 in c:\\users\\siki_\\anaconda3\\envs\\ai_in_finance\\lib\\site-packages (from requests->transformers) (2.2.2)\n",
      "Requirement already satisfied: certifi>=2017.4.17 in c:\\users\\siki_\\anaconda3\\envs\\ai_in_finance\\lib\\site-packages (from requests->transformers) (2024.8.30)\n",
      "Requirement already satisfied: datasets==2.21.0 in c:\\users\\siki_\\anaconda3\\envs\\ai_in_finance\\lib\\site-packages (2.21.0)\n",
      "Requirement already satisfied: filelock in c:\\users\\siki_\\anaconda3\\envs\\ai_in_finance\\lib\\site-packages (from datasets==2.21.0) (3.16.1)\n",
      "Requirement already satisfied: numpy>=1.17 in c:\\users\\siki_\\anaconda3\\envs\\ai_in_finance\\lib\\site-packages (from datasets==2.21.0) (1.26.4)\n",
      "Requirement already satisfied: pyarrow>=15.0.0 in c:\\users\\siki_\\anaconda3\\envs\\ai_in_finance\\lib\\site-packages (from datasets==2.21.0) (16.1.0)\n",
      "Requirement already satisfied: dill<0.3.9,>=0.3.0 in c:\\users\\siki_\\anaconda3\\envs\\ai_in_finance\\lib\\site-packages (from datasets==2.21.0) (0.3.6)\n",
      "Requirement already satisfied: pandas in c:\\users\\siki_\\anaconda3\\envs\\ai_in_finance\\lib\\site-packages (from datasets==2.21.0) (2.2.2)\n",
      "Requirement already satisfied: requests>=2.32.2 in c:\\users\\siki_\\anaconda3\\envs\\ai_in_finance\\lib\\site-packages (from datasets==2.21.0) (2.32.3)\n",
      "Requirement already satisfied: tqdm>=4.66.3 in c:\\users\\siki_\\anaconda3\\envs\\ai_in_finance\\lib\\site-packages (from datasets==2.21.0) (4.66.5)\n",
      "Requirement already satisfied: xxhash in c:\\users\\siki_\\anaconda3\\envs\\ai_in_finance\\lib\\site-packages (from datasets==2.21.0) (2.0.2)\n",
      "Requirement already satisfied: multiprocess in c:\\users\\siki_\\anaconda3\\envs\\ai_in_finance\\lib\\site-packages (from datasets==2.21.0) (0.70.14)\n",
      "Requirement already satisfied: fsspec<=2024.6.1,>=2023.1.0 in c:\\users\\siki_\\anaconda3\\envs\\ai_in_finance\\lib\\site-packages (from fsspec[http]<=2024.6.1,>=2023.1.0->datasets==2.21.0) (2024.6.1)\n",
      "Requirement already satisfied: aiohttp in c:\\users\\siki_\\anaconda3\\envs\\ai_in_finance\\lib\\site-packages (from datasets==2.21.0) (3.10.5)\n",
      "Requirement already satisfied: huggingface-hub>=0.21.2 in c:\\users\\siki_\\anaconda3\\envs\\ai_in_finance\\lib\\site-packages (from datasets==2.21.0) (0.26.1)\n",
      "Requirement already satisfied: packaging in c:\\users\\siki_\\appdata\\roaming\\python\\python311\\site-packages (from datasets==2.21.0) (23.2)\n",
      "Requirement already satisfied: pyyaml>=5.1 in c:\\users\\siki_\\anaconda3\\envs\\ai_in_finance\\lib\\site-packages (from datasets==2.21.0) (6.0.2)\n",
      "Requirement already satisfied: aiohappyeyeballs>=2.3.0 in c:\\users\\siki_\\anaconda3\\envs\\ai_in_finance\\lib\\site-packages (from aiohttp->datasets==2.21.0) (2.4.0)\n",
      "Requirement already satisfied: aiosignal>=1.1.2 in c:\\users\\siki_\\anaconda3\\envs\\ai_in_finance\\lib\\site-packages (from aiohttp->datasets==2.21.0) (1.2.0)\n",
      "Requirement already satisfied: attrs>=17.3.0 in c:\\users\\siki_\\anaconda3\\envs\\ai_in_finance\\lib\\site-packages (from aiohttp->datasets==2.21.0) (23.1.0)\n",
      "Requirement already satisfied: frozenlist>=1.1.1 in c:\\users\\siki_\\anaconda3\\envs\\ai_in_finance\\lib\\site-packages (from aiohttp->datasets==2.21.0) (1.4.0)\n",
      "Requirement already satisfied: multidict<7.0,>=4.5 in c:\\users\\siki_\\anaconda3\\envs\\ai_in_finance\\lib\\site-packages (from aiohttp->datasets==2.21.0) (6.0.4)\n",
      "Requirement already satisfied: yarl<2.0,>=1.0 in c:\\users\\siki_\\anaconda3\\envs\\ai_in_finance\\lib\\site-packages (from aiohttp->datasets==2.21.0) (1.11.0)\n",
      "Requirement already satisfied: typing-extensions>=3.7.4.3 in c:\\users\\siki_\\anaconda3\\envs\\ai_in_finance\\lib\\site-packages (from huggingface-hub>=0.21.2->datasets==2.21.0) (4.12.2)\n",
      "Requirement already satisfied: charset-normalizer<4,>=2 in c:\\users\\siki_\\anaconda3\\envs\\ai_in_finance\\lib\\site-packages (from requests>=2.32.2->datasets==2.21.0) (3.3.2)\n",
      "Requirement already satisfied: idna<4,>=2.5 in c:\\users\\siki_\\anaconda3\\envs\\ai_in_finance\\lib\\site-packages (from requests>=2.32.2->datasets==2.21.0) (3.7)\n",
      "Requirement already satisfied: urllib3<3,>=1.21.1 in c:\\users\\siki_\\anaconda3\\envs\\ai_in_finance\\lib\\site-packages (from requests>=2.32.2->datasets==2.21.0) (2.2.2)\n",
      "Requirement already satisfied: certifi>=2017.4.17 in c:\\users\\siki_\\anaconda3\\envs\\ai_in_finance\\lib\\site-packages (from requests>=2.32.2->datasets==2.21.0) (2024.8.30)\n",
      "Requirement already satisfied: colorama in c:\\users\\siki_\\appdata\\roaming\\python\\python311\\site-packages (from tqdm>=4.66.3->datasets==2.21.0) (0.4.6)\n",
      "Requirement already satisfied: python-dateutil>=2.8.2 in c:\\users\\siki_\\appdata\\roaming\\python\\python311\\site-packages (from pandas->datasets==2.21.0) (2.8.2)\n",
      "Requirement already satisfied: pytz>=2020.1 in c:\\users\\siki_\\anaconda3\\envs\\ai_in_finance\\lib\\site-packages (from pandas->datasets==2.21.0) (2024.1)\n",
      "Requirement already satisfied: tzdata>=2022.7 in c:\\users\\siki_\\anaconda3\\envs\\ai_in_finance\\lib\\site-packages (from pandas->datasets==2.21.0) (2023.3)\n",
      "Requirement already satisfied: six>=1.5 in c:\\users\\siki_\\appdata\\roaming\\python\\python311\\site-packages (from python-dateutil>=2.8.2->pandas->datasets==2.21.0) (1.16.0)\n",
      "Requirement already satisfied: accelerate in c:\\users\\siki_\\anaconda3\\envs\\ai_in_finance\\lib\\site-packages (1.0.1)\n",
      "Requirement already satisfied: numpy<3.0.0,>=1.17 in c:\\users\\siki_\\anaconda3\\envs\\ai_in_finance\\lib\\site-packages (from accelerate) (1.26.4)\n",
      "Requirement already satisfied: packaging>=20.0 in c:\\users\\siki_\\appdata\\roaming\\python\\python311\\site-packages (from accelerate) (23.2)\n",
      "Requirement already satisfied: psutil in c:\\users\\siki_\\appdata\\roaming\\python\\python311\\site-packages (from accelerate) (5.9.8)\n",
      "Requirement already satisfied: pyyaml in c:\\users\\siki_\\anaconda3\\envs\\ai_in_finance\\lib\\site-packages (from accelerate) (6.0.2)\n",
      "Requirement already satisfied: torch>=1.10.0 in c:\\users\\siki_\\anaconda3\\envs\\ai_in_finance\\lib\\site-packages (from accelerate) (2.5.0+cu118)\n",
      "Requirement already satisfied: huggingface-hub>=0.21.0 in c:\\users\\siki_\\anaconda3\\envs\\ai_in_finance\\lib\\site-packages (from accelerate) (0.26.1)\n",
      "Requirement already satisfied: safetensors>=0.4.3 in c:\\users\\siki_\\anaconda3\\envs\\ai_in_finance\\lib\\site-packages (from accelerate) (0.4.5)\n",
      "Requirement already satisfied: filelock in c:\\users\\siki_\\anaconda3\\envs\\ai_in_finance\\lib\\site-packages (from huggingface-hub>=0.21.0->accelerate) (3.16.1)\n",
      "Requirement already satisfied: fsspec>=2023.5.0 in c:\\users\\siki_\\anaconda3\\envs\\ai_in_finance\\lib\\site-packages (from huggingface-hub>=0.21.0->accelerate) (2024.6.1)\n",
      "Requirement already satisfied: requests in c:\\users\\siki_\\anaconda3\\envs\\ai_in_finance\\lib\\site-packages (from huggingface-hub>=0.21.0->accelerate) (2.32.3)\n",
      "Requirement already satisfied: tqdm>=4.42.1 in c:\\users\\siki_\\anaconda3\\envs\\ai_in_finance\\lib\\site-packages (from huggingface-hub>=0.21.0->accelerate) (4.66.5)\n",
      "Requirement already satisfied: typing-extensions>=3.7.4.3 in c:\\users\\siki_\\anaconda3\\envs\\ai_in_finance\\lib\\site-packages (from huggingface-hub>=0.21.0->accelerate) (4.12.2)\n",
      "Requirement already satisfied: networkx in c:\\users\\siki_\\anaconda3\\envs\\ai_in_finance\\lib\\site-packages (from torch>=1.10.0->accelerate) (3.3)\n",
      "Requirement already satisfied: jinja2 in c:\\users\\siki_\\anaconda3\\envs\\ai_in_finance\\lib\\site-packages (from torch>=1.10.0->accelerate) (3.1.4)\n",
      "Requirement already satisfied: sympy==1.13.1 in c:\\users\\siki_\\anaconda3\\envs\\ai_in_finance\\lib\\site-packages (from torch>=1.10.0->accelerate) (1.13.1)\n",
      "Requirement already satisfied: mpmath<1.4,>=1.1.0 in c:\\users\\siki_\\anaconda3\\envs\\ai_in_finance\\lib\\site-packages (from sympy==1.13.1->torch>=1.10.0->accelerate) (1.3.0)\n",
      "Requirement already satisfied: colorama in c:\\users\\siki_\\appdata\\roaming\\python\\python311\\site-packages (from tqdm>=4.42.1->huggingface-hub>=0.21.0->accelerate) (0.4.6)\n",
      "Requirement already satisfied: MarkupSafe>=2.0 in c:\\users\\siki_\\anaconda3\\envs\\ai_in_finance\\lib\\site-packages (from jinja2->torch>=1.10.0->accelerate) (2.1.3)\n",
      "Requirement already satisfied: charset-normalizer<4,>=2 in c:\\users\\siki_\\anaconda3\\envs\\ai_in_finance\\lib\\site-packages (from requests->huggingface-hub>=0.21.0->accelerate) (3.3.2)\n",
      "Requirement already satisfied: idna<4,>=2.5 in c:\\users\\siki_\\anaconda3\\envs\\ai_in_finance\\lib\\site-packages (from requests->huggingface-hub>=0.21.0->accelerate) (3.7)\n",
      "Requirement already satisfied: urllib3<3,>=1.21.1 in c:\\users\\siki_\\anaconda3\\envs\\ai_in_finance\\lib\\site-packages (from requests->huggingface-hub>=0.21.0->accelerate) (2.2.2)\n",
      "Requirement already satisfied: certifi>=2017.4.17 in c:\\users\\siki_\\anaconda3\\envs\\ai_in_finance\\lib\\site-packages (from requests->huggingface-hub>=0.21.0->accelerate) (2024.8.30)\n",
      "Requirement already satisfied: torch in c:\\users\\siki_\\anaconda3\\envs\\ai_in_finance\\lib\\site-packages (2.5.0+cu118)\n",
      "Requirement already satisfied: filelock in c:\\users\\siki_\\anaconda3\\envs\\ai_in_finance\\lib\\site-packages (from torch) (3.16.1)\n",
      "Requirement already satisfied: typing-extensions>=4.8.0 in c:\\users\\siki_\\anaconda3\\envs\\ai_in_finance\\lib\\site-packages (from torch) (4.12.2)\n",
      "Requirement already satisfied: networkx in c:\\users\\siki_\\anaconda3\\envs\\ai_in_finance\\lib\\site-packages (from torch) (3.3)\n",
      "Requirement already satisfied: jinja2 in c:\\users\\siki_\\anaconda3\\envs\\ai_in_finance\\lib\\site-packages (from torch) (3.1.4)\n",
      "Requirement already satisfied: fsspec in c:\\users\\siki_\\anaconda3\\envs\\ai_in_finance\\lib\\site-packages (from torch) (2024.6.1)\n",
      "Requirement already satisfied: sympy==1.13.1 in c:\\users\\siki_\\anaconda3\\envs\\ai_in_finance\\lib\\site-packages (from torch) (1.13.1)\n",
      "Requirement already satisfied: mpmath<1.4,>=1.1.0 in c:\\users\\siki_\\anaconda3\\envs\\ai_in_finance\\lib\\site-packages (from sympy==1.13.1->torch) (1.3.0)\n",
      "Requirement already satisfied: MarkupSafe>=2.0 in c:\\users\\siki_\\anaconda3\\envs\\ai_in_finance\\lib\\site-packages (from jinja2->torch) (2.1.3)\n",
      "Requirement already satisfied: openpyxl in c:\\users\\siki_\\anaconda3\\envs\\ai_in_finance\\lib\\site-packages (3.1.5)\n",
      "Requirement already satisfied: et-xmlfile in c:\\users\\siki_\\anaconda3\\envs\\ai_in_finance\\lib\\site-packages (from openpyxl) (1.1.0)\n",
      "Requirement already satisfied: pandas_datareader in c:\\users\\siki_\\anaconda3\\envs\\ai_in_finance\\lib\\site-packages (0.10.0)\n",
      "Requirement already satisfied: lxml in c:\\users\\siki_\\anaconda3\\envs\\ai_in_finance\\lib\\site-packages (from pandas_datareader) (5.2.1)\n",
      "Requirement already satisfied: pandas>=0.23 in c:\\users\\siki_\\anaconda3\\envs\\ai_in_finance\\lib\\site-packages (from pandas_datareader) (2.2.2)\n",
      "Requirement already satisfied: requests>=2.19.0 in c:\\users\\siki_\\anaconda3\\envs\\ai_in_finance\\lib\\site-packages (from pandas_datareader) (2.32.3)\n",
      "Requirement already satisfied: numpy>=1.23.2 in c:\\users\\siki_\\anaconda3\\envs\\ai_in_finance\\lib\\site-packages (from pandas>=0.23->pandas_datareader) (1.26.4)\n",
      "Requirement already satisfied: python-dateutil>=2.8.2 in c:\\users\\siki_\\appdata\\roaming\\python\\python311\\site-packages (from pandas>=0.23->pandas_datareader) (2.8.2)\n",
      "Requirement already satisfied: pytz>=2020.1 in c:\\users\\siki_\\anaconda3\\envs\\ai_in_finance\\lib\\site-packages (from pandas>=0.23->pandas_datareader) (2024.1)\n",
      "Requirement already satisfied: tzdata>=2022.7 in c:\\users\\siki_\\anaconda3\\envs\\ai_in_finance\\lib\\site-packages (from pandas>=0.23->pandas_datareader) (2023.3)\n",
      "Requirement already satisfied: charset-normalizer<4,>=2 in c:\\users\\siki_\\anaconda3\\envs\\ai_in_finance\\lib\\site-packages (from requests>=2.19.0->pandas_datareader) (3.3.2)\n",
      "Requirement already satisfied: idna<4,>=2.5 in c:\\users\\siki_\\anaconda3\\envs\\ai_in_finance\\lib\\site-packages (from requests>=2.19.0->pandas_datareader) (3.7)\n",
      "Requirement already satisfied: urllib3<3,>=1.21.1 in c:\\users\\siki_\\anaconda3\\envs\\ai_in_finance\\lib\\site-packages (from requests>=2.19.0->pandas_datareader) (2.2.2)\n",
      "Requirement already satisfied: certifi>=2017.4.17 in c:\\users\\siki_\\anaconda3\\envs\\ai_in_finance\\lib\\site-packages (from requests>=2.19.0->pandas_datareader) (2024.8.30)\n",
      "Requirement already satisfied: six>=1.5 in c:\\users\\siki_\\appdata\\roaming\\python\\python311\\site-packages (from python-dateutil>=2.8.2->pandas>=0.23->pandas_datareader) (1.16.0)\n"
     ]
    }
   ],
   "source": [
    "!pip install torch torchvision torchaudio --index-url https://download.pytorch.org/whl/cu118\n",
    "!pip install --upgrade transformers\n",
    "!pip install datasets==2.21.0\n",
    "# easier for users to scale their models from single-device to multi-device environments without needing to manually configure complex setups.\n",
    "!pip install --upgrade accelerate\n",
    "!pip install --upgrade torch\n",
    "!pip install openpyxl\n",
    "!pip install pandas_datareader"
   ]
  },
  {
   "cell_type": "code",
   "execution_count": 20,
   "id": "8803347f-5091-43a9-b307-577ef119d49e",
   "metadata": {
    "language": "python",
    "name": "cell5"
   },
   "outputs": [],
   "source": [
    "import pandas as pd\n",
    "import numpy as np\n",
    "import matplotlib.pyplot as plt\n",
    "import seaborn as sns\n",
    "import zipfile\n",
    "import io\n",
    "import re\n",
    "import os\n",
    "import pandas_datareader as pdr\n",
    "from datetime import datetime\n",
    "\n",
    "from sklearn.metrics import accuracy_score, classification_report, confusion_matrix, f1_score\n",
    "from sklearn.model_selection import train_test_split, GridSearchCV\n",
    "\n",
    "import warnings\n",
    "warnings.filterwarnings('ignore')\n",
    "\n",
    "from transformers import AutoTokenizer, AutoModelForSequenceClassification, Trainer, TrainingArguments\n",
    "# from transformers import pipeline\n",
    "from transformers import AutoConfig\n",
    "from transformers import DataCollatorWithPadding\n",
    "from datasets import Dataset as HFDataset\n",
    "import torch\n",
    "# from torch.utils.data import Dataset"
   ]
  },
  {
   "cell_type": "markdown",
   "id": "1f35eb95-a7c3-431c-b3cb-0242698391f9",
   "metadata": {
    "collapsed": false,
    "name": "cell6"
   },
   "source": [
    "### Step 1: Fine-Tuning RoBERTa\n",
    "---\n",
    "**Q: Why tokenization is important for models like RoBERTa?**\n",
    "\n",
    "- Tokenization is essential for models like RoBERTa because it breaks down text into smaller pieces (\"tokens\") that the model can understand and process. \n",
    "- Specifically, RoBERTa uses a specific tokenizer to convert words into numerical representations, which the model requires for learning patterns in the text. \n",
    "- Setting padding='max_length' ensures that all inputs have the same length by adding padding where necessary, while truncation=True cuts off longer texts to a maximum length of 256 tokens. This standardization helps RoBERTa process batches of text efficiently and avoids errors from variable-length inputs.\n",
    "\n",
    "**Q: What does the confusion matrix tell you about the model’s performance on hawkish, dovish, and neutral labels?**\n",
    "- After conducting hyperparameter tuning with the training and validation sets (where 10% of the full training data was used for validation), the model achieved an F1-score of 0.70 on the test set. This indicates that the model's classification performance is fairly balanced across labels.\n",
    "\n",
    "- The confusion matrix shows the following insights about the model's performance:\n",
    "    - **Dovish Labels**: The model correctly classified 49 out of 69 \"Dovish\" instances, with a few misclassifications primarily into the \"Neutral\" category (16 instances), indicating some confusion between dovish and neutral tones.\n",
    "    - **Hawkish Labels**: The model performs best on \"Hawkish\" instances, correctly classifying 41 out of 49, with minimal confusion. This suggests that the model has a stronger ability to identify hawkish language.\n",
    "    - **Neutral Labels**: The model correctly identified 58 out of 96 \"Neutral\" cases but misclassified 21 as \"Dovish\" and 17 as \"Hawkish.\" This pattern indicates that neutral language can be challenging to distinguish, especially from dovish tones.\n",
    "\n",
    "**Q: How does performance change as you vary learning rate, batch size, and number of epochs?**\n",
    "\n",
    "**My parameters include:**\n",
    "- learning_rates = [2e-5, 5e-5, 1e-4]  \n",
    "- batch_sizes = [4, 8, 16]           \n",
    "- num_epochs = [3, 5, 10]   \n",
    "\n",
    "**Performance analysis on the validation set based on hyperparameters (F1-score):**\n",
    "- Impact of Learning Rate on F1 Score:\n",
    "  - **Learning Rate = 2.00e-05**: Generally performs well with batch sizes 4, 8, and 16, especially as the number of epochs increases. F1 scores range from around 0.538 to 0.678, with higher epochs and larger batch sizes (e.g., batch size 16, epochs 5 or 10) showing improvements in performance.\n",
    "  - **Learning Rate = 5.00e-05**: Shows the best overall F1 scores, especially with batch sizes of 8 and 16 and higher epochs. The highest F1 scores (around 0.723 and 0.720) are achieved with a batch size of 16 and epochs of 5 and 10, respectively. This learning rate provides a good balance between stability and performance, as it consistently outperforms the others.\n",
    "  - **Learning Rate = 1.00e-04**: F1 scores remain very low (around 0.192) across all configurations of batch size and epochs, suggesting this learning rate is too high and may lead to unstable or underperforming models.\n",
    "\n",
    "- Impact of Batch Size on F1 Score:\n",
    "  - **Batch Size = 4**: With lower batch sizes, the model performance is less consistent. For learning rates of 2.00e-05 and 5.00e-05, F1 scores are generally lower compared to larger batch sizes, even when the number of epochs increases. The highest F1 score for this batch size is around 0.678 with a learning rate of 2.00e-05 and 10 epochs, indicating that increasing epochs helps compensate for the smaller batch size.\n",
    "  - **Batch Size = 8**: Batch size 8 provides better performance stability than batch size 4, particularly with learning rates of 2.00e-05 and 5.00e-05. The F1 score reaches around 0.646 and 0.602 with 5 and 10 epochs respectively for 2.00e-05, and around 0.670 with 5.00e-05 and 10 epochs, indicating improved performance with higher epochs.\n",
    "  - **Batch Size = 16**: The best-performing models are found with batch size 16, especially with a learning rate of 5.00e-05. The highest F1 scores of 0.723 and 0.720 are achieved with epochs of 5 and 10 for the 5.00e-05 learning rate, indicating that larger batch sizes are beneficial for this setup. However, with a learning rate of 1.00e-04, performance remains poor across all epochs, suggesting that an optimal learning rate is necessary to benefit from larger batch sizes.\n",
    "\n",
    "- Number of Epochs:\n",
    "  - **3 Epochs**: Models with fewer epochs tend to underperform, especially with higher batch sizes. The F1 score for 3 epochs maxes out at around 0.670 for batch size 16 and a learning rate of 5.00e-05, indicating that higher epochs are generally more effective for this problem.\n",
    "  - **5 Epochs**: Increasing the number of epochs to 5 typically improves performance, especially with a batch size of 16 and a learning rate of 5.00e-05, achieving the highest F1 score of 0.723. For lower learning rates and smaller batch sizes, the improvements are moderate but noticeable.\n",
    "  - **10 Epochs**: Further increasing epochs to 10 shows mixed results, with some combinations (e.g., 5.00e-05, batch size 16) maintaining high F1 scores around 0.720. However, additional epochs seem to provide diminishing returns, especially for smaller batch sizes and suboptimal learning rates.\n",
    "\n",
    "**Summary of Findings**\n",
    "- Optimal Combination: A learning rate of 5.00e-05, batch size of 16, and 5 epochs yield the best F1 scores (around 0.723).\n",
    "- Learning Rate Sensitivity: The model is highly sensitive to the learning rate, with 2.00e-05 and 5.00e-05 performing well, while 1.00e-04 results in consistently low F1 scores.\n",
    "- Batch Size and Epoch Balance: Larger batch sizes (16) combined with moderate epochs (5 to 10) provide the best performance, while smaller batch sizes benefit from higher epochs.\n"
   ]
  },
  {
   "cell_type": "code",
   "execution_count": 13,
   "id": "52755153-728f-45ff-8bdb-149ce6534d37",
   "metadata": {
    "language": "python",
    "name": "cell7"
   },
   "outputs": [
    {
     "name": "stderr",
     "output_type": "stream",
     "text": [
      "Some weights of RobertaForSequenceClassification were not initialized from the model checkpoint at roberta-base and are newly initialized: ['classifier.dense.bias', 'classifier.dense.weight', 'classifier.out_proj.bias', 'classifier.out_proj.weight']\n",
      "You should probably TRAIN this model on a down-stream task to be able to use it for predictions and inference.\n"
     ]
    }
   ],
   "source": [
    "# load model and tokenizer：\n",
    "model_name = \"roberta-base\"\n",
    "model = AutoModelForSequenceClassification.from_pretrained(model_name, num_labels=3)    # 3 labels: Dovish, Hawkish, Neutral\n",
    "tokenizer = AutoTokenizer.from_pretrained(model_name)"
   ]
  },
  {
   "cell_type": "code",
   "execution_count": 14,
   "id": "329169ea-d9d3-4853-ad8b-cececf3ecd3d",
   "metadata": {
    "language": "python",
    "name": "cell8"
   },
   "outputs": [
    {
     "data": {
      "application/vnd.jupyter.widget-view+json": {
       "model_id": "d885feaf1c554618924e4776d63ae7d2",
       "version_major": 2,
       "version_minor": 0
      },
      "text/plain": [
       "Map:   0%|          | 0/770 [00:00<?, ? examples/s]"
      ]
     },
     "metadata": {},
     "output_type": "display_data"
    },
    {
     "data": {
      "application/vnd.jupyter.widget-view+json": {
       "model_id": "4036d6dc44c24a569a3212a93848d50e",
       "version_major": 2,
       "version_minor": 0
      },
      "text/plain": [
       "Map:   0%|          | 0/86 [00:00<?, ? examples/s]"
      ]
     },
     "metadata": {},
     "output_type": "display_data"
    },
    {
     "data": {
      "application/vnd.jupyter.widget-view+json": {
       "model_id": "e0b8b73995c04cd48098537e83f4d091",
       "version_major": 2,
       "version_minor": 0
      },
      "text/plain": [
       "Map:   0%|          | 0/214 [00:00<?, ? examples/s]"
      ]
     },
     "metadata": {},
     "output_type": "display_data"
    }
   ],
   "source": [
    "# prepare data for model\n",
    "\n",
    "train_df_full = pd.read_excel('lab-manual-mm-train-5768.xlsx')  \n",
    "train_df, val_df = train_test_split(train_df_full, test_size=0.1) \n",
    "test_df = pd.read_excel('lab-manual-mm-test-5768.xlsx') \n",
    "\n",
    "train_df['label'] = train_df['label'].astype(int)\n",
    "val_df['label'] = val_df['label'].astype(int)\n",
    "test_df['label'] = test_df['label'].astype(int)\n",
    "\n",
    "# convert pandas df to datasets object\n",
    "train_dataset = HFDataset.from_pandas(train_df)\n",
    "val_dataset = HFDataset.from_pandas(val_df)\n",
    "test_dataset = HFDataset.from_pandas(test_df)\n",
    "\n",
    "# Define data preprocessing functions\n",
    "def tokenize_function(examples):\n",
    "    return tokenizer(examples['sentence'], \n",
    "                     padding='max_length', \n",
    "                     truncation=True, \n",
    "                     max_length=256)\n",
    "\n",
    "# tokenize each sentence in training, validation & test set\n",
    "tokenized_train_dataset = train_dataset.map(tokenize_function, batched=True)\n",
    "tokenized_val_dataset = val_dataset.map(tokenize_function, batched=True)\n",
    "tokenized_test_dataset = test_dataset.map(tokenize_function, batched=True)\n",
    "\n",
    "# Rename 'label' column to 'labels'\n",
    "tokenized_train_dataset = tokenized_train_dataset.rename_column(\"label\", \"labels\")\n",
    "tokenized_val_dataset = tokenized_val_dataset.rename_column(\"label\", \"labels\")\n",
    "tokenized_test_dataset = tokenized_test_dataset.rename_column(\"label\", \"labels\")\n",
    "\n",
    "# Set the format for PyTorch compatibility, only keeping necessary columns\n",
    "tokenized_train_dataset.set_format(type=\"torch\", columns=[\"input_ids\", \"attention_mask\", \"labels\"])\n",
    "tokenized_val_dataset.set_format(type=\"torch\", columns=[\"input_ids\", \"attention_mask\", \"labels\"])\n",
    "tokenized_test_dataset.set_format(type=\"torch\", columns=[\"input_ids\", \"attention_mask\", \"labels\"])\n",
    "\n",
    "# Set up the data collator for dynamic padding (we may have some excess padding)\n",
    "data_collator = DataCollatorWithPadding(tokenizer=tokenizer)"
   ]
  },
  {
   "cell_type": "code",
   "execution_count": 15,
   "id": "ab8d6466-0f4c-480c-84a8-83f524e1d522",
   "metadata": {
    "language": "python",
    "name": "cell18"
   },
   "outputs": [],
   "source": [
    "# print(tokenized_train_dataset.column_names)\n",
    "# print(tokenized_val_dataset.column_names)\n"
   ]
  },
  {
   "cell_type": "code",
   "execution_count": 16,
   "id": "3b8a0f5c-b8af-444d-be94-fc8d1d7a46c3",
   "metadata": {
    "language": "python",
    "name": "cell17"
   },
   "outputs": [],
   "source": [
    "# # Check the length of the dataset\n",
    "# print(\"Length of tokenized_train_dataset:\", len(tokenized_train_dataset))\n",
    "# print(\"Length of tokenized_val_dataset:\", len(tokenized_val_dataset))\n",
    "\n",
    "# # # Try accessing the first few elements to verify structure\n",
    "# # print(tokenized_train_dataset[0])  # Should work if dataset is properly indexed\n",
    "# # print(tokenized_val_dataset[1])"
   ]
  },
  {
   "cell_type": "code",
   "execution_count": 17,
   "id": "7ca2a13d-24bc-4f1b-8360-b1ec627d447d",
   "metadata": {
    "language": "python",
    "name": "cell9"
   },
   "outputs": [],
   "source": [
    "# If no enough space and you want to rerun the training, use the following code to delete the checkpoints\n",
    "# import os\n",
    "# import shutil\n",
    "\n",
    "# # Hyperparameters combinations\n",
    "# learning_rates = [2e-5, 5e-5, 1e-4]  \n",
    "# batch_sizes = [4, 8, 16]           \n",
    "# num_epochs = [3, 5, 10]              \n",
    "\n",
    "# base_dir = '/home/app/hsq/results_lr{lr}_bs{batch_size}_epochs{epoch}'\n",
    "\n",
    "# # delete all specified checkpoints\n",
    "# for lr in learning_rates:\n",
    "#     for batch_size in batch_sizes:\n",
    "#         for epoch in num_epochs:\n",
    "#             output_dir = base_dir.format(lr=lr, batch_size=batch_size, epoch=epoch)\n",
    "\n",
    "#             # check if directory exists\n",
    "#             if os.path.exists(output_dir):\n",
    "#                 print(f\"Deleting directory: {output_dir}\")\n",
    "#                 shutil.rmtree(output_dir)\n",
    "#             else:\n",
    "#                 print(f\"Directory not found: {output_dir}\")\n",
    "\n",
    "# print(\"All specified checkpoints have been deleted.\")"
   ]
  },
  {
   "cell_type": "code",
   "execution_count": 18,
   "id": "58f6279b",
   "metadata": {},
   "outputs": [
    {
     "name": "stdout",
     "output_type": "stream",
     "text": [
      "CUDA is available. PyTorch is using the GPU.\n",
      "Device: NVIDIA GeForce RTX 3050 Ti Laptop GPU\n"
     ]
    }
   ],
   "source": [
    "# Check if CUDA (GPU support) is available\n",
    "if torch.cuda.is_available():\n",
    "    print(\"CUDA is available. PyTorch is using the GPU.\")\n",
    "    print(\"Device:\", torch.cuda.get_device_name(0))\n",
    "else:\n",
    "    print(\"CUDA is not available. PyTorch is using the CPU.\")"
   ]
  },
  {
   "cell_type": "code",
   "execution_count": 23,
   "id": "8c579843-1540-4fa9-8e02-188a35d7dc27",
   "metadata": {
    "collapsed": false,
    "language": "python",
    "name": "cell10"
   },
   "outputs": [
    {
     "name": "stdout",
     "output_type": "stream",
     "text": [
      "Training with lr=2e-05, batch_size=4, epochs=3\n",
      "Checkpoint missing or incomplete, starting training from scratch.\n"
     ]
    },
    {
     "data": {
      "application/vnd.jupyter.widget-view+json": {
       "model_id": "77e434b3dc434c778c32c91b81c0778d",
       "version_major": 2,
       "version_minor": 0
      },
      "text/plain": [
       "  0%|          | 0/579 [00:00<?, ?it/s]"
      ]
     },
     "metadata": {},
     "output_type": "display_data"
    },
    {
     "data": {
      "application/vnd.jupyter.widget-view+json": {
       "model_id": "1d9241c253744153af17bc1cae580eda",
       "version_major": 2,
       "version_minor": 0
      },
      "text/plain": [
       "  0%|          | 0/22 [00:00<?, ?it/s]"
      ]
     },
     "metadata": {},
     "output_type": "display_data"
    },
    {
     "name": "stdout",
     "output_type": "stream",
     "text": [
      "{'eval_loss': 1.2489852905273438, 'eval_runtime': 0.7002, 'eval_samples_per_second': 122.831, 'eval_steps_per_second': 31.422, 'epoch': 1.0}\n"
     ]
    },
    {
     "data": {
      "application/vnd.jupyter.widget-view+json": {
       "model_id": "cc52241b6d694ceda841c87cfa51018f",
       "version_major": 2,
       "version_minor": 0
      },
      "text/plain": [
       "  0%|          | 0/22 [00:00<?, ?it/s]"
      ]
     },
     "metadata": {},
     "output_type": "display_data"
    },
    {
     "name": "stdout",
     "output_type": "stream",
     "text": [
      "{'eval_loss': 1.335513949394226, 'eval_runtime': 1.0189, 'eval_samples_per_second': 84.403, 'eval_steps_per_second': 21.591, 'epoch': 2.0}\n",
      "{'loss': 0.6337, 'grad_norm': 132.41455078125, 'learning_rate': 2.867012089810017e-06, 'epoch': 2.59}\n"
     ]
    },
    {
     "data": {
      "application/vnd.jupyter.widget-view+json": {
       "model_id": "84dc498393ce4a0fa754c7f2774deab2",
       "version_major": 2,
       "version_minor": 0
      },
      "text/plain": [
       "  0%|          | 0/22 [00:00<?, ?it/s]"
      ]
     },
     "metadata": {},
     "output_type": "display_data"
    },
    {
     "name": "stdout",
     "output_type": "stream",
     "text": [
      "{'eval_loss': 1.842817783355713, 'eval_runtime': 0.8945, 'eval_samples_per_second': 96.147, 'eval_steps_per_second': 24.596, 'epoch': 3.0}\n",
      "{'train_runtime': 119.1246, 'train_samples_per_second': 19.391, 'train_steps_per_second': 4.86, 'train_loss': 0.6161545801245075, 'epoch': 3.0}\n"
     ]
    },
    {
     "data": {
      "application/vnd.jupyter.widget-view+json": {
       "model_id": "51ebb8eb3197427789ae70b092e5e32d",
       "version_major": 2,
       "version_minor": 0
      },
      "text/plain": [
       "  0%|          | 0/22 [00:00<?, ?it/s]"
      ]
     },
     "metadata": {},
     "output_type": "display_data"
    },
    {
     "name": "stdout",
     "output_type": "stream",
     "text": [
      "F1 Score: 0.3590\n",
      "Training with lr=2e-05, batch_size=4, epochs=5\n",
      "Checkpoint missing or incomplete, starting training from scratch.\n"
     ]
    },
    {
     "data": {
      "application/vnd.jupyter.widget-view+json": {
       "model_id": "07b472d29e934b4ab3dd5e8b90aab343",
       "version_major": 2,
       "version_minor": 0
      },
      "text/plain": [
       "  0%|          | 0/965 [00:00<?, ?it/s]"
      ]
     },
     "metadata": {},
     "output_type": "display_data"
    },
    {
     "data": {
      "application/vnd.jupyter.widget-view+json": {
       "model_id": "b8a68c3af7184d828716b2d26c5410a4",
       "version_major": 2,
       "version_minor": 0
      },
      "text/plain": [
       "  0%|          | 0/22 [00:00<?, ?it/s]"
      ]
     },
     "metadata": {},
     "output_type": "display_data"
    },
    {
     "name": "stdout",
     "output_type": "stream",
     "text": [
      "{'eval_loss': 2.0485849380493164, 'eval_runtime': 1.0904, 'eval_samples_per_second': 78.87, 'eval_steps_per_second': 20.176, 'epoch': 1.0}\n"
     ]
    },
    {
     "data": {
      "application/vnd.jupyter.widget-view+json": {
       "model_id": "8cc19b3f48824fc489813a64f4077067",
       "version_major": 2,
       "version_minor": 0
      },
      "text/plain": [
       "  0%|          | 0/22 [00:00<?, ?it/s]"
      ]
     },
     "metadata": {},
     "output_type": "display_data"
    },
    {
     "name": "stdout",
     "output_type": "stream",
     "text": [
      "{'eval_loss': 1.6384098529815674, 'eval_runtime': 0.837, 'eval_samples_per_second': 102.744, 'eval_steps_per_second': 26.283, 'epoch': 2.0}\n",
      "{'loss': 0.5038, 'grad_norm': 0.06677847355604172, 'learning_rate': 9.761658031088083e-06, 'epoch': 2.59}\n"
     ]
    },
    {
     "data": {
      "application/vnd.jupyter.widget-view+json": {
       "model_id": "ad81ef88ff424df4aa56d8fe07da9751",
       "version_major": 2,
       "version_minor": 0
      },
      "text/plain": [
       "  0%|          | 0/22 [00:00<?, ?it/s]"
      ]
     },
     "metadata": {},
     "output_type": "display_data"
    },
    {
     "name": "stdout",
     "output_type": "stream",
     "text": [
      "{'eval_loss': 2.131734848022461, 'eval_runtime': 0.8335, 'eval_samples_per_second': 103.176, 'eval_steps_per_second': 26.394, 'epoch': 3.0}\n"
     ]
    },
    {
     "data": {
      "application/vnd.jupyter.widget-view+json": {
       "model_id": "712648c868d942e3a426d0ee2903a06f",
       "version_major": 2,
       "version_minor": 0
      },
      "text/plain": [
       "  0%|          | 0/22 [00:00<?, ?it/s]"
      ]
     },
     "metadata": {},
     "output_type": "display_data"
    },
    {
     "name": "stdout",
     "output_type": "stream",
     "text": [
      "{'eval_loss': 2.117330312728882, 'eval_runtime': 2.8098, 'eval_samples_per_second': 30.607, 'eval_steps_per_second': 7.83, 'epoch': 4.0}\n"
     ]
    },
    {
     "data": {
      "application/vnd.jupyter.widget-view+json": {
       "model_id": "c29308b6b7e9422c85a41ba2b86ed39c",
       "version_major": 2,
       "version_minor": 0
      },
      "text/plain": [
       "  0%|          | 0/22 [00:00<?, ?it/s]"
      ]
     },
     "metadata": {},
     "output_type": "display_data"
    },
    {
     "name": "stdout",
     "output_type": "stream",
     "text": [
      "{'eval_loss': 2.177220106124878, 'eval_runtime': 0.7272, 'eval_samples_per_second': 118.261, 'eval_steps_per_second': 30.253, 'epoch': 5.0}\n",
      "{'train_runtime': 208.9682, 'train_samples_per_second': 18.424, 'train_steps_per_second': 4.618, 'train_loss': 0.37891921601764894, 'epoch': 5.0}\n"
     ]
    },
    {
     "data": {
      "application/vnd.jupyter.widget-view+json": {
       "model_id": "ec201199693b4bffa412495693c54db4",
       "version_major": 2,
       "version_minor": 0
      },
      "text/plain": [
       "  0%|          | 0/22 [00:00<?, ?it/s]"
      ]
     },
     "metadata": {},
     "output_type": "display_data"
    },
    {
     "name": "stdout",
     "output_type": "stream",
     "text": [
      "F1 Score: 0.6708\n",
      "Training with lr=2e-05, batch_size=4, epochs=10\n",
      "Checkpoint missing or incomplete, starting training from scratch.\n"
     ]
    },
    {
     "data": {
      "application/vnd.jupyter.widget-view+json": {
       "model_id": "0131272fe1cd4207b6dca93e66ce12cd",
       "version_major": 2,
       "version_minor": 0
      },
      "text/plain": [
       "  0%|          | 0/1930 [00:00<?, ?it/s]"
      ]
     },
     "metadata": {},
     "output_type": "display_data"
    },
    {
     "data": {
      "application/vnd.jupyter.widget-view+json": {
       "model_id": "ced302e3c9db404290bfd43111bd4582",
       "version_major": 2,
       "version_minor": 0
      },
      "text/plain": [
       "  0%|          | 0/22 [00:00<?, ?it/s]"
      ]
     },
     "metadata": {},
     "output_type": "display_data"
    },
    {
     "name": "stdout",
     "output_type": "stream",
     "text": [
      "{'eval_loss': 3.526252508163452, 'eval_runtime': 0.8608, 'eval_samples_per_second': 99.905, 'eval_steps_per_second': 25.557, 'epoch': 1.0}\n"
     ]
    },
    {
     "data": {
      "application/vnd.jupyter.widget-view+json": {
       "model_id": "e8bdd3b823b44b7fb9a34a7c75bc901b",
       "version_major": 2,
       "version_minor": 0
      },
      "text/plain": [
       "  0%|          | 0/22 [00:00<?, ?it/s]"
      ]
     },
     "metadata": {},
     "output_type": "display_data"
    },
    {
     "name": "stdout",
     "output_type": "stream",
     "text": [
      "{'eval_loss': 3.1557552814483643, 'eval_runtime': 0.9726, 'eval_samples_per_second': 88.427, 'eval_steps_per_second': 22.621, 'epoch': 2.0}\n",
      "{'loss': 0.3637, 'grad_norm': 0.13887369632720947, 'learning_rate': 1.4891191709844561e-05, 'epoch': 2.59}\n"
     ]
    },
    {
     "data": {
      "application/vnd.jupyter.widget-view+json": {
       "model_id": "ba9b6fc011284074b85b3a97a97bbfb0",
       "version_major": 2,
       "version_minor": 0
      },
      "text/plain": [
       "  0%|          | 0/22 [00:00<?, ?it/s]"
      ]
     },
     "metadata": {},
     "output_type": "display_data"
    },
    {
     "name": "stdout",
     "output_type": "stream",
     "text": [
      "{'eval_loss': 2.005854368209839, 'eval_runtime': 0.8847, 'eval_samples_per_second': 97.208, 'eval_steps_per_second': 24.867, 'epoch': 3.0}\n"
     ]
    },
    {
     "data": {
      "application/vnd.jupyter.widget-view+json": {
       "model_id": "7a84fd7f171a4d04971e465255c6e886",
       "version_major": 2,
       "version_minor": 0
      },
      "text/plain": [
       "  0%|          | 0/22 [00:00<?, ?it/s]"
      ]
     },
     "metadata": {},
     "output_type": "display_data"
    },
    {
     "name": "stdout",
     "output_type": "stream",
     "text": [
      "{'eval_loss': 2.4389235973358154, 'eval_runtime': 1.1063, 'eval_samples_per_second': 77.735, 'eval_steps_per_second': 19.886, 'epoch': 4.0}\n"
     ]
    },
    {
     "data": {
      "application/vnd.jupyter.widget-view+json": {
       "model_id": "88ffae07758746c5a6aef0c2fa79f100",
       "version_major": 2,
       "version_minor": 0
      },
      "text/plain": [
       "  0%|          | 0/22 [00:00<?, ?it/s]"
      ]
     },
     "metadata": {},
     "output_type": "display_data"
    },
    {
     "name": "stdout",
     "output_type": "stream",
     "text": [
      "{'eval_loss': 2.0476882457733154, 'eval_runtime': 1.0457, 'eval_samples_per_second': 82.245, 'eval_steps_per_second': 21.039, 'epoch': 5.0}\n",
      "{'loss': 0.2351, 'grad_norm': 0.008012010715901852, 'learning_rate': 9.709844559585493e-06, 'epoch': 5.18}\n"
     ]
    },
    {
     "data": {
      "application/vnd.jupyter.widget-view+json": {
       "model_id": "d4d17b92e4644ad4830fbf5874f24635",
       "version_major": 2,
       "version_minor": 0
      },
      "text/plain": [
       "  0%|          | 0/22 [00:00<?, ?it/s]"
      ]
     },
     "metadata": {},
     "output_type": "display_data"
    },
    {
     "name": "stdout",
     "output_type": "stream",
     "text": [
      "{'eval_loss': 2.775815963745117, 'eval_runtime': 0.8383, 'eval_samples_per_second': 102.586, 'eval_steps_per_second': 26.243, 'epoch': 6.0}\n"
     ]
    },
    {
     "data": {
      "application/vnd.jupyter.widget-view+json": {
       "model_id": "06e0e45497e3465c8bd7964af11e12dc",
       "version_major": 2,
       "version_minor": 0
      },
      "text/plain": [
       "  0%|          | 0/22 [00:00<?, ?it/s]"
      ]
     },
     "metadata": {},
     "output_type": "display_data"
    },
    {
     "name": "stdout",
     "output_type": "stream",
     "text": [
      "{'eval_loss': 2.584737539291382, 'eval_runtime': 0.8517, 'eval_samples_per_second': 100.978, 'eval_steps_per_second': 25.832, 'epoch': 7.0}\n",
      "{'loss': 0.0701, 'grad_norm': 0.0038950066082179546, 'learning_rate': 4.528497409326425e-06, 'epoch': 7.77}\n"
     ]
    },
    {
     "data": {
      "application/vnd.jupyter.widget-view+json": {
       "model_id": "bd8edc952d9f4e5596907d9cc6f5be6b",
       "version_major": 2,
       "version_minor": 0
      },
      "text/plain": [
       "  0%|          | 0/22 [00:00<?, ?it/s]"
      ]
     },
     "metadata": {},
     "output_type": "display_data"
    },
    {
     "name": "stdout",
     "output_type": "stream",
     "text": [
      "{'eval_loss': 2.7857296466827393, 'eval_runtime': 0.8125, 'eval_samples_per_second': 105.845, 'eval_steps_per_second': 27.077, 'epoch': 8.0}\n"
     ]
    },
    {
     "data": {
      "application/vnd.jupyter.widget-view+json": {
       "model_id": "749bd78066dd49378db4ae98afb3bcca",
       "version_major": 2,
       "version_minor": 0
      },
      "text/plain": [
       "  0%|          | 0/22 [00:00<?, ?it/s]"
      ]
     },
     "metadata": {},
     "output_type": "display_data"
    },
    {
     "name": "stdout",
     "output_type": "stream",
     "text": [
      "{'eval_loss': 2.8408586978912354, 'eval_runtime': 0.8786, 'eval_samples_per_second': 97.88, 'eval_steps_per_second': 25.039, 'epoch': 9.0}\n"
     ]
    },
    {
     "data": {
      "application/vnd.jupyter.widget-view+json": {
       "model_id": "586dd20ee6ab4aa49d3e0c695352483b",
       "version_major": 2,
       "version_minor": 0
      },
      "text/plain": [
       "  0%|          | 0/22 [00:00<?, ?it/s]"
      ]
     },
     "metadata": {},
     "output_type": "display_data"
    },
    {
     "name": "stdout",
     "output_type": "stream",
     "text": [
      "{'eval_loss': 2.821669101715088, 'eval_runtime': 0.9166, 'eval_samples_per_second': 93.823, 'eval_steps_per_second': 24.001, 'epoch': 10.0}\n",
      "{'train_runtime': 400.691, 'train_samples_per_second': 19.217, 'train_steps_per_second': 4.817, 'train_loss': 0.1768448313283179, 'epoch': 10.0}\n"
     ]
    },
    {
     "data": {
      "application/vnd.jupyter.widget-view+json": {
       "model_id": "4c33d57c478b47f5882e2f813eb80e82",
       "version_major": 2,
       "version_minor": 0
      },
      "text/plain": [
       "  0%|          | 0/22 [00:00<?, ?it/s]"
      ]
     },
     "metadata": {},
     "output_type": "display_data"
    },
    {
     "name": "stdout",
     "output_type": "stream",
     "text": [
      "F1 Score: 0.6790\n",
      "Training with lr=2e-05, batch_size=8, epochs=3\n",
      "Checkpoint missing or incomplete, starting training from scratch.\n"
     ]
    },
    {
     "data": {
      "application/vnd.jupyter.widget-view+json": {
       "model_id": "f64405d2d9d044cca7cc483d288ed652",
       "version_major": 2,
       "version_minor": 0
      },
      "text/plain": [
       "  0%|          | 0/291 [00:00<?, ?it/s]"
      ]
     },
     "metadata": {},
     "output_type": "display_data"
    },
    {
     "data": {
      "application/vnd.jupyter.widget-view+json": {
       "model_id": "80563dc7c00b40dca47d2d3b9f9f1c07",
       "version_major": 2,
       "version_minor": 0
      },
      "text/plain": [
       "  0%|          | 0/11 [00:00<?, ?it/s]"
      ]
     },
     "metadata": {},
     "output_type": "display_data"
    },
    {
     "name": "stdout",
     "output_type": "stream",
     "text": [
      "{'eval_loss': 2.391613245010376, 'eval_runtime': 0.903, 'eval_samples_per_second': 95.238, 'eval_steps_per_second': 12.182, 'epoch': 1.0}\n"
     ]
    },
    {
     "data": {
      "application/vnd.jupyter.widget-view+json": {
       "model_id": "a356db7cc3e34176ac0327fed9ba08b7",
       "version_major": 2,
       "version_minor": 0
      },
      "text/plain": [
       "  0%|          | 0/11 [00:00<?, ?it/s]"
      ]
     },
     "metadata": {},
     "output_type": "display_data"
    },
    {
     "name": "stdout",
     "output_type": "stream",
     "text": [
      "{'eval_loss': 2.4315099716186523, 'eval_runtime': 0.6937, 'eval_samples_per_second': 123.981, 'eval_steps_per_second': 15.858, 'epoch': 2.0}\n"
     ]
    },
    {
     "data": {
      "application/vnd.jupyter.widget-view+json": {
       "model_id": "8b018fbf6de24423a03a422b22c7ef5f",
       "version_major": 2,
       "version_minor": 0
      },
      "text/plain": [
       "  0%|          | 0/11 [00:00<?, ?it/s]"
      ]
     },
     "metadata": {},
     "output_type": "display_data"
    },
    {
     "name": "stdout",
     "output_type": "stream",
     "text": [
      "{'eval_loss': 2.4436864852905273, 'eval_runtime': 0.7435, 'eval_samples_per_second': 115.666, 'eval_steps_per_second': 14.795, 'epoch': 3.0}\n",
      "{'train_runtime': 90.7385, 'train_samples_per_second': 25.458, 'train_steps_per_second': 3.207, 'train_loss': 0.19783202233593078, 'epoch': 3.0}\n"
     ]
    },
    {
     "data": {
      "application/vnd.jupyter.widget-view+json": {
       "model_id": "8b258d31669943e8af90b3b9e49b6d66",
       "version_major": 2,
       "version_minor": 0
      },
      "text/plain": [
       "  0%|          | 0/11 [00:00<?, ?it/s]"
      ]
     },
     "metadata": {},
     "output_type": "display_data"
    },
    {
     "name": "stdout",
     "output_type": "stream",
     "text": [
      "F1 Score: 0.5838\n",
      "Training with lr=2e-05, batch_size=8, epochs=5\n",
      "Checkpoint missing or incomplete, starting training from scratch.\n"
     ]
    },
    {
     "data": {
      "application/vnd.jupyter.widget-view+json": {
       "model_id": "822df824b1ee4b5695913f45ff0cc6f4",
       "version_major": 2,
       "version_minor": 0
      },
      "text/plain": [
       "  0%|          | 0/485 [00:00<?, ?it/s]"
      ]
     },
     "metadata": {},
     "output_type": "display_data"
    },
    {
     "data": {
      "application/vnd.jupyter.widget-view+json": {
       "model_id": "1eb98c5320354a07b551bbeab29cfd8c",
       "version_major": 2,
       "version_minor": 0
      },
      "text/plain": [
       "  0%|          | 0/11 [00:00<?, ?it/s]"
      ]
     },
     "metadata": {},
     "output_type": "display_data"
    },
    {
     "name": "stdout",
     "output_type": "stream",
     "text": [
      "{'eval_loss': 2.3645031452178955, 'eval_runtime': 0.7339, 'eval_samples_per_second': 117.178, 'eval_steps_per_second': 14.988, 'epoch': 1.0}\n"
     ]
    },
    {
     "data": {
      "application/vnd.jupyter.widget-view+json": {
       "model_id": "3423afd7e1064035a612cba3faa8ac7e",
       "version_major": 2,
       "version_minor": 0
      },
      "text/plain": [
       "  0%|          | 0/11 [00:00<?, ?it/s]"
      ]
     },
     "metadata": {},
     "output_type": "display_data"
    },
    {
     "name": "stdout",
     "output_type": "stream",
     "text": [
      "{'eval_loss': 2.5351402759552, 'eval_runtime': 0.7324, 'eval_samples_per_second': 117.429, 'eval_steps_per_second': 15.02, 'epoch': 2.0}\n"
     ]
    },
    {
     "data": {
      "application/vnd.jupyter.widget-view+json": {
       "model_id": "0527738a497944b1956ede331dde55cb",
       "version_major": 2,
       "version_minor": 0
      },
      "text/plain": [
       "  0%|          | 0/11 [00:00<?, ?it/s]"
      ]
     },
     "metadata": {},
     "output_type": "display_data"
    },
    {
     "name": "stdout",
     "output_type": "stream",
     "text": [
      "{'eval_loss': 2.5119197368621826, 'eval_runtime': 0.6656, 'eval_samples_per_second': 129.211, 'eval_steps_per_second': 16.527, 'epoch': 3.0}\n"
     ]
    },
    {
     "data": {
      "application/vnd.jupyter.widget-view+json": {
       "model_id": "aea8d8c62ccc46e4be314b6dd5981165",
       "version_major": 2,
       "version_minor": 0
      },
      "text/plain": [
       "  0%|          | 0/11 [00:00<?, ?it/s]"
      ]
     },
     "metadata": {},
     "output_type": "display_data"
    },
    {
     "name": "stdout",
     "output_type": "stream",
     "text": [
      "{'eval_loss': 2.7310681343078613, 'eval_runtime': 0.721, 'eval_samples_per_second': 119.275, 'eval_steps_per_second': 15.256, 'epoch': 4.0}\n"
     ]
    },
    {
     "data": {
      "application/vnd.jupyter.widget-view+json": {
       "model_id": "8fbdbf18f39140ceb6e2ab1cc0446d51",
       "version_major": 2,
       "version_minor": 0
      },
      "text/plain": [
       "  0%|          | 0/11 [00:00<?, ?it/s]"
      ]
     },
     "metadata": {},
     "output_type": "display_data"
    },
    {
     "name": "stdout",
     "output_type": "stream",
     "text": [
      "{'eval_loss': 2.739090919494629, 'eval_runtime': 0.763, 'eval_samples_per_second': 112.716, 'eval_steps_per_second': 14.417, 'epoch': 5.0}\n",
      "{'train_runtime': 148.1981, 'train_samples_per_second': 25.979, 'train_steps_per_second': 3.273, 'train_loss': 0.10418391276880638, 'epoch': 5.0}\n"
     ]
    },
    {
     "data": {
      "application/vnd.jupyter.widget-view+json": {
       "model_id": "60a7da8b44fd4b63a1b1e30ef0b29205",
       "version_major": 2,
       "version_minor": 0
      },
      "text/plain": [
       "  0%|          | 0/11 [00:00<?, ?it/s]"
      ]
     },
     "metadata": {},
     "output_type": "display_data"
    },
    {
     "name": "stdout",
     "output_type": "stream",
     "text": [
      "F1 Score: 0.6466\n",
      "Training with lr=2e-05, batch_size=8, epochs=10\n",
      "Checkpoint missing or incomplete, starting training from scratch.\n"
     ]
    },
    {
     "data": {
      "application/vnd.jupyter.widget-view+json": {
       "model_id": "2c7390b0b10649eca21509f1307831bb",
       "version_major": 2,
       "version_minor": 0
      },
      "text/plain": [
       "  0%|          | 0/970 [00:00<?, ?it/s]"
      ]
     },
     "metadata": {},
     "output_type": "display_data"
    },
    {
     "data": {
      "application/vnd.jupyter.widget-view+json": {
       "model_id": "d205b7a385af414e80d6253614e38650",
       "version_major": 2,
       "version_minor": 0
      },
      "text/plain": [
       "  0%|          | 0/11 [00:00<?, ?it/s]"
      ]
     },
     "metadata": {},
     "output_type": "display_data"
    },
    {
     "name": "stdout",
     "output_type": "stream",
     "text": [
      "{'eval_loss': 2.8795413970947266, 'eval_runtime': 0.7029, 'eval_samples_per_second': 122.345, 'eval_steps_per_second': 15.649, 'epoch': 1.0}\n"
     ]
    },
    {
     "data": {
      "application/vnd.jupyter.widget-view+json": {
       "model_id": "b8f0c54dae14475bb489ebed994a37fd",
       "version_major": 2,
       "version_minor": 0
      },
      "text/plain": [
       "  0%|          | 0/11 [00:00<?, ?it/s]"
      ]
     },
     "metadata": {},
     "output_type": "display_data"
    },
    {
     "name": "stdout",
     "output_type": "stream",
     "text": [
      "{'eval_loss': 2.4858617782592773, 'eval_runtime': 0.7211, 'eval_samples_per_second': 119.266, 'eval_steps_per_second': 15.255, 'epoch': 2.0}\n"
     ]
    },
    {
     "data": {
      "application/vnd.jupyter.widget-view+json": {
       "model_id": "7eb77b9e6cb14299aea72f2cd5c1ca59",
       "version_major": 2,
       "version_minor": 0
      },
      "text/plain": [
       "  0%|          | 0/11 [00:00<?, ?it/s]"
      ]
     },
     "metadata": {},
     "output_type": "display_data"
    },
    {
     "name": "stdout",
     "output_type": "stream",
     "text": [
      "{'eval_loss': 2.7025318145751953, 'eval_runtime': 0.7722, 'eval_samples_per_second': 111.366, 'eval_steps_per_second': 14.245, 'epoch': 3.0}\n"
     ]
    },
    {
     "data": {
      "application/vnd.jupyter.widget-view+json": {
       "model_id": "0e15f63442d748999ff14ab70d655d48",
       "version_major": 2,
       "version_minor": 0
      },
      "text/plain": [
       "  0%|          | 0/11 [00:00<?, ?it/s]"
      ]
     },
     "metadata": {},
     "output_type": "display_data"
    },
    {
     "name": "stdout",
     "output_type": "stream",
     "text": [
      "{'eval_loss': 3.13247013092041, 'eval_runtime': 0.7826, 'eval_samples_per_second': 109.892, 'eval_steps_per_second': 14.056, 'epoch': 4.0}\n"
     ]
    },
    {
     "data": {
      "application/vnd.jupyter.widget-view+json": {
       "model_id": "e5b339bf75fc4242bf70bc76eaa43c60",
       "version_major": 2,
       "version_minor": 0
      },
      "text/plain": [
       "  0%|          | 0/11 [00:00<?, ?it/s]"
      ]
     },
     "metadata": {},
     "output_type": "display_data"
    },
    {
     "name": "stdout",
     "output_type": "stream",
     "text": [
      "{'eval_loss': 2.8480849266052246, 'eval_runtime': 0.7071, 'eval_samples_per_second': 121.615, 'eval_steps_per_second': 15.555, 'epoch': 5.0}\n",
      "{'loss': 0.1242, 'grad_norm': 0.014332822524011135, 'learning_rate': 9.814432989690722e-06, 'epoch': 5.15}\n"
     ]
    },
    {
     "data": {
      "application/vnd.jupyter.widget-view+json": {
       "model_id": "653284bc932f4f80ad9dc3c7ee318521",
       "version_major": 2,
       "version_minor": 0
      },
      "text/plain": [
       "  0%|          | 0/11 [00:00<?, ?it/s]"
      ]
     },
     "metadata": {},
     "output_type": "display_data"
    },
    {
     "name": "stdout",
     "output_type": "stream",
     "text": [
      "{'eval_loss': 2.843940496444702, 'eval_runtime': 0.7462, 'eval_samples_per_second': 115.252, 'eval_steps_per_second': 14.742, 'epoch': 6.0}\n"
     ]
    },
    {
     "data": {
      "application/vnd.jupyter.widget-view+json": {
       "model_id": "63343b742e4946798ff6054a2f79fb17",
       "version_major": 2,
       "version_minor": 0
      },
      "text/plain": [
       "  0%|          | 0/11 [00:00<?, ?it/s]"
      ]
     },
     "metadata": {},
     "output_type": "display_data"
    },
    {
     "name": "stdout",
     "output_type": "stream",
     "text": [
      "{'eval_loss': 2.694211483001709, 'eval_runtime': 0.7564, 'eval_samples_per_second': 113.699, 'eval_steps_per_second': 14.543, 'epoch': 7.0}\n"
     ]
    },
    {
     "data": {
      "application/vnd.jupyter.widget-view+json": {
       "model_id": "ce4e4e20be134980b299fcf68f13f1d8",
       "version_major": 2,
       "version_minor": 0
      },
      "text/plain": [
       "  0%|          | 0/11 [00:00<?, ?it/s]"
      ]
     },
     "metadata": {},
     "output_type": "display_data"
    },
    {
     "name": "stdout",
     "output_type": "stream",
     "text": [
      "{'eval_loss': 2.822312355041504, 'eval_runtime': 0.738, 'eval_samples_per_second': 116.538, 'eval_steps_per_second': 14.906, 'epoch': 8.0}\n"
     ]
    },
    {
     "data": {
      "application/vnd.jupyter.widget-view+json": {
       "model_id": "d0dc09dcbc4c454f99433b67a1a17974",
       "version_major": 2,
       "version_minor": 0
      },
      "text/plain": [
       "  0%|          | 0/11 [00:00<?, ?it/s]"
      ]
     },
     "metadata": {},
     "output_type": "display_data"
    },
    {
     "name": "stdout",
     "output_type": "stream",
     "text": [
      "{'eval_loss': 2.8757829666137695, 'eval_runtime': 0.7456, 'eval_samples_per_second': 115.337, 'eval_steps_per_second': 14.752, 'epoch': 9.0}\n"
     ]
    },
    {
     "data": {
      "application/vnd.jupyter.widget-view+json": {
       "model_id": "a9553d95d83f4300b4692235c5406875",
       "version_major": 2,
       "version_minor": 0
      },
      "text/plain": [
       "  0%|          | 0/11 [00:00<?, ?it/s]"
      ]
     },
     "metadata": {},
     "output_type": "display_data"
    },
    {
     "name": "stdout",
     "output_type": "stream",
     "text": [
      "{'eval_loss': 2.919786214828491, 'eval_runtime': 0.8366, 'eval_samples_per_second': 102.799, 'eval_steps_per_second': 13.149, 'epoch': 10.0}\n",
      "{'train_runtime': 304.9955, 'train_samples_per_second': 25.246, 'train_steps_per_second': 3.18, 'train_loss': 0.07569297220289092, 'epoch': 10.0}\n"
     ]
    },
    {
     "data": {
      "application/vnd.jupyter.widget-view+json": {
       "model_id": "0e232e9255b7449ab7b5dc5f52e2e632",
       "version_major": 2,
       "version_minor": 0
      },
      "text/plain": [
       "  0%|          | 0/11 [00:00<?, ?it/s]"
      ]
     },
     "metadata": {},
     "output_type": "display_data"
    },
    {
     "name": "stdout",
     "output_type": "stream",
     "text": [
      "F1 Score: 0.6031\n",
      "Training with lr=2e-05, batch_size=16, epochs=3\n",
      "Checkpoint missing or incomplete, starting training from scratch.\n"
     ]
    },
    {
     "data": {
      "application/vnd.jupyter.widget-view+json": {
       "model_id": "aac57d30780847ab9e0efaf61542a214",
       "version_major": 2,
       "version_minor": 0
      },
      "text/plain": [
       "  0%|          | 0/147 [00:00<?, ?it/s]"
      ]
     },
     "metadata": {},
     "output_type": "display_data"
    },
    {
     "data": {
      "application/vnd.jupyter.widget-view+json": {
       "model_id": "3388ac60769a4115a6152a830c25770e",
       "version_major": 2,
       "version_minor": 0
      },
      "text/plain": [
       "  0%|          | 0/6 [00:00<?, ?it/s]"
      ]
     },
     "metadata": {},
     "output_type": "display_data"
    },
    {
     "name": "stdout",
     "output_type": "stream",
     "text": [
      "{'eval_loss': 2.6835763454437256, 'eval_runtime': 1.6049, 'eval_samples_per_second': 53.585, 'eval_steps_per_second': 3.738, 'epoch': 1.0}\n"
     ]
    },
    {
     "data": {
      "application/vnd.jupyter.widget-view+json": {
       "model_id": "82a767d5db1a4d11b1ca36a124af4f29",
       "version_major": 2,
       "version_minor": 0
      },
      "text/plain": [
       "  0%|          | 0/6 [00:00<?, ?it/s]"
      ]
     },
     "metadata": {},
     "output_type": "display_data"
    },
    {
     "name": "stdout",
     "output_type": "stream",
     "text": [
      "{'eval_loss': 2.334717273712158, 'eval_runtime': 0.6995, 'eval_samples_per_second': 122.952, 'eval_steps_per_second': 8.578, 'epoch': 2.0}\n"
     ]
    },
    {
     "data": {
      "application/vnd.jupyter.widget-view+json": {
       "model_id": "2881e3fb9db74dd88d823fd630e49d2e",
       "version_major": 2,
       "version_minor": 0
      },
      "text/plain": [
       "  0%|          | 0/6 [00:00<?, ?it/s]"
      ]
     },
     "metadata": {},
     "output_type": "display_data"
    },
    {
     "name": "stdout",
     "output_type": "stream",
     "text": [
      "{'eval_loss': 2.467144250869751, 'eval_runtime': 1.0356, 'eval_samples_per_second': 83.045, 'eval_steps_per_second': 5.794, 'epoch': 3.0}\n",
      "{'train_runtime': 92.0976, 'train_samples_per_second': 25.082, 'train_steps_per_second': 1.596, 'train_loss': 0.10536265211040471, 'epoch': 3.0}\n"
     ]
    },
    {
     "data": {
      "application/vnd.jupyter.widget-view+json": {
       "model_id": "3785a56a627449f9852b7edc0ce861ff",
       "version_major": 2,
       "version_minor": 0
      },
      "text/plain": [
       "  0%|          | 0/6 [00:00<?, ?it/s]"
      ]
     },
     "metadata": {},
     "output_type": "display_data"
    },
    {
     "name": "stdout",
     "output_type": "stream",
     "text": [
      "F1 Score: 0.6640\n",
      "Training with lr=2e-05, batch_size=16, epochs=5\n",
      "Checkpoint missing or incomplete, starting training from scratch.\n"
     ]
    },
    {
     "data": {
      "application/vnd.jupyter.widget-view+json": {
       "model_id": "9e1cdf38ae6746ba9b2b465328888a21",
       "version_major": 2,
       "version_minor": 0
      },
      "text/plain": [
       "  0%|          | 0/245 [00:00<?, ?it/s]"
      ]
     },
     "metadata": {},
     "output_type": "display_data"
    },
    {
     "data": {
      "application/vnd.jupyter.widget-view+json": {
       "model_id": "608cf4e421db4729a15b6d4214e64e45",
       "version_major": 2,
       "version_minor": 0
      },
      "text/plain": [
       "  0%|          | 0/6 [00:00<?, ?it/s]"
      ]
     },
     "metadata": {},
     "output_type": "display_data"
    },
    {
     "name": "stdout",
     "output_type": "stream",
     "text": [
      "{'eval_loss': 3.282602310180664, 'eval_runtime': 0.6321, 'eval_samples_per_second': 136.047, 'eval_steps_per_second': 9.492, 'epoch': 1.0}\n"
     ]
    },
    {
     "data": {
      "application/vnd.jupyter.widget-view+json": {
       "model_id": "ddf42c9d07f74b9fb3f27e3129bd86d5",
       "version_major": 2,
       "version_minor": 0
      },
      "text/plain": [
       "  0%|          | 0/6 [00:00<?, ?it/s]"
      ]
     },
     "metadata": {},
     "output_type": "display_data"
    },
    {
     "name": "stdout",
     "output_type": "stream",
     "text": [
      "{'eval_loss': 3.759979009628296, 'eval_runtime': 0.6202, 'eval_samples_per_second': 138.668, 'eval_steps_per_second': 9.675, 'epoch': 2.0}\n"
     ]
    },
    {
     "data": {
      "application/vnd.jupyter.widget-view+json": {
       "model_id": "63b0be363947424886595b479d0a5f47",
       "version_major": 2,
       "version_minor": 0
      },
      "text/plain": [
       "  0%|          | 0/6 [00:00<?, ?it/s]"
      ]
     },
     "metadata": {},
     "output_type": "display_data"
    },
    {
     "name": "stdout",
     "output_type": "stream",
     "text": [
      "{'eval_loss': 3.029068946838379, 'eval_runtime': 0.6122, 'eval_samples_per_second': 140.47, 'eval_steps_per_second': 9.8, 'epoch': 3.0}\n"
     ]
    },
    {
     "data": {
      "application/vnd.jupyter.widget-view+json": {
       "model_id": "61e394f9280d44388f230b4038302694",
       "version_major": 2,
       "version_minor": 0
      },
      "text/plain": [
       "  0%|          | 0/6 [00:00<?, ?it/s]"
      ]
     },
     "metadata": {},
     "output_type": "display_data"
    },
    {
     "name": "stdout",
     "output_type": "stream",
     "text": [
      "{'eval_loss': 3.222646713256836, 'eval_runtime': 0.7977, 'eval_samples_per_second': 107.803, 'eval_steps_per_second': 7.521, 'epoch': 4.0}\n"
     ]
    },
    {
     "data": {
      "application/vnd.jupyter.widget-view+json": {
       "model_id": "ded432a8a3f14bb5b7e733d5fdb7916e",
       "version_major": 2,
       "version_minor": 0
      },
      "text/plain": [
       "  0%|          | 0/6 [00:00<?, ?it/s]"
      ]
     },
     "metadata": {},
     "output_type": "display_data"
    },
    {
     "name": "stdout",
     "output_type": "stream",
     "text": [
      "{'eval_loss': 3.041208028793335, 'eval_runtime': 0.7882, 'eval_samples_per_second': 109.113, 'eval_steps_per_second': 7.613, 'epoch': 5.0}\n",
      "{'train_runtime': 140.7015, 'train_samples_per_second': 27.363, 'train_steps_per_second': 1.741, 'train_loss': 0.05770637745759925, 'epoch': 5.0}\n"
     ]
    },
    {
     "data": {
      "application/vnd.jupyter.widget-view+json": {
       "model_id": "fdbab9c43bb04728908ac9658f84a222",
       "version_major": 2,
       "version_minor": 0
      },
      "text/plain": [
       "  0%|          | 0/6 [00:00<?, ?it/s]"
      ]
     },
     "metadata": {},
     "output_type": "display_data"
    },
    {
     "name": "stdout",
     "output_type": "stream",
     "text": [
      "F1 Score: 0.6438\n",
      "Training with lr=2e-05, batch_size=16, epochs=10\n",
      "Checkpoint missing or incomplete, starting training from scratch.\n"
     ]
    },
    {
     "data": {
      "application/vnd.jupyter.widget-view+json": {
       "model_id": "b860af63a528439bac9bab228f7f4e51",
       "version_major": 2,
       "version_minor": 0
      },
      "text/plain": [
       "  0%|          | 0/490 [00:00<?, ?it/s]"
      ]
     },
     "metadata": {},
     "output_type": "display_data"
    },
    {
     "data": {
      "application/vnd.jupyter.widget-view+json": {
       "model_id": "0f08363b56e64a358dec4b0665bed0a5",
       "version_major": 2,
       "version_minor": 0
      },
      "text/plain": [
       "  0%|          | 0/6 [00:00<?, ?it/s]"
      ]
     },
     "metadata": {},
     "output_type": "display_data"
    },
    {
     "name": "stdout",
     "output_type": "stream",
     "text": [
      "{'eval_loss': 3.696540594100952, 'eval_runtime': 0.6039, 'eval_samples_per_second': 142.406, 'eval_steps_per_second': 9.935, 'epoch': 1.0}\n"
     ]
    },
    {
     "data": {
      "application/vnd.jupyter.widget-view+json": {
       "model_id": "1f5fc506a4ba4d20b0ef9a2d02e7bced",
       "version_major": 2,
       "version_minor": 0
      },
      "text/plain": [
       "  0%|          | 0/6 [00:00<?, ?it/s]"
      ]
     },
     "metadata": {},
     "output_type": "display_data"
    },
    {
     "name": "stdout",
     "output_type": "stream",
     "text": [
      "{'eval_loss': 3.4109387397766113, 'eval_runtime': 0.5813, 'eval_samples_per_second': 147.94, 'eval_steps_per_second': 10.321, 'epoch': 2.0}\n"
     ]
    },
    {
     "data": {
      "application/vnd.jupyter.widget-view+json": {
       "model_id": "144fe4642733455c90f060923a4e0843",
       "version_major": 2,
       "version_minor": 0
      },
      "text/plain": [
       "  0%|          | 0/6 [00:00<?, ?it/s]"
      ]
     },
     "metadata": {},
     "output_type": "display_data"
    },
    {
     "name": "stdout",
     "output_type": "stream",
     "text": [
      "{'eval_loss': 3.0103869438171387, 'eval_runtime': 0.6, 'eval_samples_per_second': 143.342, 'eval_steps_per_second': 10.001, 'epoch': 3.0}\n"
     ]
    },
    {
     "data": {
      "application/vnd.jupyter.widget-view+json": {
       "model_id": "03b5ef3c2ade44c994385b7f5e6b9672",
       "version_major": 2,
       "version_minor": 0
      },
      "text/plain": [
       "  0%|          | 0/6 [00:00<?, ?it/s]"
      ]
     },
     "metadata": {},
     "output_type": "display_data"
    },
    {
     "name": "stdout",
     "output_type": "stream",
     "text": [
      "{'eval_loss': 3.3079404830932617, 'eval_runtime': 0.6956, 'eval_samples_per_second': 123.629, 'eval_steps_per_second': 8.625, 'epoch': 4.0}\n"
     ]
    },
    {
     "data": {
      "application/vnd.jupyter.widget-view+json": {
       "model_id": "03b6b96996a548b8998ca223f6332b78",
       "version_major": 2,
       "version_minor": 0
      },
      "text/plain": [
       "  0%|          | 0/6 [00:00<?, ?it/s]"
      ]
     },
     "metadata": {},
     "output_type": "display_data"
    },
    {
     "name": "stdout",
     "output_type": "stream",
     "text": [
      "{'eval_loss': 2.828547239303589, 'eval_runtime': 0.6588, 'eval_samples_per_second': 130.537, 'eval_steps_per_second': 9.107, 'epoch': 5.0}\n"
     ]
    },
    {
     "data": {
      "application/vnd.jupyter.widget-view+json": {
       "model_id": "5f13e50dad80443eacc872285c1638cb",
       "version_major": 2,
       "version_minor": 0
      },
      "text/plain": [
       "  0%|          | 0/6 [00:00<?, ?it/s]"
      ]
     },
     "metadata": {},
     "output_type": "display_data"
    },
    {
     "name": "stdout",
     "output_type": "stream",
     "text": [
      "{'eval_loss': 2.89638352394104, 'eval_runtime': 0.655, 'eval_samples_per_second': 131.293, 'eval_steps_per_second': 9.16, 'epoch': 6.0}\n"
     ]
    },
    {
     "data": {
      "application/vnd.jupyter.widget-view+json": {
       "model_id": "be946d1a7e73424e990dce7f50c1a2ae",
       "version_major": 2,
       "version_minor": 0
      },
      "text/plain": [
       "  0%|          | 0/6 [00:00<?, ?it/s]"
      ]
     },
     "metadata": {},
     "output_type": "display_data"
    },
    {
     "name": "stdout",
     "output_type": "stream",
     "text": [
      "{'eval_loss': 3.0638186931610107, 'eval_runtime': 0.6899, 'eval_samples_per_second': 124.659, 'eval_steps_per_second': 8.697, 'epoch': 7.0}\n"
     ]
    },
    {
     "data": {
      "application/vnd.jupyter.widget-view+json": {
       "model_id": "c8e0b7f3d00d4facb5b598f235b26a72",
       "version_major": 2,
       "version_minor": 0
      },
      "text/plain": [
       "  0%|          | 0/6 [00:00<?, ?it/s]"
      ]
     },
     "metadata": {},
     "output_type": "display_data"
    },
    {
     "name": "stdout",
     "output_type": "stream",
     "text": [
      "{'eval_loss': 2.897747278213501, 'eval_runtime': 0.6933, 'eval_samples_per_second': 124.048, 'eval_steps_per_second': 8.655, 'epoch': 8.0}\n"
     ]
    },
    {
     "data": {
      "application/vnd.jupyter.widget-view+json": {
       "model_id": "457e310497154855b2253900453d94a1",
       "version_major": 2,
       "version_minor": 0
      },
      "text/plain": [
       "  0%|          | 0/6 [00:00<?, ?it/s]"
      ]
     },
     "metadata": {},
     "output_type": "display_data"
    },
    {
     "name": "stdout",
     "output_type": "stream",
     "text": [
      "{'eval_loss': 2.961782455444336, 'eval_runtime': 0.6516, 'eval_samples_per_second': 131.982, 'eval_steps_per_second': 9.208, 'epoch': 9.0}\n"
     ]
    },
    {
     "data": {
      "application/vnd.jupyter.widget-view+json": {
       "model_id": "2836768797704c7c99487c2eea521011",
       "version_major": 2,
       "version_minor": 0
      },
      "text/plain": [
       "  0%|          | 0/6 [00:00<?, ?it/s]"
      ]
     },
     "metadata": {},
     "output_type": "display_data"
    },
    {
     "name": "stdout",
     "output_type": "stream",
     "text": [
      "{'eval_loss': 3.0412468910217285, 'eval_runtime': 0.7267, 'eval_samples_per_second': 118.349, 'eval_steps_per_second': 8.257, 'epoch': 10.0}\n",
      "{'train_runtime': 267.4342, 'train_samples_per_second': 28.792, 'train_steps_per_second': 1.832, 'train_loss': 0.04114736050975566, 'epoch': 10.0}\n"
     ]
    },
    {
     "data": {
      "application/vnd.jupyter.widget-view+json": {
       "model_id": "97a011423a624d1facf2d3065c4fcd1c",
       "version_major": 2,
       "version_minor": 0
      },
      "text/plain": [
       "  0%|          | 0/6 [00:00<?, ?it/s]"
      ]
     },
     "metadata": {},
     "output_type": "display_data"
    },
    {
     "name": "stdout",
     "output_type": "stream",
     "text": [
      "F1 Score: 0.6390\n",
      "Training with lr=5e-05, batch_size=4, epochs=3\n",
      "Checkpoint missing or incomplete, starting training from scratch.\n"
     ]
    },
    {
     "data": {
      "application/vnd.jupyter.widget-view+json": {
       "model_id": "cfe18088a33e4f5b97c7a5fb523b95b1",
       "version_major": 2,
       "version_minor": 0
      },
      "text/plain": [
       "  0%|          | 0/579 [00:00<?, ?it/s]"
      ]
     },
     "metadata": {},
     "output_type": "display_data"
    },
    {
     "data": {
      "application/vnd.jupyter.widget-view+json": {
       "model_id": "60261b4d821146539a644df90e3283e7",
       "version_major": 2,
       "version_minor": 0
      },
      "text/plain": [
       "  0%|          | 0/22 [00:00<?, ?it/s]"
      ]
     },
     "metadata": {},
     "output_type": "display_data"
    },
    {
     "name": "stdout",
     "output_type": "stream",
     "text": [
      "{'eval_loss': 2.500368595123291, 'eval_runtime': 0.9194, 'eval_samples_per_second': 93.542, 'eval_steps_per_second': 23.929, 'epoch': 1.0}\n"
     ]
    },
    {
     "data": {
      "application/vnd.jupyter.widget-view+json": {
       "model_id": "f3ae1abe5a70422d8eb092161be90a6e",
       "version_major": 2,
       "version_minor": 0
      },
      "text/plain": [
       "  0%|          | 0/22 [00:00<?, ?it/s]"
      ]
     },
     "metadata": {},
     "output_type": "display_data"
    },
    {
     "name": "stdout",
     "output_type": "stream",
     "text": [
      "{'eval_loss': 2.851759195327759, 'eval_runtime': 0.9756, 'eval_samples_per_second': 88.148, 'eval_steps_per_second': 22.55, 'epoch': 2.0}\n",
      "{'loss': 0.3354, 'grad_norm': 0.281515896320343, 'learning_rate': 7.426597582037997e-06, 'epoch': 2.59}\n"
     ]
    },
    {
     "data": {
      "application/vnd.jupyter.widget-view+json": {
       "model_id": "90824b564eb24e57a8584d7a51d57b42",
       "version_major": 2,
       "version_minor": 0
      },
      "text/plain": [
       "  0%|          | 0/22 [00:00<?, ?it/s]"
      ]
     },
     "metadata": {},
     "output_type": "display_data"
    },
    {
     "name": "stdout",
     "output_type": "stream",
     "text": [
      "{'eval_loss': 3.244701385498047, 'eval_runtime': 0.9427, 'eval_samples_per_second': 91.228, 'eval_steps_per_second': 23.337, 'epoch': 3.0}\n",
      "{'train_runtime': 130.2671, 'train_samples_per_second': 17.733, 'train_steps_per_second': 4.445, 'train_loss': 0.298596535321962, 'epoch': 3.0}\n"
     ]
    },
    {
     "data": {
      "application/vnd.jupyter.widget-view+json": {
       "model_id": "09ed2b7491d84fb499a931e6bbcfc155",
       "version_major": 2,
       "version_minor": 0
      },
      "text/plain": [
       "  0%|          | 0/22 [00:00<?, ?it/s]"
      ]
     },
     "metadata": {},
     "output_type": "display_data"
    },
    {
     "name": "stdout",
     "output_type": "stream",
     "text": [
      "F1 Score: 0.5563\n",
      "Training with lr=5e-05, batch_size=4, epochs=5\n",
      "Checkpoint missing or incomplete, starting training from scratch.\n"
     ]
    },
    {
     "data": {
      "application/vnd.jupyter.widget-view+json": {
       "model_id": "c366b70e57f34a92a9bce6ccde263640",
       "version_major": 2,
       "version_minor": 0
      },
      "text/plain": [
       "  0%|          | 0/965 [00:00<?, ?it/s]"
      ]
     },
     "metadata": {},
     "output_type": "display_data"
    },
    {
     "data": {
      "application/vnd.jupyter.widget-view+json": {
       "model_id": "1eabe0299c8e4042b32bcecb6dd23987",
       "version_major": 2,
       "version_minor": 0
      },
      "text/plain": [
       "  0%|          | 0/22 [00:00<?, ?it/s]"
      ]
     },
     "metadata": {},
     "output_type": "display_data"
    },
    {
     "name": "stdout",
     "output_type": "stream",
     "text": [
      "{'eval_loss': 2.928293228149414, 'eval_runtime': 1.0638, 'eval_samples_per_second': 80.843, 'eval_steps_per_second': 20.681, 'epoch': 1.0}\n"
     ]
    },
    {
     "data": {
      "application/vnd.jupyter.widget-view+json": {
       "model_id": "b0d7d8b300034ed297625f43953c7a15",
       "version_major": 2,
       "version_minor": 0
      },
      "text/plain": [
       "  0%|          | 0/22 [00:00<?, ?it/s]"
      ]
     },
     "metadata": {},
     "output_type": "display_data"
    },
    {
     "name": "stdout",
     "output_type": "stream",
     "text": [
      "{'eval_loss': 2.616670846939087, 'eval_runtime': 1.3003, 'eval_samples_per_second': 66.137, 'eval_steps_per_second': 16.919, 'epoch': 2.0}\n",
      "{'loss': 0.4229, 'grad_norm': 621.6380615234375, 'learning_rate': 2.44559585492228e-05, 'epoch': 2.59}\n"
     ]
    },
    {
     "data": {
      "application/vnd.jupyter.widget-view+json": {
       "model_id": "98f5b660c70f497dab9ef8a349fb0be7",
       "version_major": 2,
       "version_minor": 0
      },
      "text/plain": [
       "  0%|          | 0/22 [00:00<?, ?it/s]"
      ]
     },
     "metadata": {},
     "output_type": "display_data"
    },
    {
     "name": "stdout",
     "output_type": "stream",
     "text": [
      "{'eval_loss': 3.077011823654175, 'eval_runtime': 0.8741, 'eval_samples_per_second': 98.385, 'eval_steps_per_second': 25.168, 'epoch': 3.0}\n"
     ]
    },
    {
     "data": {
      "application/vnd.jupyter.widget-view+json": {
       "model_id": "d649799542c14f428bf1bd2c6193e6b8",
       "version_major": 2,
       "version_minor": 0
      },
      "text/plain": [
       "  0%|          | 0/22 [00:00<?, ?it/s]"
      ]
     },
     "metadata": {},
     "output_type": "display_data"
    },
    {
     "name": "stdout",
     "output_type": "stream",
     "text": [
      "{'eval_loss': 2.5373239517211914, 'eval_runtime': 0.9177, 'eval_samples_per_second': 93.713, 'eval_steps_per_second': 23.973, 'epoch': 4.0}\n"
     ]
    },
    {
     "data": {
      "application/vnd.jupyter.widget-view+json": {
       "model_id": "e06e6a54809747dfbf7a1524b17f1e4f",
       "version_major": 2,
       "version_minor": 0
      },
      "text/plain": [
       "  0%|          | 0/22 [00:00<?, ?it/s]"
      ]
     },
     "metadata": {},
     "output_type": "display_data"
    },
    {
     "name": "stdout",
     "output_type": "stream",
     "text": [
      "{'eval_loss': 2.9067559242248535, 'eval_runtime': 0.9746, 'eval_samples_per_second': 88.238, 'eval_steps_per_second': 22.572, 'epoch': 5.0}\n",
      "{'train_runtime': 208.3571, 'train_samples_per_second': 18.478, 'train_steps_per_second': 4.631, 'train_loss': 0.270900643304222, 'epoch': 5.0}\n"
     ]
    },
    {
     "data": {
      "application/vnd.jupyter.widget-view+json": {
       "model_id": "bc315df1ca1c4f6b917c4f4e9b7c9a7a",
       "version_major": 2,
       "version_minor": 0
      },
      "text/plain": [
       "  0%|          | 0/22 [00:00<?, ?it/s]"
      ]
     },
     "metadata": {},
     "output_type": "display_data"
    },
    {
     "name": "stdout",
     "output_type": "stream",
     "text": [
      "F1 Score: 0.6477\n",
      "Training with lr=5e-05, batch_size=4, epochs=10\n",
      "Checkpoint missing or incomplete, starting training from scratch.\n"
     ]
    },
    {
     "data": {
      "application/vnd.jupyter.widget-view+json": {
       "model_id": "d90a367fa70d48d6bddef4e461b48662",
       "version_major": 2,
       "version_minor": 0
      },
      "text/plain": [
       "  0%|          | 0/1930 [00:00<?, ?it/s]"
      ]
     },
     "metadata": {},
     "output_type": "display_data"
    },
    {
     "data": {
      "application/vnd.jupyter.widget-view+json": {
       "model_id": "b293b6cb8b724de491b622f8e10ae134",
       "version_major": 2,
       "version_minor": 0
      },
      "text/plain": [
       "  0%|          | 0/22 [00:00<?, ?it/s]"
      ]
     },
     "metadata": {},
     "output_type": "display_data"
    },
    {
     "name": "stdout",
     "output_type": "stream",
     "text": [
      "{'eval_loss': 2.4476587772369385, 'eval_runtime': 0.8987, 'eval_samples_per_second': 95.691, 'eval_steps_per_second': 24.479, 'epoch': 1.0}\n"
     ]
    },
    {
     "data": {
      "application/vnd.jupyter.widget-view+json": {
       "model_id": "fe94481a52f147768b5c83b49774d6e3",
       "version_major": 2,
       "version_minor": 0
      },
      "text/plain": [
       "  0%|          | 0/22 [00:00<?, ?it/s]"
      ]
     },
     "metadata": {},
     "output_type": "display_data"
    },
    {
     "name": "stdout",
     "output_type": "stream",
     "text": [
      "{'eval_loss': 2.558213710784912, 'eval_runtime': 0.8536, 'eval_samples_per_second': 100.748, 'eval_steps_per_second': 25.773, 'epoch': 2.0}\n",
      "{'loss': 0.4515, 'grad_norm': 378.677978515625, 'learning_rate': 3.72279792746114e-05, 'epoch': 2.59}\n"
     ]
    },
    {
     "data": {
      "application/vnd.jupyter.widget-view+json": {
       "model_id": "b6046ebecc174137a10f99f69d69da72",
       "version_major": 2,
       "version_minor": 0
      },
      "text/plain": [
       "  0%|          | 0/22 [00:00<?, ?it/s]"
      ]
     },
     "metadata": {},
     "output_type": "display_data"
    },
    {
     "name": "stdout",
     "output_type": "stream",
     "text": [
      "{'eval_loss': 3.1990349292755127, 'eval_runtime': 0.9214, 'eval_samples_per_second': 93.339, 'eval_steps_per_second': 23.878, 'epoch': 3.0}\n"
     ]
    },
    {
     "data": {
      "application/vnd.jupyter.widget-view+json": {
       "model_id": "6f48b4ba2ce6427d8181d8c4f8f9a470",
       "version_major": 2,
       "version_minor": 0
      },
      "text/plain": [
       "  0%|          | 0/22 [00:00<?, ?it/s]"
      ]
     },
     "metadata": {},
     "output_type": "display_data"
    },
    {
     "name": "stdout",
     "output_type": "stream",
     "text": [
      "{'eval_loss': 2.467186212539673, 'eval_runtime': 0.8991, 'eval_samples_per_second': 95.652, 'eval_steps_per_second': 24.469, 'epoch': 4.0}\n"
     ]
    },
    {
     "data": {
      "application/vnd.jupyter.widget-view+json": {
       "model_id": "1bfe17690d674e1f8b0858c819e1ba74",
       "version_major": 2,
       "version_minor": 0
      },
      "text/plain": [
       "  0%|          | 0/22 [00:00<?, ?it/s]"
      ]
     },
     "metadata": {},
     "output_type": "display_data"
    },
    {
     "name": "stdout",
     "output_type": "stream",
     "text": [
      "{'eval_loss': 2.5497775077819824, 'eval_runtime': 0.8863, 'eval_samples_per_second': 97.037, 'eval_steps_per_second': 24.823, 'epoch': 5.0}\n",
      "{'loss': 0.2027, 'grad_norm': 0.002844100119546056, 'learning_rate': 2.4274611398963733e-05, 'epoch': 5.18}\n"
     ]
    },
    {
     "data": {
      "application/vnd.jupyter.widget-view+json": {
       "model_id": "1311439648cd413c8105525080362dba",
       "version_major": 2,
       "version_minor": 0
      },
      "text/plain": [
       "  0%|          | 0/22 [00:00<?, ?it/s]"
      ]
     },
     "metadata": {},
     "output_type": "display_data"
    },
    {
     "name": "stdout",
     "output_type": "stream",
     "text": [
      "{'eval_loss': 2.739039897918701, 'eval_runtime': 0.9122, 'eval_samples_per_second': 94.273, 'eval_steps_per_second': 24.116, 'epoch': 6.0}\n"
     ]
    },
    {
     "data": {
      "application/vnd.jupyter.widget-view+json": {
       "model_id": "e2303c0c4c8f43949582810c539f5491",
       "version_major": 2,
       "version_minor": 0
      },
      "text/plain": [
       "  0%|          | 0/22 [00:00<?, ?it/s]"
      ]
     },
     "metadata": {},
     "output_type": "display_data"
    },
    {
     "name": "stdout",
     "output_type": "stream",
     "text": [
      "{'eval_loss': 2.991826295852661, 'eval_runtime': 0.905, 'eval_samples_per_second': 95.032, 'eval_steps_per_second': 24.31, 'epoch': 7.0}\n",
      "{'loss': 0.0576, 'grad_norm': 0.002259474713355303, 'learning_rate': 1.1347150259067358e-05, 'epoch': 7.77}\n"
     ]
    },
    {
     "data": {
      "application/vnd.jupyter.widget-view+json": {
       "model_id": "3d76661615394fbb9abf4f0303b0b8b3",
       "version_major": 2,
       "version_minor": 0
      },
      "text/plain": [
       "  0%|          | 0/22 [00:00<?, ?it/s]"
      ]
     },
     "metadata": {},
     "output_type": "display_data"
    },
    {
     "name": "stdout",
     "output_type": "stream",
     "text": [
      "{'eval_loss': 3.0405755043029785, 'eval_runtime': 0.8933, 'eval_samples_per_second': 96.273, 'eval_steps_per_second': 24.628, 'epoch': 8.0}\n"
     ]
    },
    {
     "data": {
      "application/vnd.jupyter.widget-view+json": {
       "model_id": "afba1f9c049e4a62b6db46b960875ce6",
       "version_major": 2,
       "version_minor": 0
      },
      "text/plain": [
       "  0%|          | 0/22 [00:00<?, ?it/s]"
      ]
     },
     "metadata": {},
     "output_type": "display_data"
    },
    {
     "name": "stdout",
     "output_type": "stream",
     "text": [
      "{'eval_loss': 2.8035707473754883, 'eval_runtime': 1.0905, 'eval_samples_per_second': 78.866, 'eval_steps_per_second': 20.175, 'epoch': 9.0}\n"
     ]
    },
    {
     "data": {
      "application/vnd.jupyter.widget-view+json": {
       "model_id": "ca8536c5d2fc4ae999b4563fddcd7521",
       "version_major": 2,
       "version_minor": 0
      },
      "text/plain": [
       "  0%|          | 0/22 [00:00<?, ?it/s]"
      ]
     },
     "metadata": {},
     "output_type": "display_data"
    },
    {
     "name": "stdout",
     "output_type": "stream",
     "text": [
      "{'eval_loss': 2.8159048557281494, 'eval_runtime': 0.9727, 'eval_samples_per_second': 88.417, 'eval_steps_per_second': 22.618, 'epoch': 10.0}\n",
      "{'train_runtime': 407.3795, 'train_samples_per_second': 18.901, 'train_steps_per_second': 4.738, 'train_loss': 0.1906028164483105, 'epoch': 10.0}\n"
     ]
    },
    {
     "data": {
      "application/vnd.jupyter.widget-view+json": {
       "model_id": "81ddf81ad4da4696ba975851973fd4b7",
       "version_major": 2,
       "version_minor": 0
      },
      "text/plain": [
       "  0%|          | 0/22 [00:00<?, ?it/s]"
      ]
     },
     "metadata": {},
     "output_type": "display_data"
    },
    {
     "name": "stdout",
     "output_type": "stream",
     "text": [
      "F1 Score: 0.6106\n",
      "Training with lr=5e-05, batch_size=8, epochs=3\n",
      "Checkpoint missing or incomplete, starting training from scratch.\n"
     ]
    },
    {
     "data": {
      "application/vnd.jupyter.widget-view+json": {
       "model_id": "d6689682ada84062bc008298150e4171",
       "version_major": 2,
       "version_minor": 0
      },
      "text/plain": [
       "  0%|          | 0/291 [00:00<?, ?it/s]"
      ]
     },
     "metadata": {},
     "output_type": "display_data"
    },
    {
     "data": {
      "application/vnd.jupyter.widget-view+json": {
       "model_id": "0e2d1fe9e85e48f6be71d4bb8553544a",
       "version_major": 2,
       "version_minor": 0
      },
      "text/plain": [
       "  0%|          | 0/11 [00:00<?, ?it/s]"
      ]
     },
     "metadata": {},
     "output_type": "display_data"
    },
    {
     "name": "stdout",
     "output_type": "stream",
     "text": [
      "{'eval_loss': 2.363116502761841, 'eval_runtime': 0.861, 'eval_samples_per_second': 99.878, 'eval_steps_per_second': 12.775, 'epoch': 1.0}\n"
     ]
    },
    {
     "data": {
      "application/vnd.jupyter.widget-view+json": {
       "model_id": "70a9f3742c7b4a2a91cd9934ebdf7bfa",
       "version_major": 2,
       "version_minor": 0
      },
      "text/plain": [
       "  0%|          | 0/11 [00:00<?, ?it/s]"
      ]
     },
     "metadata": {},
     "output_type": "display_data"
    },
    {
     "name": "stdout",
     "output_type": "stream",
     "text": [
      "{'eval_loss': 2.5820651054382324, 'eval_runtime': 0.965, 'eval_samples_per_second': 89.122, 'eval_steps_per_second': 11.399, 'epoch': 2.0}\n"
     ]
    },
    {
     "data": {
      "application/vnd.jupyter.widget-view+json": {
       "model_id": "b57e69d6773b49d0a21a42864602dcbe",
       "version_major": 2,
       "version_minor": 0
      },
      "text/plain": [
       "  0%|          | 0/11 [00:00<?, ?it/s]"
      ]
     },
     "metadata": {},
     "output_type": "display_data"
    },
    {
     "name": "stdout",
     "output_type": "stream",
     "text": [
      "{'eval_loss': 2.4666290283203125, 'eval_runtime': 0.7951, 'eval_samples_per_second': 108.165, 'eval_steps_per_second': 13.835, 'epoch': 3.0}\n",
      "{'train_runtime': 93.2343, 'train_samples_per_second': 24.776, 'train_steps_per_second': 3.121, 'train_loss': 0.2154027014663539, 'epoch': 3.0}\n"
     ]
    },
    {
     "data": {
      "application/vnd.jupyter.widget-view+json": {
       "model_id": "fef44aad1c784e91adfbdb1a881e3e96",
       "version_major": 2,
       "version_minor": 0
      },
      "text/plain": [
       "  0%|          | 0/11 [00:00<?, ?it/s]"
      ]
     },
     "metadata": {},
     "output_type": "display_data"
    },
    {
     "name": "stdout",
     "output_type": "stream",
     "text": [
      "F1 Score: 0.5499\n",
      "Training with lr=5e-05, batch_size=8, epochs=5\n",
      "Checkpoint missing or incomplete, starting training from scratch.\n"
     ]
    },
    {
     "data": {
      "application/vnd.jupyter.widget-view+json": {
       "model_id": "730b4463641841758980b0dc5933f050",
       "version_major": 2,
       "version_minor": 0
      },
      "text/plain": [
       "  0%|          | 0/485 [00:00<?, ?it/s]"
      ]
     },
     "metadata": {},
     "output_type": "display_data"
    },
    {
     "data": {
      "application/vnd.jupyter.widget-view+json": {
       "model_id": "cde52ab4883b4f94bdf1d0cb359b8006",
       "version_major": 2,
       "version_minor": 0
      },
      "text/plain": [
       "  0%|          | 0/11 [00:00<?, ?it/s]"
      ]
     },
     "metadata": {},
     "output_type": "display_data"
    },
    {
     "name": "stdout",
     "output_type": "stream",
     "text": [
      "{'eval_loss': 2.539318084716797, 'eval_runtime': 0.7855, 'eval_samples_per_second': 109.484, 'eval_steps_per_second': 14.004, 'epoch': 1.0}\n"
     ]
    },
    {
     "data": {
      "application/vnd.jupyter.widget-view+json": {
       "model_id": "cb5aca7739ec49cc91d4cda3dbd03b70",
       "version_major": 2,
       "version_minor": 0
      },
      "text/plain": [
       "  0%|          | 0/11 [00:00<?, ?it/s]"
      ]
     },
     "metadata": {},
     "output_type": "display_data"
    },
    {
     "name": "stdout",
     "output_type": "stream",
     "text": [
      "{'eval_loss': 2.355768918991089, 'eval_runtime': 0.8215, 'eval_samples_per_second': 104.69, 'eval_steps_per_second': 13.391, 'epoch': 2.0}\n"
     ]
    },
    {
     "data": {
      "application/vnd.jupyter.widget-view+json": {
       "model_id": "599c7413bfdc4ce8bc918df62be65b43",
       "version_major": 2,
       "version_minor": 0
      },
      "text/plain": [
       "  0%|          | 0/11 [00:00<?, ?it/s]"
      ]
     },
     "metadata": {},
     "output_type": "display_data"
    },
    {
     "name": "stdout",
     "output_type": "stream",
     "text": [
      "{'eval_loss': 2.7818615436553955, 'eval_runtime': 0.8208, 'eval_samples_per_second': 104.781, 'eval_steps_per_second': 13.402, 'epoch': 3.0}\n"
     ]
    },
    {
     "data": {
      "application/vnd.jupyter.widget-view+json": {
       "model_id": "86581507840c49bab28ef22117b45490",
       "version_major": 2,
       "version_minor": 0
      },
      "text/plain": [
       "  0%|          | 0/11 [00:00<?, ?it/s]"
      ]
     },
     "metadata": {},
     "output_type": "display_data"
    },
    {
     "name": "stdout",
     "output_type": "stream",
     "text": [
      "{'eval_loss': 2.5977327823638916, 'eval_runtime': 0.7558, 'eval_samples_per_second': 113.781, 'eval_steps_per_second': 14.553, 'epoch': 4.0}\n"
     ]
    },
    {
     "data": {
      "application/vnd.jupyter.widget-view+json": {
       "model_id": "1f0fc1e2cb5d4f4d818a0e0ce81f3197",
       "version_major": 2,
       "version_minor": 0
      },
      "text/plain": [
       "  0%|          | 0/11 [00:00<?, ?it/s]"
      ]
     },
     "metadata": {},
     "output_type": "display_data"
    },
    {
     "name": "stdout",
     "output_type": "stream",
     "text": [
      "{'eval_loss': 2.5496933460235596, 'eval_runtime': 0.9723, 'eval_samples_per_second': 88.452, 'eval_steps_per_second': 11.314, 'epoch': 5.0}\n",
      "{'train_runtime': 159.874, 'train_samples_per_second': 24.081, 'train_steps_per_second': 3.034, 'train_loss': 0.13800220292868073, 'epoch': 5.0}\n"
     ]
    },
    {
     "data": {
      "application/vnd.jupyter.widget-view+json": {
       "model_id": "910953e25d1e4eb5ac3164d702951fca",
       "version_major": 2,
       "version_minor": 0
      },
      "text/plain": [
       "  0%|          | 0/11 [00:00<?, ?it/s]"
      ]
     },
     "metadata": {},
     "output_type": "display_data"
    },
    {
     "name": "stdout",
     "output_type": "stream",
     "text": [
      "F1 Score: 0.5325\n",
      "Training with lr=5e-05, batch_size=8, epochs=10\n",
      "Checkpoint missing or incomplete, starting training from scratch.\n"
     ]
    },
    {
     "data": {
      "application/vnd.jupyter.widget-view+json": {
       "model_id": "be141273e6db44d7b2e100d48d3f5811",
       "version_major": 2,
       "version_minor": 0
      },
      "text/plain": [
       "  0%|          | 0/970 [00:00<?, ?it/s]"
      ]
     },
     "metadata": {},
     "output_type": "display_data"
    },
    {
     "data": {
      "application/vnd.jupyter.widget-view+json": {
       "model_id": "e9ecff11947046b7a6e6d16fd4785762",
       "version_major": 2,
       "version_minor": 0
      },
      "text/plain": [
       "  0%|          | 0/11 [00:00<?, ?it/s]"
      ]
     },
     "metadata": {},
     "output_type": "display_data"
    },
    {
     "name": "stdout",
     "output_type": "stream",
     "text": [
      "{'eval_loss': 3.325315237045288, 'eval_runtime': 0.8311, 'eval_samples_per_second': 103.48, 'eval_steps_per_second': 13.236, 'epoch': 1.0}\n"
     ]
    },
    {
     "data": {
      "application/vnd.jupyter.widget-view+json": {
       "model_id": "c1286b13abbb49aabb9cdc537724c50c",
       "version_major": 2,
       "version_minor": 0
      },
      "text/plain": [
       "  0%|          | 0/11 [00:00<?, ?it/s]"
      ]
     },
     "metadata": {},
     "output_type": "display_data"
    },
    {
     "name": "stdout",
     "output_type": "stream",
     "text": [
      "{'eval_loss': 2.4630000591278076, 'eval_runtime': 0.8176, 'eval_samples_per_second': 105.187, 'eval_steps_per_second': 13.454, 'epoch': 2.0}\n"
     ]
    },
    {
     "data": {
      "application/vnd.jupyter.widget-view+json": {
       "model_id": "c82bcf7c9409413cbe9b9559a1bd1bb7",
       "version_major": 2,
       "version_minor": 0
      },
      "text/plain": [
       "  0%|          | 0/11 [00:00<?, ?it/s]"
      ]
     },
     "metadata": {},
     "output_type": "display_data"
    },
    {
     "name": "stdout",
     "output_type": "stream",
     "text": [
      "{'eval_loss': 2.4710848331451416, 'eval_runtime': 0.7969, 'eval_samples_per_second': 107.922, 'eval_steps_per_second': 13.804, 'epoch': 3.0}\n"
     ]
    },
    {
     "data": {
      "application/vnd.jupyter.widget-view+json": {
       "model_id": "f0861f0f104647db838e8995595a9988",
       "version_major": 2,
       "version_minor": 0
      },
      "text/plain": [
       "  0%|          | 0/11 [00:00<?, ?it/s]"
      ]
     },
     "metadata": {},
     "output_type": "display_data"
    },
    {
     "name": "stdout",
     "output_type": "stream",
     "text": [
      "{'eval_loss': 2.524198532104492, 'eval_runtime': 0.8398, 'eval_samples_per_second': 102.401, 'eval_steps_per_second': 13.098, 'epoch': 4.0}\n"
     ]
    },
    {
     "data": {
      "application/vnd.jupyter.widget-view+json": {
       "model_id": "530b8261b87e45b08327784e69b619fb",
       "version_major": 2,
       "version_minor": 0
      },
      "text/plain": [
       "  0%|          | 0/11 [00:00<?, ?it/s]"
      ]
     },
     "metadata": {},
     "output_type": "display_data"
    },
    {
     "name": "stdout",
     "output_type": "stream",
     "text": [
      "{'eval_loss': 2.921863555908203, 'eval_runtime': 1.4209, 'eval_samples_per_second': 60.525, 'eval_steps_per_second': 7.742, 'epoch': 5.0}\n",
      "{'loss': 0.2205, 'grad_norm': 0.029109502211213112, 'learning_rate': 2.4587628865979382e-05, 'epoch': 5.15}\n"
     ]
    },
    {
     "data": {
      "application/vnd.jupyter.widget-view+json": {
       "model_id": "ca53f023cae147539216f09cea54924b",
       "version_major": 2,
       "version_minor": 0
      },
      "text/plain": [
       "  0%|          | 0/11 [00:00<?, ?it/s]"
      ]
     },
     "metadata": {},
     "output_type": "display_data"
    },
    {
     "name": "stdout",
     "output_type": "stream",
     "text": [
      "{'eval_loss': 2.8273160457611084, 'eval_runtime': 0.9011, 'eval_samples_per_second': 95.443, 'eval_steps_per_second': 12.208, 'epoch': 6.0}\n"
     ]
    },
    {
     "data": {
      "application/vnd.jupyter.widget-view+json": {
       "model_id": "64040b56cf6846b5add32b9a153d6f46",
       "version_major": 2,
       "version_minor": 0
      },
      "text/plain": [
       "  0%|          | 0/11 [00:00<?, ?it/s]"
      ]
     },
     "metadata": {},
     "output_type": "display_data"
    },
    {
     "name": "stdout",
     "output_type": "stream",
     "text": [
      "{'eval_loss': 3.098749876022339, 'eval_runtime': 0.7317, 'eval_samples_per_second': 117.529, 'eval_steps_per_second': 15.033, 'epoch': 7.0}\n"
     ]
    },
    {
     "data": {
      "application/vnd.jupyter.widget-view+json": {
       "model_id": "7fc9d86003d04178a96d0ebfeb785053",
       "version_major": 2,
       "version_minor": 0
      },
      "text/plain": [
       "  0%|          | 0/11 [00:00<?, ?it/s]"
      ]
     },
     "metadata": {},
     "output_type": "display_data"
    },
    {
     "name": "stdout",
     "output_type": "stream",
     "text": [
      "{'eval_loss': 3.525895833969116, 'eval_runtime': 0.9268, 'eval_samples_per_second': 92.794, 'eval_steps_per_second': 11.869, 'epoch': 8.0}\n"
     ]
    },
    {
     "data": {
      "application/vnd.jupyter.widget-view+json": {
       "model_id": "5e037f3115e04c4da90bff649a52edc7",
       "version_major": 2,
       "version_minor": 0
      },
      "text/plain": [
       "  0%|          | 0/11 [00:00<?, ?it/s]"
      ]
     },
     "metadata": {},
     "output_type": "display_data"
    },
    {
     "name": "stdout",
     "output_type": "stream",
     "text": [
      "{'eval_loss': 3.2603070735931396, 'eval_runtime': 0.7717, 'eval_samples_per_second': 111.446, 'eval_steps_per_second': 14.255, 'epoch': 9.0}\n"
     ]
    },
    {
     "data": {
      "application/vnd.jupyter.widget-view+json": {
       "model_id": "00c4075f538a4bd899402ae43675cc8f",
       "version_major": 2,
       "version_minor": 0
      },
      "text/plain": [
       "  0%|          | 0/11 [00:00<?, ?it/s]"
      ]
     },
     "metadata": {},
     "output_type": "display_data"
    },
    {
     "name": "stdout",
     "output_type": "stream",
     "text": [
      "{'eval_loss': 3.1757652759552, 'eval_runtime': 0.7103, 'eval_samples_per_second': 121.071, 'eval_steps_per_second': 15.486, 'epoch': 10.0}\n",
      "{'train_runtime': 331.5073, 'train_samples_per_second': 23.227, 'train_steps_per_second': 2.926, 'train_loss': 0.1378696264679899, 'epoch': 10.0}\n"
     ]
    },
    {
     "data": {
      "application/vnd.jupyter.widget-view+json": {
       "model_id": "2de8e26d5e4f4a3d970bac67694287ce",
       "version_major": 2,
       "version_minor": 0
      },
      "text/plain": [
       "  0%|          | 0/11 [00:00<?, ?it/s]"
      ]
     },
     "metadata": {},
     "output_type": "display_data"
    },
    {
     "name": "stdout",
     "output_type": "stream",
     "text": [
      "F1 Score: 0.6027\n",
      "Training with lr=5e-05, batch_size=16, epochs=3\n",
      "Checkpoint missing or incomplete, starting training from scratch.\n"
     ]
    },
    {
     "data": {
      "application/vnd.jupyter.widget-view+json": {
       "model_id": "efb53d4a2de045498ccc1c7662b6aae5",
       "version_major": 2,
       "version_minor": 0
      },
      "text/plain": [
       "  0%|          | 0/147 [00:00<?, ?it/s]"
      ]
     },
     "metadata": {},
     "output_type": "display_data"
    },
    {
     "data": {
      "application/vnd.jupyter.widget-view+json": {
       "model_id": "5319f2df917e423c9e56fd2013b4c0ff",
       "version_major": 2,
       "version_minor": 0
      },
      "text/plain": [
       "  0%|          | 0/6 [00:00<?, ?it/s]"
      ]
     },
     "metadata": {},
     "output_type": "display_data"
    },
    {
     "name": "stdout",
     "output_type": "stream",
     "text": [
      "{'eval_loss': 2.202843427658081, 'eval_runtime': 0.6739, 'eval_samples_per_second': 127.615, 'eval_steps_per_second': 8.903, 'epoch': 1.0}\n"
     ]
    },
    {
     "data": {
      "application/vnd.jupyter.widget-view+json": {
       "model_id": "4bbb6a5b46ed4577862861461d27b24a",
       "version_major": 2,
       "version_minor": 0
      },
      "text/plain": [
       "  0%|          | 0/6 [00:00<?, ?it/s]"
      ]
     },
     "metadata": {},
     "output_type": "display_data"
    },
    {
     "name": "stdout",
     "output_type": "stream",
     "text": [
      "{'eval_loss': 1.8494865894317627, 'eval_runtime': 0.674, 'eval_samples_per_second': 127.589, 'eval_steps_per_second': 8.902, 'epoch': 2.0}\n"
     ]
    },
    {
     "data": {
      "application/vnd.jupyter.widget-view+json": {
       "model_id": "55d2c532a2fd44389ba5ecda94445d6a",
       "version_major": 2,
       "version_minor": 0
      },
      "text/plain": [
       "  0%|          | 0/6 [00:00<?, ?it/s]"
      ]
     },
     "metadata": {},
     "output_type": "display_data"
    },
    {
     "name": "stdout",
     "output_type": "stream",
     "text": [
      "{'eval_loss': 2.189009666442871, 'eval_runtime': 0.619, 'eval_samples_per_second': 138.928, 'eval_steps_per_second': 9.693, 'epoch': 3.0}\n",
      "{'train_runtime': 77.8566, 'train_samples_per_second': 29.67, 'train_steps_per_second': 1.888, 'train_loss': 0.1652880688102878, 'epoch': 3.0}\n"
     ]
    },
    {
     "data": {
      "application/vnd.jupyter.widget-view+json": {
       "model_id": "86f63c5ea3144089bab553f25f33346c",
       "version_major": 2,
       "version_minor": 0
      },
      "text/plain": [
       "  0%|          | 0/6 [00:00<?, ?it/s]"
      ]
     },
     "metadata": {},
     "output_type": "display_data"
    },
    {
     "name": "stdout",
     "output_type": "stream",
     "text": [
      "F1 Score: 0.6703\n",
      "Training with lr=5e-05, batch_size=16, epochs=5\n",
      "Checkpoint missing or incomplete, starting training from scratch.\n"
     ]
    },
    {
     "data": {
      "application/vnd.jupyter.widget-view+json": {
       "model_id": "2429961ae24349878e5fa0fc8905d8d9",
       "version_major": 2,
       "version_minor": 0
      },
      "text/plain": [
       "  0%|          | 0/245 [00:00<?, ?it/s]"
      ]
     },
     "metadata": {},
     "output_type": "display_data"
    },
    {
     "data": {
      "application/vnd.jupyter.widget-view+json": {
       "model_id": "66e6e27aec9749ff8fddd5d51fea5139",
       "version_major": 2,
       "version_minor": 0
      },
      "text/plain": [
       "  0%|          | 0/6 [00:00<?, ?it/s]"
      ]
     },
     "metadata": {},
     "output_type": "display_data"
    },
    {
     "name": "stdout",
     "output_type": "stream",
     "text": [
      "{'eval_loss': 2.0993003845214844, 'eval_runtime': 0.6788, 'eval_samples_per_second': 126.69, 'eval_steps_per_second': 8.839, 'epoch': 1.0}\n"
     ]
    },
    {
     "data": {
      "application/vnd.jupyter.widget-view+json": {
       "model_id": "4c6a3500b0354be5a99d0021691c3449",
       "version_major": 2,
       "version_minor": 0
      },
      "text/plain": [
       "  0%|          | 0/6 [00:00<?, ?it/s]"
      ]
     },
     "metadata": {},
     "output_type": "display_data"
    },
    {
     "name": "stdout",
     "output_type": "stream",
     "text": [
      "{'eval_loss': 1.723984956741333, 'eval_runtime': 0.6988, 'eval_samples_per_second': 123.075, 'eval_steps_per_second': 8.587, 'epoch': 2.0}\n"
     ]
    },
    {
     "data": {
      "application/vnd.jupyter.widget-view+json": {
       "model_id": "54fbdbde85a7433caa3b3334f499965e",
       "version_major": 2,
       "version_minor": 0
      },
      "text/plain": [
       "  0%|          | 0/6 [00:00<?, ?it/s]"
      ]
     },
     "metadata": {},
     "output_type": "display_data"
    },
    {
     "name": "stdout",
     "output_type": "stream",
     "text": [
      "{'eval_loss': 1.7348684072494507, 'eval_runtime': 0.6646, 'eval_samples_per_second': 129.398, 'eval_steps_per_second': 9.028, 'epoch': 3.0}\n"
     ]
    },
    {
     "data": {
      "application/vnd.jupyter.widget-view+json": {
       "model_id": "8587dde633f94bb99e9888d92781d67c",
       "version_major": 2,
       "version_minor": 0
      },
      "text/plain": [
       "  0%|          | 0/6 [00:00<?, ?it/s]"
      ]
     },
     "metadata": {},
     "output_type": "display_data"
    },
    {
     "name": "stdout",
     "output_type": "stream",
     "text": [
      "{'eval_loss': 1.9152337312698364, 'eval_runtime': 0.7319, 'eval_samples_per_second': 117.51, 'eval_steps_per_second': 8.198, 'epoch': 4.0}\n"
     ]
    },
    {
     "data": {
      "application/vnd.jupyter.widget-view+json": {
       "model_id": "047b96e2409b43eb88e55f89ff11bf85",
       "version_major": 2,
       "version_minor": 0
      },
      "text/plain": [
       "  0%|          | 0/6 [00:00<?, ?it/s]"
      ]
     },
     "metadata": {},
     "output_type": "display_data"
    },
    {
     "name": "stdout",
     "output_type": "stream",
     "text": [
      "{'eval_loss': 1.8713905811309814, 'eval_runtime': 0.7264, 'eval_samples_per_second': 118.386, 'eval_steps_per_second': 8.259, 'epoch': 5.0}\n",
      "{'train_runtime': 139.105, 'train_samples_per_second': 27.677, 'train_steps_per_second': 1.761, 'train_loss': 0.10315737043108258, 'epoch': 5.0}\n"
     ]
    },
    {
     "data": {
      "application/vnd.jupyter.widget-view+json": {
       "model_id": "1fd2fe6e5386427e9400e819dc7dc8cd",
       "version_major": 2,
       "version_minor": 0
      },
      "text/plain": [
       "  0%|          | 0/6 [00:00<?, ?it/s]"
      ]
     },
     "metadata": {},
     "output_type": "display_data"
    },
    {
     "name": "stdout",
     "output_type": "stream",
     "text": [
      "F1 Score: 0.7232\n",
      "Training with lr=5e-05, batch_size=16, epochs=10\n",
      "Checkpoint missing or incomplete, starting training from scratch.\n"
     ]
    },
    {
     "data": {
      "application/vnd.jupyter.widget-view+json": {
       "model_id": "fe6a0d1c221d4c728a01214a68eca12b",
       "version_major": 2,
       "version_minor": 0
      },
      "text/plain": [
       "  0%|          | 0/490 [00:00<?, ?it/s]"
      ]
     },
     "metadata": {},
     "output_type": "display_data"
    },
    {
     "data": {
      "application/vnd.jupyter.widget-view+json": {
       "model_id": "70afd2e3480d4f42b1c0c77821fc8118",
       "version_major": 2,
       "version_minor": 0
      },
      "text/plain": [
       "  0%|          | 0/6 [00:00<?, ?it/s]"
      ]
     },
     "metadata": {},
     "output_type": "display_data"
    },
    {
     "name": "stdout",
     "output_type": "stream",
     "text": [
      "{'eval_loss': 1.6445207595825195, 'eval_runtime': 0.6418, 'eval_samples_per_second': 133.993, 'eval_steps_per_second': 9.348, 'epoch': 1.0}\n"
     ]
    },
    {
     "data": {
      "application/vnd.jupyter.widget-view+json": {
       "model_id": "a227072ceea742bc854a9d73b418386a",
       "version_major": 2,
       "version_minor": 0
      },
      "text/plain": [
       "  0%|          | 0/6 [00:00<?, ?it/s]"
      ]
     },
     "metadata": {},
     "output_type": "display_data"
    },
    {
     "name": "stdout",
     "output_type": "stream",
     "text": [
      "{'eval_loss': 2.856386423110962, 'eval_runtime': 0.7025, 'eval_samples_per_second': 122.418, 'eval_steps_per_second': 8.541, 'epoch': 2.0}\n"
     ]
    },
    {
     "data": {
      "application/vnd.jupyter.widget-view+json": {
       "model_id": "9804e23d34e1451ab7da01802958c7db",
       "version_major": 2,
       "version_minor": 0
      },
      "text/plain": [
       "  0%|          | 0/6 [00:00<?, ?it/s]"
      ]
     },
     "metadata": {},
     "output_type": "display_data"
    },
    {
     "name": "stdout",
     "output_type": "stream",
     "text": [
      "{'eval_loss': 1.9442137479782104, 'eval_runtime': 0.6865, 'eval_samples_per_second': 125.28, 'eval_steps_per_second': 8.74, 'epoch': 3.0}\n"
     ]
    },
    {
     "data": {
      "application/vnd.jupyter.widget-view+json": {
       "model_id": "d4e5110e580c4c53a8fe1644f0fce8a9",
       "version_major": 2,
       "version_minor": 0
      },
      "text/plain": [
       "  0%|          | 0/6 [00:00<?, ?it/s]"
      ]
     },
     "metadata": {},
     "output_type": "display_data"
    },
    {
     "name": "stdout",
     "output_type": "stream",
     "text": [
      "{'eval_loss': 2.3615691661834717, 'eval_runtime': 0.8442, 'eval_samples_per_second': 101.872, 'eval_steps_per_second': 7.107, 'epoch': 4.0}\n"
     ]
    },
    {
     "data": {
      "application/vnd.jupyter.widget-view+json": {
       "model_id": "349468a7c11a4db9943b3ec8c9e0f825",
       "version_major": 2,
       "version_minor": 0
      },
      "text/plain": [
       "  0%|          | 0/6 [00:00<?, ?it/s]"
      ]
     },
     "metadata": {},
     "output_type": "display_data"
    },
    {
     "name": "stdout",
     "output_type": "stream",
     "text": [
      "{'eval_loss': 2.061880111694336, 'eval_runtime': 0.668, 'eval_samples_per_second': 128.735, 'eval_steps_per_second': 8.982, 'epoch': 5.0}\n"
     ]
    },
    {
     "data": {
      "application/vnd.jupyter.widget-view+json": {
       "model_id": "f2503475285e49c2a81f7e50546f356d",
       "version_major": 2,
       "version_minor": 0
      },
      "text/plain": [
       "  0%|          | 0/6 [00:00<?, ?it/s]"
      ]
     },
     "metadata": {},
     "output_type": "display_data"
    },
    {
     "name": "stdout",
     "output_type": "stream",
     "text": [
      "{'eval_loss': 1.972184658050537, 'eval_runtime': 0.7944, 'eval_samples_per_second': 108.252, 'eval_steps_per_second': 7.552, 'epoch': 6.0}\n"
     ]
    },
    {
     "data": {
      "application/vnd.jupyter.widget-view+json": {
       "model_id": "568c80a6bdcb494e8fa89191487881c3",
       "version_major": 2,
       "version_minor": 0
      },
      "text/plain": [
       "  0%|          | 0/6 [00:00<?, ?it/s]"
      ]
     },
     "metadata": {},
     "output_type": "display_data"
    },
    {
     "name": "stdout",
     "output_type": "stream",
     "text": [
      "{'eval_loss': 2.2227389812469482, 'eval_runtime': 0.6427, 'eval_samples_per_second': 133.815, 'eval_steps_per_second': 9.336, 'epoch': 7.0}\n"
     ]
    },
    {
     "data": {
      "application/vnd.jupyter.widget-view+json": {
       "model_id": "2194a0758939428cb1c70cfe731a7a16",
       "version_major": 2,
       "version_minor": 0
      },
      "text/plain": [
       "  0%|          | 0/6 [00:00<?, ?it/s]"
      ]
     },
     "metadata": {},
     "output_type": "display_data"
    },
    {
     "name": "stdout",
     "output_type": "stream",
     "text": [
      "{'eval_loss': 2.1111843585968018, 'eval_runtime': 0.6613, 'eval_samples_per_second': 130.037, 'eval_steps_per_second': 9.072, 'epoch': 8.0}\n"
     ]
    },
    {
     "data": {
      "application/vnd.jupyter.widget-view+json": {
       "model_id": "dd90339fddd44c25bf0f54b2c7202f17",
       "version_major": 2,
       "version_minor": 0
      },
      "text/plain": [
       "  0%|          | 0/6 [00:00<?, ?it/s]"
      ]
     },
     "metadata": {},
     "output_type": "display_data"
    },
    {
     "name": "stdout",
     "output_type": "stream",
     "text": [
      "{'eval_loss': 2.2634177207946777, 'eval_runtime': 0.9476, 'eval_samples_per_second': 90.752, 'eval_steps_per_second': 6.332, 'epoch': 9.0}\n"
     ]
    },
    {
     "data": {
      "application/vnd.jupyter.widget-view+json": {
       "model_id": "0bcba844aa45444088cbca86f5c02585",
       "version_major": 2,
       "version_minor": 0
      },
      "text/plain": [
       "  0%|          | 0/6 [00:00<?, ?it/s]"
      ]
     },
     "metadata": {},
     "output_type": "display_data"
    },
    {
     "name": "stdout",
     "output_type": "stream",
     "text": [
      "{'eval_loss': 2.3072381019592285, 'eval_runtime': 0.7589, 'eval_samples_per_second': 113.329, 'eval_steps_per_second': 7.907, 'epoch': 10.0}\n",
      "{'train_runtime': 283.2012, 'train_samples_per_second': 27.189, 'train_steps_per_second': 1.73, 'train_loss': 0.10689731520049427, 'epoch': 10.0}\n"
     ]
    },
    {
     "data": {
      "application/vnd.jupyter.widget-view+json": {
       "model_id": "b919c6c135c54ddd9a3aa4a0ea06bb81",
       "version_major": 2,
       "version_minor": 0
      },
      "text/plain": [
       "  0%|          | 0/6 [00:00<?, ?it/s]"
      ]
     },
     "metadata": {},
     "output_type": "display_data"
    },
    {
     "name": "stdout",
     "output_type": "stream",
     "text": [
      "F1 Score: 0.7204\n",
      "Training with lr=0.0001, batch_size=4, epochs=3\n",
      "Checkpoint missing or incomplete, starting training from scratch.\n"
     ]
    },
    {
     "data": {
      "application/vnd.jupyter.widget-view+json": {
       "model_id": "329f2d533fbf43d6a35a350d3f85a2ed",
       "version_major": 2,
       "version_minor": 0
      },
      "text/plain": [
       "  0%|          | 0/579 [00:00<?, ?it/s]"
      ]
     },
     "metadata": {},
     "output_type": "display_data"
    },
    {
     "data": {
      "application/vnd.jupyter.widget-view+json": {
       "model_id": "2ea409783944403aba726fd640652c86",
       "version_major": 2,
       "version_minor": 0
      },
      "text/plain": [
       "  0%|          | 0/22 [00:00<?, ?it/s]"
      ]
     },
     "metadata": {},
     "output_type": "display_data"
    },
    {
     "name": "stdout",
     "output_type": "stream",
     "text": [
      "{'eval_loss': 1.0875102281570435, 'eval_runtime': 1.685, 'eval_samples_per_second': 51.039, 'eval_steps_per_second': 13.056, 'epoch': 1.0}\n"
     ]
    },
    {
     "data": {
      "application/vnd.jupyter.widget-view+json": {
       "model_id": "9e7cbfd984e04df6b4ef10f776f987f9",
       "version_major": 2,
       "version_minor": 0
      },
      "text/plain": [
       "  0%|          | 0/22 [00:00<?, ?it/s]"
      ]
     },
     "metadata": {},
     "output_type": "display_data"
    },
    {
     "name": "stdout",
     "output_type": "stream",
     "text": [
      "{'eval_loss': 1.1061557531356812, 'eval_runtime': 1.0837, 'eval_samples_per_second': 79.358, 'eval_steps_per_second': 20.301, 'epoch': 2.0}\n",
      "{'loss': 1.1386, 'grad_norm': 4.434455394744873, 'learning_rate': 1.3989637305699481e-05, 'epoch': 2.59}\n"
     ]
    },
    {
     "data": {
      "application/vnd.jupyter.widget-view+json": {
       "model_id": "637bef9a68fc455fa48c3f0420e96a6d",
       "version_major": 2,
       "version_minor": 0
      },
      "text/plain": [
       "  0%|          | 0/22 [00:00<?, ?it/s]"
      ]
     },
     "metadata": {},
     "output_type": "display_data"
    },
    {
     "name": "stdout",
     "output_type": "stream",
     "text": [
      "{'eval_loss': 1.0981048345565796, 'eval_runtime': 1.7058, 'eval_samples_per_second': 50.416, 'eval_steps_per_second': 12.897, 'epoch': 3.0}\n",
      "{'train_runtime': 203.1324, 'train_samples_per_second': 11.372, 'train_steps_per_second': 2.85, 'train_loss': 1.1313912979679404, 'epoch': 3.0}\n"
     ]
    },
    {
     "data": {
      "application/vnd.jupyter.widget-view+json": {
       "model_id": "898e2fdf65ed421f88e7cd1c1f41210e",
       "version_major": 2,
       "version_minor": 0
      },
      "text/plain": [
       "  0%|          | 0/22 [00:00<?, ?it/s]"
      ]
     },
     "metadata": {},
     "output_type": "display_data"
    },
    {
     "name": "stdout",
     "output_type": "stream",
     "text": [
      "F1 Score: 0.1928\n",
      "Training with lr=0.0001, batch_size=4, epochs=5\n",
      "Checkpoint missing or incomplete, starting training from scratch.\n"
     ]
    },
    {
     "data": {
      "application/vnd.jupyter.widget-view+json": {
       "model_id": "bb77b2e1c6f743e582ec7e55952995b8",
       "version_major": 2,
       "version_minor": 0
      },
      "text/plain": [
       "  0%|          | 0/965 [00:00<?, ?it/s]"
      ]
     },
     "metadata": {},
     "output_type": "display_data"
    },
    {
     "data": {
      "application/vnd.jupyter.widget-view+json": {
       "model_id": "74271d584fd64fc7ab606d415c7b116b",
       "version_major": 2,
       "version_minor": 0
      },
      "text/plain": [
       "  0%|          | 0/22 [00:00<?, ?it/s]"
      ]
     },
     "metadata": {},
     "output_type": "display_data"
    },
    {
     "name": "stdout",
     "output_type": "stream",
     "text": [
      "{'eval_loss': 1.084126353263855, 'eval_runtime': 1.1515, 'eval_samples_per_second': 74.688, 'eval_steps_per_second': 19.106, 'epoch': 1.0}\n"
     ]
    },
    {
     "data": {
      "application/vnd.jupyter.widget-view+json": {
       "model_id": "6f54db5eb3c84fcaa408a2738be0a43f",
       "version_major": 2,
       "version_minor": 0
      },
      "text/plain": [
       "  0%|          | 0/22 [00:00<?, ?it/s]"
      ]
     },
     "metadata": {},
     "output_type": "display_data"
    },
    {
     "name": "stdout",
     "output_type": "stream",
     "text": [
      "{'eval_loss': 1.1062465906143188, 'eval_runtime': 1.3336, 'eval_samples_per_second': 64.489, 'eval_steps_per_second': 16.497, 'epoch': 2.0}\n",
      "{'loss': 1.0957, 'grad_norm': 4.4813995361328125, 'learning_rate': 4.818652849740933e-05, 'epoch': 2.59}\n"
     ]
    },
    {
     "data": {
      "application/vnd.jupyter.widget-view+json": {
       "model_id": "83791b68f1ea43d28bafc3ff18bfb755",
       "version_major": 2,
       "version_minor": 0
      },
      "text/plain": [
       "  0%|          | 0/22 [00:00<?, ?it/s]"
      ]
     },
     "metadata": {},
     "output_type": "display_data"
    },
    {
     "name": "stdout",
     "output_type": "stream",
     "text": [
      "{'eval_loss': 1.081372618675232, 'eval_runtime': 1.631, 'eval_samples_per_second': 52.727, 'eval_steps_per_second': 13.488, 'epoch': 3.0}\n"
     ]
    },
    {
     "data": {
      "application/vnd.jupyter.widget-view+json": {
       "model_id": "7784fbea8345457096abff47dc804849",
       "version_major": 2,
       "version_minor": 0
      },
      "text/plain": [
       "  0%|          | 0/22 [00:00<?, ?it/s]"
      ]
     },
     "metadata": {},
     "output_type": "display_data"
    },
    {
     "name": "stdout",
     "output_type": "stream",
     "text": [
      "{'eval_loss': 1.0984795093536377, 'eval_runtime': 1.407, 'eval_samples_per_second': 61.124, 'eval_steps_per_second': 15.636, 'epoch': 4.0}\n"
     ]
    },
    {
     "data": {
      "application/vnd.jupyter.widget-view+json": {
       "model_id": "7caa7bab95354cff92cfdc93302ea995",
       "version_major": 2,
       "version_minor": 0
      },
      "text/plain": [
       "  0%|          | 0/22 [00:00<?, ?it/s]"
      ]
     },
     "metadata": {},
     "output_type": "display_data"
    },
    {
     "name": "stdout",
     "output_type": "stream",
     "text": [
      "{'eval_loss': 1.0951353311538696, 'eval_runtime': 1.925, 'eval_samples_per_second': 44.675, 'eval_steps_per_second': 11.428, 'epoch': 5.0}\n",
      "{'train_runtime': 276.2102, 'train_samples_per_second': 13.939, 'train_steps_per_second': 3.494, 'train_loss': 1.0935858059423575, 'epoch': 5.0}\n"
     ]
    },
    {
     "data": {
      "application/vnd.jupyter.widget-view+json": {
       "model_id": "39dc22d73f294735906e483e81d06203",
       "version_major": 2,
       "version_minor": 0
      },
      "text/plain": [
       "  0%|          | 0/22 [00:00<?, ?it/s]"
      ]
     },
     "metadata": {},
     "output_type": "display_data"
    },
    {
     "name": "stdout",
     "output_type": "stream",
     "text": [
      "F1 Score: 0.1928\n",
      "Training with lr=0.0001, batch_size=4, epochs=10\n",
      "Checkpoint missing or incomplete, starting training from scratch.\n"
     ]
    },
    {
     "data": {
      "application/vnd.jupyter.widget-view+json": {
       "model_id": "575820301c6941faa1fa477df42b666c",
       "version_major": 2,
       "version_minor": 0
      },
      "text/plain": [
       "  0%|          | 0/1930 [00:00<?, ?it/s]"
      ]
     },
     "metadata": {},
     "output_type": "display_data"
    },
    {
     "data": {
      "application/vnd.jupyter.widget-view+json": {
       "model_id": "c3f7140a4cf047cf9221210a19baa31d",
       "version_major": 2,
       "version_minor": 0
      },
      "text/plain": [
       "  0%|          | 0/22 [00:00<?, ?it/s]"
      ]
     },
     "metadata": {},
     "output_type": "display_data"
    },
    {
     "name": "stdout",
     "output_type": "stream",
     "text": [
      "{'eval_loss': 1.0854264497756958, 'eval_runtime': 1.2692, 'eval_samples_per_second': 67.762, 'eval_steps_per_second': 17.334, 'epoch': 1.0}\n"
     ]
    },
    {
     "data": {
      "application/vnd.jupyter.widget-view+json": {
       "model_id": "7b4fb3b620ad47e5b70acc0992af4a81",
       "version_major": 2,
       "version_minor": 0
      },
      "text/plain": [
       "  0%|          | 0/22 [00:00<?, ?it/s]"
      ]
     },
     "metadata": {},
     "output_type": "display_data"
    },
    {
     "name": "stdout",
     "output_type": "stream",
     "text": [
      "{'eval_loss': 1.1040266752243042, 'eval_runtime': 1.1643, 'eval_samples_per_second': 73.863, 'eval_steps_per_second': 18.895, 'epoch': 2.0}\n",
      "{'loss': 1.075, 'grad_norm': 4.6748552322387695, 'learning_rate': 7.409326424870466e-05, 'epoch': 2.59}\n"
     ]
    },
    {
     "data": {
      "application/vnd.jupyter.widget-view+json": {
       "model_id": "cb6c27fbf6db4cb7b660abd9a9aa5082",
       "version_major": 2,
       "version_minor": 0
      },
      "text/plain": [
       "  0%|          | 0/22 [00:00<?, ?it/s]"
      ]
     },
     "metadata": {},
     "output_type": "display_data"
    },
    {
     "name": "stdout",
     "output_type": "stream",
     "text": [
      "{'eval_loss': 1.0777729749679565, 'eval_runtime': 1.0844, 'eval_samples_per_second': 79.309, 'eval_steps_per_second': 20.288, 'epoch': 3.0}\n"
     ]
    },
    {
     "data": {
      "application/vnd.jupyter.widget-view+json": {
       "model_id": "206df26d29bc4c4eb229d185632bac6e",
       "version_major": 2,
       "version_minor": 0
      },
      "text/plain": [
       "  0%|          | 0/22 [00:00<?, ?it/s]"
      ]
     },
     "metadata": {},
     "output_type": "display_data"
    },
    {
     "name": "stdout",
     "output_type": "stream",
     "text": [
      "{'eval_loss': 1.1187602281570435, 'eval_runtime': 1.5105, 'eval_samples_per_second': 56.935, 'eval_steps_per_second': 14.565, 'epoch': 4.0}\n"
     ]
    },
    {
     "data": {
      "application/vnd.jupyter.widget-view+json": {
       "model_id": "d64be80093db461f86b2202c845d1eba",
       "version_major": 2,
       "version_minor": 0
      },
      "text/plain": [
       "  0%|          | 0/22 [00:00<?, ?it/s]"
      ]
     },
     "metadata": {},
     "output_type": "display_data"
    },
    {
     "name": "stdout",
     "output_type": "stream",
     "text": [
      "{'eval_loss': 1.1069165468215942, 'eval_runtime': 1.0975, 'eval_samples_per_second': 78.363, 'eval_steps_per_second': 20.046, 'epoch': 5.0}\n",
      "{'loss': 1.1021, 'grad_norm': 5.6845879554748535, 'learning_rate': 4.818652849740933e-05, 'epoch': 5.18}\n"
     ]
    },
    {
     "data": {
      "application/vnd.jupyter.widget-view+json": {
       "model_id": "9dfc02c30d70452e8c8e76251dda7cba",
       "version_major": 2,
       "version_minor": 0
      },
      "text/plain": [
       "  0%|          | 0/22 [00:00<?, ?it/s]"
      ]
     },
     "metadata": {},
     "output_type": "display_data"
    },
    {
     "name": "stdout",
     "output_type": "stream",
     "text": [
      "{'eval_loss': 1.0812420845031738, 'eval_runtime': 1.1667, 'eval_samples_per_second': 73.715, 'eval_steps_per_second': 18.857, 'epoch': 6.0}\n"
     ]
    },
    {
     "data": {
      "application/vnd.jupyter.widget-view+json": {
       "model_id": "b33ccbb9266c42fb9a0b15d0f8b7e803",
       "version_major": 2,
       "version_minor": 0
      },
      "text/plain": [
       "  0%|          | 0/22 [00:00<?, ?it/s]"
      ]
     },
     "metadata": {},
     "output_type": "display_data"
    },
    {
     "name": "stdout",
     "output_type": "stream",
     "text": [
      "{'eval_loss': 1.0929210186004639, 'eval_runtime': 1.1891, 'eval_samples_per_second': 72.325, 'eval_steps_per_second': 18.502, 'epoch': 7.0}\n",
      "{'loss': 1.0881, 'grad_norm': 2.786794662475586, 'learning_rate': 2.227979274611399e-05, 'epoch': 7.77}\n"
     ]
    },
    {
     "data": {
      "application/vnd.jupyter.widget-view+json": {
       "model_id": "f140f973ad6a4e0294639ba184187bb3",
       "version_major": 2,
       "version_minor": 0
      },
      "text/plain": [
       "  0%|          | 0/22 [00:00<?, ?it/s]"
      ]
     },
     "metadata": {},
     "output_type": "display_data"
    },
    {
     "name": "stdout",
     "output_type": "stream",
     "text": [
      "{'eval_loss': 1.0808616876602173, 'eval_runtime': 1.5806, 'eval_samples_per_second': 54.41, 'eval_steps_per_second': 13.919, 'epoch': 8.0}\n"
     ]
    },
    {
     "data": {
      "application/vnd.jupyter.widget-view+json": {
       "model_id": "9e8a7f38b8554525a5e1837c79f826f9",
       "version_major": 2,
       "version_minor": 0
      },
      "text/plain": [
       "  0%|          | 0/22 [00:00<?, ?it/s]"
      ]
     },
     "metadata": {},
     "output_type": "display_data"
    },
    {
     "name": "stdout",
     "output_type": "stream",
     "text": [
      "{'eval_loss': 1.0855741500854492, 'eval_runtime': 1.3926, 'eval_samples_per_second': 61.757, 'eval_steps_per_second': 15.798, 'epoch': 9.0}\n"
     ]
    },
    {
     "data": {
      "application/vnd.jupyter.widget-view+json": {
       "model_id": "074f47bc32b44d609ce9075c9294f36f",
       "version_major": 2,
       "version_minor": 0
      },
      "text/plain": [
       "  0%|          | 0/22 [00:00<?, ?it/s]"
      ]
     },
     "metadata": {},
     "output_type": "display_data"
    },
    {
     "name": "stdout",
     "output_type": "stream",
     "text": [
      "{'eval_loss': 1.0922340154647827, 'eval_runtime': 1.5805, 'eval_samples_per_second': 54.413, 'eval_steps_per_second': 13.92, 'epoch': 10.0}\n",
      "{'train_runtime': 547.0542, 'train_samples_per_second': 14.075, 'train_steps_per_second': 3.528, 'train_loss': 1.0907728126011982, 'epoch': 10.0}\n"
     ]
    },
    {
     "data": {
      "application/vnd.jupyter.widget-view+json": {
       "model_id": "a3c77d31989f46db98cd93307a1d10ef",
       "version_major": 2,
       "version_minor": 0
      },
      "text/plain": [
       "  0%|          | 0/22 [00:00<?, ?it/s]"
      ]
     },
     "metadata": {},
     "output_type": "display_data"
    },
    {
     "name": "stdout",
     "output_type": "stream",
     "text": [
      "F1 Score: 0.1928\n",
      "Training with lr=0.0001, batch_size=8, epochs=3\n",
      "Checkpoint missing or incomplete, starting training from scratch.\n"
     ]
    },
    {
     "data": {
      "application/vnd.jupyter.widget-view+json": {
       "model_id": "c9b026d1c90546119569d9aa65221fa8",
       "version_major": 2,
       "version_minor": 0
      },
      "text/plain": [
       "  0%|          | 0/291 [00:00<?, ?it/s]"
      ]
     },
     "metadata": {},
     "output_type": "display_data"
    },
    {
     "data": {
      "application/vnd.jupyter.widget-view+json": {
       "model_id": "e68888b7cf014a4188374f829f525135",
       "version_major": 2,
       "version_minor": 0
      },
      "text/plain": [
       "  0%|          | 0/11 [00:00<?, ?it/s]"
      ]
     },
     "metadata": {},
     "output_type": "display_data"
    },
    {
     "name": "stdout",
     "output_type": "stream",
     "text": [
      "{'eval_loss': 1.1090458631515503, 'eval_runtime': 0.7461, 'eval_samples_per_second': 115.265, 'eval_steps_per_second': 14.743, 'epoch': 1.0}\n"
     ]
    },
    {
     "data": {
      "application/vnd.jupyter.widget-view+json": {
       "model_id": "c57efa41b4ba449fbf40d063c8bee7b7",
       "version_major": 2,
       "version_minor": 0
      },
      "text/plain": [
       "  0%|          | 0/11 [00:00<?, ?it/s]"
      ]
     },
     "metadata": {},
     "output_type": "display_data"
    },
    {
     "name": "stdout",
     "output_type": "stream",
     "text": [
      "{'eval_loss': 1.0968613624572754, 'eval_runtime': 0.7129, 'eval_samples_per_second': 120.629, 'eval_steps_per_second': 15.429, 'epoch': 2.0}\n"
     ]
    },
    {
     "data": {
      "application/vnd.jupyter.widget-view+json": {
       "model_id": "d786be6be94a4c76a185d24152059704",
       "version_major": 2,
       "version_minor": 0
      },
      "text/plain": [
       "  0%|          | 0/11 [00:00<?, ?it/s]"
      ]
     },
     "metadata": {},
     "output_type": "display_data"
    },
    {
     "name": "stdout",
     "output_type": "stream",
     "text": [
      "{'eval_loss': 1.106229543685913, 'eval_runtime': 0.9047, 'eval_samples_per_second': 95.06, 'eval_steps_per_second': 12.159, 'epoch': 3.0}\n",
      "{'train_runtime': 99.6742, 'train_samples_per_second': 23.176, 'train_steps_per_second': 2.92, 'train_loss': 1.0939831291277384, 'epoch': 3.0}\n"
     ]
    },
    {
     "data": {
      "application/vnd.jupyter.widget-view+json": {
       "model_id": "5d9763196af24800ba3e1b3dd45b1092",
       "version_major": 2,
       "version_minor": 0
      },
      "text/plain": [
       "  0%|          | 0/11 [00:00<?, ?it/s]"
      ]
     },
     "metadata": {},
     "output_type": "display_data"
    },
    {
     "name": "stdout",
     "output_type": "stream",
     "text": [
      "F1 Score: 0.1928\n",
      "Training with lr=0.0001, batch_size=8, epochs=5\n",
      "Checkpoint missing or incomplete, starting training from scratch.\n"
     ]
    },
    {
     "data": {
      "application/vnd.jupyter.widget-view+json": {
       "model_id": "d53ad2ee3abc4424aa424b5f3479885e",
       "version_major": 2,
       "version_minor": 0
      },
      "text/plain": [
       "  0%|          | 0/485 [00:00<?, ?it/s]"
      ]
     },
     "metadata": {},
     "output_type": "display_data"
    },
    {
     "data": {
      "application/vnd.jupyter.widget-view+json": {
       "model_id": "994afe6ed6c143cc82195dd9c25fb6b4",
       "version_major": 2,
       "version_minor": 0
      },
      "text/plain": [
       "  0%|          | 0/11 [00:00<?, ?it/s]"
      ]
     },
     "metadata": {},
     "output_type": "display_data"
    },
    {
     "name": "stdout",
     "output_type": "stream",
     "text": [
      "{'eval_loss': 1.1208384037017822, 'eval_runtime': 0.8245, 'eval_samples_per_second': 104.304, 'eval_steps_per_second': 13.341, 'epoch': 1.0}\n"
     ]
    },
    {
     "data": {
      "application/vnd.jupyter.widget-view+json": {
       "model_id": "4be349d86af14d599b545d455aa6db19",
       "version_major": 2,
       "version_minor": 0
      },
      "text/plain": [
       "  0%|          | 0/11 [00:00<?, ?it/s]"
      ]
     },
     "metadata": {},
     "output_type": "display_data"
    },
    {
     "name": "stdout",
     "output_type": "stream",
     "text": [
      "{'eval_loss': 1.10090970993042, 'eval_runtime': 2.5567, 'eval_samples_per_second': 33.637, 'eval_steps_per_second': 4.302, 'epoch': 2.0}\n"
     ]
    },
    {
     "data": {
      "application/vnd.jupyter.widget-view+json": {
       "model_id": "57bc694a1a4a421fa89647a99dd25bf7",
       "version_major": 2,
       "version_minor": 0
      },
      "text/plain": [
       "  0%|          | 0/11 [00:00<?, ?it/s]"
      ]
     },
     "metadata": {},
     "output_type": "display_data"
    },
    {
     "name": "stdout",
     "output_type": "stream",
     "text": [
      "{'eval_loss': 1.0876123905181885, 'eval_runtime': 0.7085, 'eval_samples_per_second': 121.39, 'eval_steps_per_second': 15.527, 'epoch': 3.0}\n"
     ]
    },
    {
     "data": {
      "application/vnd.jupyter.widget-view+json": {
       "model_id": "e36b6c158e2a4e7bb0f85f6f36296ce7",
       "version_major": 2,
       "version_minor": 0
      },
      "text/plain": [
       "  0%|          | 0/11 [00:00<?, ?it/s]"
      ]
     },
     "metadata": {},
     "output_type": "display_data"
    },
    {
     "name": "stdout",
     "output_type": "stream",
     "text": [
      "{'eval_loss': 1.0971850156784058, 'eval_runtime': 0.7535, 'eval_samples_per_second': 114.13, 'eval_steps_per_second': 14.598, 'epoch': 4.0}\n"
     ]
    },
    {
     "data": {
      "application/vnd.jupyter.widget-view+json": {
       "model_id": "c6b2902d561d49e2a6f0aab340db5cb5",
       "version_major": 2,
       "version_minor": 0
      },
      "text/plain": [
       "  0%|          | 0/11 [00:00<?, ?it/s]"
      ]
     },
     "metadata": {},
     "output_type": "display_data"
    },
    {
     "name": "stdout",
     "output_type": "stream",
     "text": [
      "{'eval_loss': 1.0938804149627686, 'eval_runtime': 0.804, 'eval_samples_per_second': 106.961, 'eval_steps_per_second': 13.681, 'epoch': 5.0}\n",
      "{'train_runtime': 171.0168, 'train_samples_per_second': 22.512, 'train_steps_per_second': 2.836, 'train_loss': 1.0854673405283506, 'epoch': 5.0}\n"
     ]
    },
    {
     "data": {
      "application/vnd.jupyter.widget-view+json": {
       "model_id": "e044d6539b974cd3acd88cb054dd8fd9",
       "version_major": 2,
       "version_minor": 0
      },
      "text/plain": [
       "  0%|          | 0/11 [00:00<?, ?it/s]"
      ]
     },
     "metadata": {},
     "output_type": "display_data"
    },
    {
     "name": "stdout",
     "output_type": "stream",
     "text": [
      "F1 Score: 0.1928\n",
      "Training with lr=0.0001, batch_size=8, epochs=10\n",
      "Checkpoint missing or incomplete, starting training from scratch.\n"
     ]
    },
    {
     "data": {
      "application/vnd.jupyter.widget-view+json": {
       "model_id": "472fdb8b673249c6a2b8cbc66fefe3e1",
       "version_major": 2,
       "version_minor": 0
      },
      "text/plain": [
       "  0%|          | 0/970 [00:00<?, ?it/s]"
      ]
     },
     "metadata": {},
     "output_type": "display_data"
    },
    {
     "data": {
      "application/vnd.jupyter.widget-view+json": {
       "model_id": "c6421ee19d814c1f89be065c52907504",
       "version_major": 2,
       "version_minor": 0
      },
      "text/plain": [
       "  0%|          | 0/11 [00:00<?, ?it/s]"
      ]
     },
     "metadata": {},
     "output_type": "display_data"
    },
    {
     "name": "stdout",
     "output_type": "stream",
     "text": [
      "{'eval_loss': 1.1857059001922607, 'eval_runtime': 0.8099, 'eval_samples_per_second': 106.184, 'eval_steps_per_second': 13.582, 'epoch': 1.0}\n"
     ]
    },
    {
     "data": {
      "application/vnd.jupyter.widget-view+json": {
       "model_id": "081e57f6c5814ded96ba8f46265c0ca9",
       "version_major": 2,
       "version_minor": 0
      },
      "text/plain": [
       "  0%|          | 0/11 [00:00<?, ?it/s]"
      ]
     },
     "metadata": {},
     "output_type": "display_data"
    },
    {
     "name": "stdout",
     "output_type": "stream",
     "text": [
      "{'eval_loss': 1.1297465562820435, 'eval_runtime': 1.3322, 'eval_samples_per_second': 64.555, 'eval_steps_per_second': 8.257, 'epoch': 2.0}\n"
     ]
    },
    {
     "data": {
      "application/vnd.jupyter.widget-view+json": {
       "model_id": "f7b4396c75a447a49658790b3746eda8",
       "version_major": 2,
       "version_minor": 0
      },
      "text/plain": [
       "  0%|          | 0/11 [00:00<?, ?it/s]"
      ]
     },
     "metadata": {},
     "output_type": "display_data"
    },
    {
     "name": "stdout",
     "output_type": "stream",
     "text": [
      "{'eval_loss': 1.0833202600479126, 'eval_runtime': 0.7543, 'eval_samples_per_second': 114.017, 'eval_steps_per_second': 14.584, 'epoch': 3.0}\n"
     ]
    },
    {
     "data": {
      "application/vnd.jupyter.widget-view+json": {
       "model_id": "262aaceb27f94e2da7963cd27d344e9e",
       "version_major": 2,
       "version_minor": 0
      },
      "text/plain": [
       "  0%|          | 0/11 [00:00<?, ?it/s]"
      ]
     },
     "metadata": {},
     "output_type": "display_data"
    },
    {
     "name": "stdout",
     "output_type": "stream",
     "text": [
      "{'eval_loss': 1.1124979257583618, 'eval_runtime': 0.7485, 'eval_samples_per_second': 114.89, 'eval_steps_per_second': 14.695, 'epoch': 4.0}\n"
     ]
    },
    {
     "data": {
      "application/vnd.jupyter.widget-view+json": {
       "model_id": "06256411eeec4d75a4b7c11236204c1d",
       "version_major": 2,
       "version_minor": 0
      },
      "text/plain": [
       "  0%|          | 0/11 [00:00<?, ?it/s]"
      ]
     },
     "metadata": {},
     "output_type": "display_data"
    },
    {
     "name": "stdout",
     "output_type": "stream",
     "text": [
      "{'eval_loss': 1.1148598194122314, 'eval_runtime': 0.8409, 'eval_samples_per_second': 102.267, 'eval_steps_per_second': 13.081, 'epoch': 5.0}\n",
      "{'loss': 1.0791, 'grad_norm': 2.1437032222747803, 'learning_rate': 4.845360824742268e-05, 'epoch': 5.15}\n"
     ]
    },
    {
     "data": {
      "application/vnd.jupyter.widget-view+json": {
       "model_id": "af9653638ff04611a79131f804242020",
       "version_major": 2,
       "version_minor": 0
      },
      "text/plain": [
       "  0%|          | 0/11 [00:00<?, ?it/s]"
      ]
     },
     "metadata": {},
     "output_type": "display_data"
    },
    {
     "name": "stdout",
     "output_type": "stream",
     "text": [
      "{'eval_loss': 1.099194884300232, 'eval_runtime': 0.882, 'eval_samples_per_second': 97.509, 'eval_steps_per_second': 12.472, 'epoch': 6.0}\n"
     ]
    },
    {
     "data": {
      "application/vnd.jupyter.widget-view+json": {
       "model_id": "a7106fec7a1443f7b6e44473379d9bb2",
       "version_major": 2,
       "version_minor": 0
      },
      "text/plain": [
       "  0%|          | 0/11 [00:00<?, ?it/s]"
      ]
     },
     "metadata": {},
     "output_type": "display_data"
    },
    {
     "name": "stdout",
     "output_type": "stream",
     "text": [
      "{'eval_loss': 1.1099486351013184, 'eval_runtime': 0.7653, 'eval_samples_per_second': 112.378, 'eval_steps_per_second': 14.374, 'epoch': 7.0}\n"
     ]
    },
    {
     "data": {
      "application/vnd.jupyter.widget-view+json": {
       "model_id": "e9abea87b5d74de0853b3cdc2d690743",
       "version_major": 2,
       "version_minor": 0
      },
      "text/plain": [
       "  0%|          | 0/11 [00:00<?, ?it/s]"
      ]
     },
     "metadata": {},
     "output_type": "display_data"
    },
    {
     "name": "stdout",
     "output_type": "stream",
     "text": [
      "{'eval_loss': 1.0813101530075073, 'eval_runtime': 0.7684, 'eval_samples_per_second': 111.926, 'eval_steps_per_second': 14.316, 'epoch': 8.0}\n"
     ]
    },
    {
     "data": {
      "application/vnd.jupyter.widget-view+json": {
       "model_id": "51e217d447884cb7b70759056322febe",
       "version_major": 2,
       "version_minor": 0
      },
      "text/plain": [
       "  0%|          | 0/11 [00:00<?, ?it/s]"
      ]
     },
     "metadata": {},
     "output_type": "display_data"
    },
    {
     "name": "stdout",
     "output_type": "stream",
     "text": [
      "{'eval_loss': 1.0882538557052612, 'eval_runtime': 1.0069, 'eval_samples_per_second': 85.411, 'eval_steps_per_second': 10.925, 'epoch': 9.0}\n"
     ]
    },
    {
     "data": {
      "application/vnd.jupyter.widget-view+json": {
       "model_id": "486a666665e74383b2927e8205fd8d27",
       "version_major": 2,
       "version_minor": 0
      },
      "text/plain": [
       "  0%|          | 0/11 [00:00<?, ?it/s]"
      ]
     },
     "metadata": {},
     "output_type": "display_data"
    },
    {
     "name": "stdout",
     "output_type": "stream",
     "text": [
      "{'eval_loss': 1.092137336730957, 'eval_runtime': 0.7757, 'eval_samples_per_second': 110.87, 'eval_steps_per_second': 14.181, 'epoch': 10.0}\n",
      "{'train_runtime': 330.4223, 'train_samples_per_second': 23.304, 'train_steps_per_second': 2.936, 'train_loss': 1.0873219283585696, 'epoch': 10.0}\n"
     ]
    },
    {
     "data": {
      "application/vnd.jupyter.widget-view+json": {
       "model_id": "14425495add346fc913c2d09c0da4b47",
       "version_major": 2,
       "version_minor": 0
      },
      "text/plain": [
       "  0%|          | 0/11 [00:00<?, ?it/s]"
      ]
     },
     "metadata": {},
     "output_type": "display_data"
    },
    {
     "name": "stdout",
     "output_type": "stream",
     "text": [
      "F1 Score: 0.1928\n",
      "Training with lr=0.0001, batch_size=16, epochs=3\n",
      "Checkpoint missing or incomplete, starting training from scratch.\n"
     ]
    },
    {
     "data": {
      "application/vnd.jupyter.widget-view+json": {
       "model_id": "cf93f49726864080b63c2b200ec1f322",
       "version_major": 2,
       "version_minor": 0
      },
      "text/plain": [
       "  0%|          | 0/147 [00:00<?, ?it/s]"
      ]
     },
     "metadata": {},
     "output_type": "display_data"
    },
    {
     "data": {
      "application/vnd.jupyter.widget-view+json": {
       "model_id": "56893af821ac452b95f2698b4b05aa8e",
       "version_major": 2,
       "version_minor": 0
      },
      "text/plain": [
       "  0%|          | 0/6 [00:00<?, ?it/s]"
      ]
     },
     "metadata": {},
     "output_type": "display_data"
    },
    {
     "name": "stdout",
     "output_type": "stream",
     "text": [
      "{'eval_loss': 1.1153761148452759, 'eval_runtime': 0.709, 'eval_samples_per_second': 121.303, 'eval_steps_per_second': 8.463, 'epoch': 1.0}\n"
     ]
    },
    {
     "data": {
      "application/vnd.jupyter.widget-view+json": {
       "model_id": "8f8929aab58643a89a9d1de8541f1440",
       "version_major": 2,
       "version_minor": 0
      },
      "text/plain": [
       "  0%|          | 0/6 [00:00<?, ?it/s]"
      ]
     },
     "metadata": {},
     "output_type": "display_data"
    },
    {
     "name": "stdout",
     "output_type": "stream",
     "text": [
      "{'eval_loss': 1.0961915254592896, 'eval_runtime': 0.6841, 'eval_samples_per_second': 125.713, 'eval_steps_per_second': 8.771, 'epoch': 2.0}\n"
     ]
    },
    {
     "data": {
      "application/vnd.jupyter.widget-view+json": {
       "model_id": "a9033d1a77c14239988f1e5d9bf0d944",
       "version_major": 2,
       "version_minor": 0
      },
      "text/plain": [
       "  0%|          | 0/6 [00:00<?, ?it/s]"
      ]
     },
     "metadata": {},
     "output_type": "display_data"
    },
    {
     "name": "stdout",
     "output_type": "stream",
     "text": [
      "{'eval_loss': 1.0961859226226807, 'eval_runtime': 0.7339, 'eval_samples_per_second': 117.182, 'eval_steps_per_second': 8.175, 'epoch': 3.0}\n",
      "{'train_runtime': 80.3073, 'train_samples_per_second': 28.765, 'train_steps_per_second': 1.83, 'train_loss': 1.0933964528194091, 'epoch': 3.0}\n"
     ]
    },
    {
     "data": {
      "application/vnd.jupyter.widget-view+json": {
       "model_id": "fa2d9bacd26f4f38bd84a4ad8a54224f",
       "version_major": 2,
       "version_minor": 0
      },
      "text/plain": [
       "  0%|          | 0/6 [00:00<?, ?it/s]"
      ]
     },
     "metadata": {},
     "output_type": "display_data"
    },
    {
     "name": "stdout",
     "output_type": "stream",
     "text": [
      "F1 Score: 0.1928\n",
      "Training with lr=0.0001, batch_size=16, epochs=5\n",
      "Checkpoint missing or incomplete, starting training from scratch.\n"
     ]
    },
    {
     "data": {
      "application/vnd.jupyter.widget-view+json": {
       "model_id": "4795958576084e179a74b654484a08c8",
       "version_major": 2,
       "version_minor": 0
      },
      "text/plain": [
       "  0%|          | 0/245 [00:00<?, ?it/s]"
      ]
     },
     "metadata": {},
     "output_type": "display_data"
    },
    {
     "data": {
      "application/vnd.jupyter.widget-view+json": {
       "model_id": "b039c601bc4d4968a5110f719f23d636",
       "version_major": 2,
       "version_minor": 0
      },
      "text/plain": [
       "  0%|          | 0/6 [00:00<?, ?it/s]"
      ]
     },
     "metadata": {},
     "output_type": "display_data"
    },
    {
     "name": "stdout",
     "output_type": "stream",
     "text": [
      "{'eval_loss': 1.1179087162017822, 'eval_runtime': 0.6652, 'eval_samples_per_second': 129.28, 'eval_steps_per_second': 9.02, 'epoch': 1.0}\n"
     ]
    },
    {
     "data": {
      "application/vnd.jupyter.widget-view+json": {
       "model_id": "015598fe398c4dfbb23e1854bbfb61fe",
       "version_major": 2,
       "version_minor": 0
      },
      "text/plain": [
       "  0%|          | 0/6 [00:00<?, ?it/s]"
      ]
     },
     "metadata": {},
     "output_type": "display_data"
    },
    {
     "name": "stdout",
     "output_type": "stream",
     "text": [
      "{'eval_loss': 1.101006031036377, 'eval_runtime': 0.6848, 'eval_samples_per_second': 125.587, 'eval_steps_per_second': 8.762, 'epoch': 2.0}\n"
     ]
    },
    {
     "data": {
      "application/vnd.jupyter.widget-view+json": {
       "model_id": "c6338eae94a0440dbbeee7a8796a5656",
       "version_major": 2,
       "version_minor": 0
      },
      "text/plain": [
       "  0%|          | 0/6 [00:00<?, ?it/s]"
      ]
     },
     "metadata": {},
     "output_type": "display_data"
    },
    {
     "name": "stdout",
     "output_type": "stream",
     "text": [
      "{'eval_loss': 1.0994389057159424, 'eval_runtime': 0.7098, 'eval_samples_per_second': 121.163, 'eval_steps_per_second': 8.453, 'epoch': 3.0}\n"
     ]
    },
    {
     "data": {
      "application/vnd.jupyter.widget-view+json": {
       "model_id": "d52f028751c642179210763e29c293fa",
       "version_major": 2,
       "version_minor": 0
      },
      "text/plain": [
       "  0%|          | 0/6 [00:00<?, ?it/s]"
      ]
     },
     "metadata": {},
     "output_type": "display_data"
    },
    {
     "name": "stdout",
     "output_type": "stream",
     "text": [
      "{'eval_loss': 1.0926657915115356, 'eval_runtime': 0.6519, 'eval_samples_per_second': 131.928, 'eval_steps_per_second': 9.204, 'epoch': 4.0}\n"
     ]
    },
    {
     "data": {
      "application/vnd.jupyter.widget-view+json": {
       "model_id": "7833e1e85c7949f686bb8193f214e837",
       "version_major": 2,
       "version_minor": 0
      },
      "text/plain": [
       "  0%|          | 0/6 [00:00<?, ?it/s]"
      ]
     },
     "metadata": {},
     "output_type": "display_data"
    },
    {
     "name": "stdout",
     "output_type": "stream",
     "text": [
      "{'eval_loss': 1.086493730545044, 'eval_runtime': 0.7579, 'eval_samples_per_second': 113.471, 'eval_steps_per_second': 7.917, 'epoch': 5.0}\n",
      "{'train_runtime': 129.5129, 'train_samples_per_second': 29.727, 'train_steps_per_second': 1.892, 'train_loss': 1.0802065479512117, 'epoch': 5.0}\n"
     ]
    },
    {
     "data": {
      "application/vnd.jupyter.widget-view+json": {
       "model_id": "43671567ab4049bcbbd20cbcd4ddb9d4",
       "version_major": 2,
       "version_minor": 0
      },
      "text/plain": [
       "  0%|          | 0/6 [00:00<?, ?it/s]"
      ]
     },
     "metadata": {},
     "output_type": "display_data"
    },
    {
     "name": "stdout",
     "output_type": "stream",
     "text": [
      "F1 Score: 0.1928\n",
      "Training with lr=0.0001, batch_size=16, epochs=10\n",
      "Checkpoint missing or incomplete, starting training from scratch.\n"
     ]
    },
    {
     "data": {
      "application/vnd.jupyter.widget-view+json": {
       "model_id": "5b9d3d99520b4b94baf64dcc87de7b5a",
       "version_major": 2,
       "version_minor": 0
      },
      "text/plain": [
       "  0%|          | 0/490 [00:00<?, ?it/s]"
      ]
     },
     "metadata": {},
     "output_type": "display_data"
    },
    {
     "data": {
      "application/vnd.jupyter.widget-view+json": {
       "model_id": "99eab3371c78477b8f30145151160d1e",
       "version_major": 2,
       "version_minor": 0
      },
      "text/plain": [
       "  0%|          | 0/6 [00:00<?, ?it/s]"
      ]
     },
     "metadata": {},
     "output_type": "display_data"
    },
    {
     "name": "stdout",
     "output_type": "stream",
     "text": [
      "{'eval_loss': 1.1879373788833618, 'eval_runtime': 0.6388, 'eval_samples_per_second': 134.635, 'eval_steps_per_second': 9.393, 'epoch': 1.0}\n"
     ]
    },
    {
     "data": {
      "application/vnd.jupyter.widget-view+json": {
       "model_id": "42643016cfc644fc8a968c90df07d9a3",
       "version_major": 2,
       "version_minor": 0
      },
      "text/plain": [
       "  0%|          | 0/6 [00:00<?, ?it/s]"
      ]
     },
     "metadata": {},
     "output_type": "display_data"
    },
    {
     "name": "stdout",
     "output_type": "stream",
     "text": [
      "{'eval_loss': 1.113457441329956, 'eval_runtime': 0.6523, 'eval_samples_per_second': 131.848, 'eval_steps_per_second': 9.199, 'epoch': 2.0}\n"
     ]
    },
    {
     "data": {
      "application/vnd.jupyter.widget-view+json": {
       "model_id": "276e9e23c3904da6a791426051cb442c",
       "version_major": 2,
       "version_minor": 0
      },
      "text/plain": [
       "  0%|          | 0/6 [00:00<?, ?it/s]"
      ]
     },
     "metadata": {},
     "output_type": "display_data"
    },
    {
     "name": "stdout",
     "output_type": "stream",
     "text": [
      "{'eval_loss': 1.0889297723770142, 'eval_runtime': 0.6658, 'eval_samples_per_second': 129.164, 'eval_steps_per_second': 9.011, 'epoch': 3.0}\n"
     ]
    },
    {
     "data": {
      "application/vnd.jupyter.widget-view+json": {
       "model_id": "a9e2f2fe995f4b7fa0103c677fd44371",
       "version_major": 2,
       "version_minor": 0
      },
      "text/plain": [
       "  0%|          | 0/6 [00:00<?, ?it/s]"
      ]
     },
     "metadata": {},
     "output_type": "display_data"
    },
    {
     "name": "stdout",
     "output_type": "stream",
     "text": [
      "{'eval_loss': 1.0886118412017822, 'eval_runtime': 0.732, 'eval_samples_per_second': 117.494, 'eval_steps_per_second': 8.197, 'epoch': 4.0}\n"
     ]
    },
    {
     "data": {
      "application/vnd.jupyter.widget-view+json": {
       "model_id": "3041b60f072f44d48c985aba2de35f05",
       "version_major": 2,
       "version_minor": 0
      },
      "text/plain": [
       "  0%|          | 0/6 [00:00<?, ?it/s]"
      ]
     },
     "metadata": {},
     "output_type": "display_data"
    },
    {
     "name": "stdout",
     "output_type": "stream",
     "text": [
      "{'eval_loss': 1.0922226905822754, 'eval_runtime': 0.7064, 'eval_samples_per_second': 121.744, 'eval_steps_per_second': 8.494, 'epoch': 5.0}\n"
     ]
    },
    {
     "data": {
      "application/vnd.jupyter.widget-view+json": {
       "model_id": "cb36578af8124191b50c8be36f3c5ab0",
       "version_major": 2,
       "version_minor": 0
      },
      "text/plain": [
       "  0%|          | 0/6 [00:00<?, ?it/s]"
      ]
     },
     "metadata": {},
     "output_type": "display_data"
    },
    {
     "name": "stdout",
     "output_type": "stream",
     "text": [
      "{'eval_loss': 1.1059058904647827, 'eval_runtime': 0.7172, 'eval_samples_per_second': 119.916, 'eval_steps_per_second': 8.366, 'epoch': 6.0}\n"
     ]
    },
    {
     "data": {
      "application/vnd.jupyter.widget-view+json": {
       "model_id": "71a33680d4ee4b90ba1b2d0f0973811a",
       "version_major": 2,
       "version_minor": 0
      },
      "text/plain": [
       "  0%|          | 0/6 [00:00<?, ?it/s]"
      ]
     },
     "metadata": {},
     "output_type": "display_data"
    },
    {
     "name": "stdout",
     "output_type": "stream",
     "text": [
      "{'eval_loss': 1.1013582944869995, 'eval_runtime': 0.7105, 'eval_samples_per_second': 121.037, 'eval_steps_per_second': 8.444, 'epoch': 7.0}\n"
     ]
    },
    {
     "data": {
      "application/vnd.jupyter.widget-view+json": {
       "model_id": "16a0ce549b044e2d80556657e3676852",
       "version_major": 2,
       "version_minor": 0
      },
      "text/plain": [
       "  0%|          | 0/6 [00:00<?, ?it/s]"
      ]
     },
     "metadata": {},
     "output_type": "display_data"
    },
    {
     "name": "stdout",
     "output_type": "stream",
     "text": [
      "{'eval_loss': 1.0806230306625366, 'eval_runtime': 0.7517, 'eval_samples_per_second': 114.411, 'eval_steps_per_second': 7.982, 'epoch': 8.0}\n"
     ]
    },
    {
     "data": {
      "application/vnd.jupyter.widget-view+json": {
       "model_id": "eba0c14956c2419d82bc2f254f5d98e0",
       "version_major": 2,
       "version_minor": 0
      },
      "text/plain": [
       "  0%|          | 0/6 [00:00<?, ?it/s]"
      ]
     },
     "metadata": {},
     "output_type": "display_data"
    },
    {
     "name": "stdout",
     "output_type": "stream",
     "text": [
      "{'eval_loss': 1.0849609375, 'eval_runtime': 0.6879, 'eval_samples_per_second': 125.01, 'eval_steps_per_second': 8.722, 'epoch': 9.0}\n"
     ]
    },
    {
     "data": {
      "application/vnd.jupyter.widget-view+json": {
       "model_id": "2c0354ef8ef24be39a8b8570a1569045",
       "version_major": 2,
       "version_minor": 0
      },
      "text/plain": [
       "  0%|          | 0/6 [00:00<?, ?it/s]"
      ]
     },
     "metadata": {},
     "output_type": "display_data"
    },
    {
     "name": "stdout",
     "output_type": "stream",
     "text": [
      "{'eval_loss': 1.0869823694229126, 'eval_runtime': 0.7556, 'eval_samples_per_second': 113.813, 'eval_steps_per_second': 7.94, 'epoch': 10.0}\n",
      "{'train_runtime': 253.4702, 'train_samples_per_second': 30.378, 'train_steps_per_second': 1.933, 'train_loss': 1.0695723553093113, 'epoch': 10.0}\n"
     ]
    },
    {
     "data": {
      "application/vnd.jupyter.widget-view+json": {
       "model_id": "4ad2ffcf719a4a00905bb706fdae1eef",
       "version_major": 2,
       "version_minor": 0
      },
      "text/plain": [
       "  0%|          | 0/6 [00:00<?, ?it/s]"
      ]
     },
     "metadata": {},
     "output_type": "display_data"
    },
    {
     "name": "stdout",
     "output_type": "stream",
     "text": [
      "F1 Score: 0.1928\n"
     ]
    }
   ],
   "source": [
    "# Hyperparameter tuning\n",
    "\n",
    "learning_rates = [2e-5, 5e-5, 1e-4] \n",
    "batch_sizes = [4, 8, 16]            \n",
    "num_epochs = [3, 5, 10] \n",
    "\n",
    "# Initialize a list to save results\n",
    "results = []\n",
    "\n",
    "# Loop through different combinations of hyperparameters\n",
    "for lr in learning_rates:\n",
    "    for batch_size in batch_sizes:\n",
    "        for epoch in num_epochs:\n",
    "            \n",
    "            # Define output directory for current hyperparameter combination\n",
    "            output_dir = f'./hsq/results_lr{lr}_bs{batch_size}_epochs{epoch}'\n",
    "\n",
    "            # Define training arguments\n",
    "            training_args = TrainingArguments(\n",
    "                output_dir=output_dir,                                      # Directory to save results\n",
    "                learning_rate=lr,                                           # Set learning rate\n",
    "                per_device_train_batch_size=batch_size,                     # Train batch size per device\n",
    "                per_device_eval_batch_size=batch_size,                      # Eval batch size per device\n",
    "                num_train_epochs=epoch,                                     # Number of epochs\n",
    "                push_to_hub=False,\n",
    "                fp16=True,                                                  # Use mixed precision training\n",
    "                report_to=\"none\",                                           # Disable logging to external tools\n",
    "                save_strategy=\"epoch\",                                      # Save the model at the end of each epoch\n",
    "                evaluation_strategy=\"epoch\",                                # Evaluate the model at the end of each epoch\n",
    "                metric_for_best_model=\"eval_loss\",                          # Use evaluation loss to determine the best model\n",
    "                greater_is_better=False,                                    # Lower evaluation loss is better\n",
    "                save_total_limit=3,                                         # Keep only the best model checkpoint\n",
    "                load_best_model_at_end=True                                 # Load the best model at the end of training\n",
    "            )\n",
    "\n",
    "            # Use the Trainer class to fine-tune the model\n",
    "            trainer = Trainer(\n",
    "                model=model,                                        # The pre-trained model\n",
    "                args=training_args,                                 # Training arguments\n",
    "                train_dataset=tokenized_train_dataset,              # Training dataset\n",
    "                eval_dataset=tokenized_val_dataset,                 # Validation dataset (instead of test set)\n",
    "                tokenizer=tokenizer,\n",
    "                data_collator=data_collator\n",
    "            )\n",
    "\n",
    "            # Check if there is an existing checkpoint\n",
    "            resume_checkpoint = None\n",
    "            if os.path.isdir(output_dir) and len(os.listdir(output_dir)) > 0:\n",
    "                resume_checkpoint = output_dir  # Resume from the latest checkpoint in the directory\n",
    "            \n",
    "\n",
    "            # Start training\n",
    "            print(f\"Training with lr={lr}, batch_size={batch_size}, epochs={epoch}\")\n",
    "            if resume_checkpoint and os.path.exists(os.path.join(resume_checkpoint, \"trainer_state.json\")):\n",
    "                trainer.train(resume_from_checkpoint=resume_checkpoint)\n",
    "            else:\n",
    "                print(\"Checkpoint missing or incomplete, starting training from scratch.\")\n",
    "                trainer.train()\n",
    "\n",
    "            # Save the model after training\n",
    "            trainer.save_model(output_dir=output_dir)\n",
    "\n",
    "            # Get predictions on the validation set\n",
    "            predictions, labels, _ = trainer.predict(tokenized_val_dataset)\n",
    "            predictions = np.argmax(predictions, axis=1)\n",
    "\n",
    "            # Print classification report including F1 score\n",
    "            report = classification_report(labels, predictions, target_names=['Dovish', 'Hawkish', 'Neutral'], output_dict=True)\n",
    "            f1_score = report['macro avg']['f1-score']\n",
    "            print(f\"F1 Score: {f1_score:.4f}\")\n",
    "\n",
    "            # Save the results, including hyperparameters and F1 score\n",
    "            results.append({\n",
    "                'learning_rate': lr,\n",
    "                'batch_size': batch_size,\n",
    "                'epochs': epoch,\n",
    "                'f1_score': report['macro avg']['f1-score'],  # Use macro average F1 score\n",
    "                'accuracy': report['accuracy'],               # Save accuracy\n",
    "                'model_path': output_dir\n",
    "            })\n"
   ]
  },
  {
   "cell_type": "code",
   "execution_count": 24,
   "id": "db20bf78-c27b-46ff-9fa8-aea49aeb03ab",
   "metadata": {
    "language": "python",
    "name": "cell11"
   },
   "outputs": [
    {
     "data": {
      "text/html": [
       "<div>\n",
       "<style scoped>\n",
       "    .dataframe tbody tr th:only-of-type {\n",
       "        vertical-align: middle;\n",
       "    }\n",
       "\n",
       "    .dataframe tbody tr th {\n",
       "        vertical-align: top;\n",
       "    }\n",
       "\n",
       "    .dataframe thead th {\n",
       "        text-align: right;\n",
       "    }\n",
       "</style>\n",
       "<table border=\"1\" class=\"dataframe\">\n",
       "  <thead>\n",
       "    <tr style=\"text-align: right;\">\n",
       "      <th></th>\n",
       "      <th>learning_rate</th>\n",
       "      <th>batch_size</th>\n",
       "      <th>epochs</th>\n",
       "      <th>f1_score</th>\n",
       "      <th>accuracy</th>\n",
       "      <th>model_path</th>\n",
       "    </tr>\n",
       "  </thead>\n",
       "  <tbody>\n",
       "    <tr>\n",
       "      <th>0</th>\n",
       "      <td>2.00e-05</td>\n",
       "      <td>4</td>\n",
       "      <td>3</td>\n",
       "      <td>0.358995</td>\n",
       "      <td>0.453488</td>\n",
       "      <td>./hsq/results_lr2e-05_bs4_epochs3</td>\n",
       "    </tr>\n",
       "    <tr>\n",
       "      <th>1</th>\n",
       "      <td>2.00e-05</td>\n",
       "      <td>4</td>\n",
       "      <td>5</td>\n",
       "      <td>0.670833</td>\n",
       "      <td>0.674419</td>\n",
       "      <td>./hsq/results_lr2e-05_bs4_epochs5</td>\n",
       "    </tr>\n",
       "    <tr>\n",
       "      <th>2</th>\n",
       "      <td>2.00e-05</td>\n",
       "      <td>4</td>\n",
       "      <td>10</td>\n",
       "      <td>0.678992</td>\n",
       "      <td>0.686047</td>\n",
       "      <td>./hsq/results_lr2e-05_bs4_epochs10</td>\n",
       "    </tr>\n",
       "    <tr>\n",
       "      <th>3</th>\n",
       "      <td>2.00e-05</td>\n",
       "      <td>8</td>\n",
       "      <td>3</td>\n",
       "      <td>0.583810</td>\n",
       "      <td>0.593023</td>\n",
       "      <td>./hsq/results_lr2e-05_bs8_epochs3</td>\n",
       "    </tr>\n",
       "    <tr>\n",
       "      <th>4</th>\n",
       "      <td>2.00e-05</td>\n",
       "      <td>8</td>\n",
       "      <td>5</td>\n",
       "      <td>0.646587</td>\n",
       "      <td>0.651163</td>\n",
       "      <td>./hsq/results_lr2e-05_bs8_epochs5</td>\n",
       "    </tr>\n",
       "    <tr>\n",
       "      <th>5</th>\n",
       "      <td>2.00e-05</td>\n",
       "      <td>8</td>\n",
       "      <td>10</td>\n",
       "      <td>0.603134</td>\n",
       "      <td>0.616279</td>\n",
       "      <td>./hsq/results_lr2e-05_bs8_epochs10</td>\n",
       "    </tr>\n",
       "    <tr>\n",
       "      <th>6</th>\n",
       "      <td>2.00e-05</td>\n",
       "      <td>16</td>\n",
       "      <td>3</td>\n",
       "      <td>0.664012</td>\n",
       "      <td>0.674419</td>\n",
       "      <td>./hsq/results_lr2e-05_bs16_epochs3</td>\n",
       "    </tr>\n",
       "    <tr>\n",
       "      <th>7</th>\n",
       "      <td>2.00e-05</td>\n",
       "      <td>16</td>\n",
       "      <td>5</td>\n",
       "      <td>0.643805</td>\n",
       "      <td>0.651163</td>\n",
       "      <td>./hsq/results_lr2e-05_bs16_epochs5</td>\n",
       "    </tr>\n",
       "    <tr>\n",
       "      <th>8</th>\n",
       "      <td>2.00e-05</td>\n",
       "      <td>16</td>\n",
       "      <td>10</td>\n",
       "      <td>0.638975</td>\n",
       "      <td>0.639535</td>\n",
       "      <td>./hsq/results_lr2e-05_bs16_epochs10</td>\n",
       "    </tr>\n",
       "    <tr>\n",
       "      <th>9</th>\n",
       "      <td>5.00e-05</td>\n",
       "      <td>4</td>\n",
       "      <td>3</td>\n",
       "      <td>0.556324</td>\n",
       "      <td>0.569767</td>\n",
       "      <td>./hsq/results_lr5e-05_bs4_epochs3</td>\n",
       "    </tr>\n",
       "    <tr>\n",
       "      <th>10</th>\n",
       "      <td>5.00e-05</td>\n",
       "      <td>4</td>\n",
       "      <td>5</td>\n",
       "      <td>0.647730</td>\n",
       "      <td>0.651163</td>\n",
       "      <td>./hsq/results_lr5e-05_bs4_epochs5</td>\n",
       "    </tr>\n",
       "    <tr>\n",
       "      <th>11</th>\n",
       "      <td>5.00e-05</td>\n",
       "      <td>4</td>\n",
       "      <td>10</td>\n",
       "      <td>0.610584</td>\n",
       "      <td>0.627907</td>\n",
       "      <td>./hsq/results_lr5e-05_bs4_epochs10</td>\n",
       "    </tr>\n",
       "    <tr>\n",
       "      <th>12</th>\n",
       "      <td>5.00e-05</td>\n",
       "      <td>8</td>\n",
       "      <td>3</td>\n",
       "      <td>0.549919</td>\n",
       "      <td>0.569767</td>\n",
       "      <td>./hsq/results_lr5e-05_bs8_epochs3</td>\n",
       "    </tr>\n",
       "    <tr>\n",
       "      <th>13</th>\n",
       "      <td>5.00e-05</td>\n",
       "      <td>8</td>\n",
       "      <td>5</td>\n",
       "      <td>0.532493</td>\n",
       "      <td>0.593023</td>\n",
       "      <td>./hsq/results_lr5e-05_bs8_epochs5</td>\n",
       "    </tr>\n",
       "    <tr>\n",
       "      <th>14</th>\n",
       "      <td>5.00e-05</td>\n",
       "      <td>8</td>\n",
       "      <td>10</td>\n",
       "      <td>0.602707</td>\n",
       "      <td>0.604651</td>\n",
       "      <td>./hsq/results_lr5e-05_bs8_epochs10</td>\n",
       "    </tr>\n",
       "    <tr>\n",
       "      <th>15</th>\n",
       "      <td>5.00e-05</td>\n",
       "      <td>16</td>\n",
       "      <td>3</td>\n",
       "      <td>0.670251</td>\n",
       "      <td>0.674419</td>\n",
       "      <td>./hsq/results_lr5e-05_bs16_epochs3</td>\n",
       "    </tr>\n",
       "    <tr>\n",
       "      <th>16</th>\n",
       "      <td>5.00e-05</td>\n",
       "      <td>16</td>\n",
       "      <td>5</td>\n",
       "      <td>0.723151</td>\n",
       "      <td>0.732558</td>\n",
       "      <td>./hsq/results_lr5e-05_bs16_epochs5</td>\n",
       "    </tr>\n",
       "    <tr>\n",
       "      <th>17</th>\n",
       "      <td>5.00e-05</td>\n",
       "      <td>16</td>\n",
       "      <td>10</td>\n",
       "      <td>0.720359</td>\n",
       "      <td>0.720930</td>\n",
       "      <td>./hsq/results_lr5e-05_bs16_epochs10</td>\n",
       "    </tr>\n",
       "    <tr>\n",
       "      <th>18</th>\n",
       "      <td>1.00e-04</td>\n",
       "      <td>4</td>\n",
       "      <td>3</td>\n",
       "      <td>0.192837</td>\n",
       "      <td>0.406977</td>\n",
       "      <td>./hsq/results_lr0.0001_bs4_epochs3</td>\n",
       "    </tr>\n",
       "    <tr>\n",
       "      <th>19</th>\n",
       "      <td>1.00e-04</td>\n",
       "      <td>4</td>\n",
       "      <td>5</td>\n",
       "      <td>0.192837</td>\n",
       "      <td>0.406977</td>\n",
       "      <td>./hsq/results_lr0.0001_bs4_epochs5</td>\n",
       "    </tr>\n",
       "    <tr>\n",
       "      <th>20</th>\n",
       "      <td>1.00e-04</td>\n",
       "      <td>4</td>\n",
       "      <td>10</td>\n",
       "      <td>0.192837</td>\n",
       "      <td>0.406977</td>\n",
       "      <td>./hsq/results_lr0.0001_bs4_epochs10</td>\n",
       "    </tr>\n",
       "    <tr>\n",
       "      <th>21</th>\n",
       "      <td>1.00e-04</td>\n",
       "      <td>8</td>\n",
       "      <td>3</td>\n",
       "      <td>0.192837</td>\n",
       "      <td>0.406977</td>\n",
       "      <td>./hsq/results_lr0.0001_bs8_epochs3</td>\n",
       "    </tr>\n",
       "    <tr>\n",
       "      <th>22</th>\n",
       "      <td>1.00e-04</td>\n",
       "      <td>8</td>\n",
       "      <td>5</td>\n",
       "      <td>0.192837</td>\n",
       "      <td>0.406977</td>\n",
       "      <td>./hsq/results_lr0.0001_bs8_epochs5</td>\n",
       "    </tr>\n",
       "    <tr>\n",
       "      <th>23</th>\n",
       "      <td>1.00e-04</td>\n",
       "      <td>8</td>\n",
       "      <td>10</td>\n",
       "      <td>0.192837</td>\n",
       "      <td>0.406977</td>\n",
       "      <td>./hsq/results_lr0.0001_bs8_epochs10</td>\n",
       "    </tr>\n",
       "    <tr>\n",
       "      <th>24</th>\n",
       "      <td>1.00e-04</td>\n",
       "      <td>16</td>\n",
       "      <td>3</td>\n",
       "      <td>0.192837</td>\n",
       "      <td>0.406977</td>\n",
       "      <td>./hsq/results_lr0.0001_bs16_epochs3</td>\n",
       "    </tr>\n",
       "    <tr>\n",
       "      <th>25</th>\n",
       "      <td>1.00e-04</td>\n",
       "      <td>16</td>\n",
       "      <td>5</td>\n",
       "      <td>0.192837</td>\n",
       "      <td>0.406977</td>\n",
       "      <td>./hsq/results_lr0.0001_bs16_epochs5</td>\n",
       "    </tr>\n",
       "    <tr>\n",
       "      <th>26</th>\n",
       "      <td>1.00e-04</td>\n",
       "      <td>16</td>\n",
       "      <td>10</td>\n",
       "      <td>0.192837</td>\n",
       "      <td>0.406977</td>\n",
       "      <td>./hsq/results_lr0.0001_bs16_epochs10</td>\n",
       "    </tr>\n",
       "  </tbody>\n",
       "</table>\n",
       "</div>"
      ],
      "text/plain": [
       "   learning_rate  batch_size  epochs  f1_score  accuracy  \\\n",
       "0       2.00e-05           4       3  0.358995  0.453488   \n",
       "1       2.00e-05           4       5  0.670833  0.674419   \n",
       "2       2.00e-05           4      10  0.678992  0.686047   \n",
       "3       2.00e-05           8       3  0.583810  0.593023   \n",
       "4       2.00e-05           8       5  0.646587  0.651163   \n",
       "5       2.00e-05           8      10  0.603134  0.616279   \n",
       "6       2.00e-05          16       3  0.664012  0.674419   \n",
       "7       2.00e-05          16       5  0.643805  0.651163   \n",
       "8       2.00e-05          16      10  0.638975  0.639535   \n",
       "9       5.00e-05           4       3  0.556324  0.569767   \n",
       "10      5.00e-05           4       5  0.647730  0.651163   \n",
       "11      5.00e-05           4      10  0.610584  0.627907   \n",
       "12      5.00e-05           8       3  0.549919  0.569767   \n",
       "13      5.00e-05           8       5  0.532493  0.593023   \n",
       "14      5.00e-05           8      10  0.602707  0.604651   \n",
       "15      5.00e-05          16       3  0.670251  0.674419   \n",
       "16      5.00e-05          16       5  0.723151  0.732558   \n",
       "17      5.00e-05          16      10  0.720359  0.720930   \n",
       "18      1.00e-04           4       3  0.192837  0.406977   \n",
       "19      1.00e-04           4       5  0.192837  0.406977   \n",
       "20      1.00e-04           4      10  0.192837  0.406977   \n",
       "21      1.00e-04           8       3  0.192837  0.406977   \n",
       "22      1.00e-04           8       5  0.192837  0.406977   \n",
       "23      1.00e-04           8      10  0.192837  0.406977   \n",
       "24      1.00e-04          16       3  0.192837  0.406977   \n",
       "25      1.00e-04          16       5  0.192837  0.406977   \n",
       "26      1.00e-04          16      10  0.192837  0.406977   \n",
       "\n",
       "                              model_path  \n",
       "0      ./hsq/results_lr2e-05_bs4_epochs3  \n",
       "1      ./hsq/results_lr2e-05_bs4_epochs5  \n",
       "2     ./hsq/results_lr2e-05_bs4_epochs10  \n",
       "3      ./hsq/results_lr2e-05_bs8_epochs3  \n",
       "4      ./hsq/results_lr2e-05_bs8_epochs5  \n",
       "5     ./hsq/results_lr2e-05_bs8_epochs10  \n",
       "6     ./hsq/results_lr2e-05_bs16_epochs3  \n",
       "7     ./hsq/results_lr2e-05_bs16_epochs5  \n",
       "8    ./hsq/results_lr2e-05_bs16_epochs10  \n",
       "9      ./hsq/results_lr5e-05_bs4_epochs3  \n",
       "10     ./hsq/results_lr5e-05_bs4_epochs5  \n",
       "11    ./hsq/results_lr5e-05_bs4_epochs10  \n",
       "12     ./hsq/results_lr5e-05_bs8_epochs3  \n",
       "13     ./hsq/results_lr5e-05_bs8_epochs5  \n",
       "14    ./hsq/results_lr5e-05_bs8_epochs10  \n",
       "15    ./hsq/results_lr5e-05_bs16_epochs3  \n",
       "16    ./hsq/results_lr5e-05_bs16_epochs5  \n",
       "17   ./hsq/results_lr5e-05_bs16_epochs10  \n",
       "18    ./hsq/results_lr0.0001_bs4_epochs3  \n",
       "19    ./hsq/results_lr0.0001_bs4_epochs5  \n",
       "20   ./hsq/results_lr0.0001_bs4_epochs10  \n",
       "21    ./hsq/results_lr0.0001_bs8_epochs3  \n",
       "22    ./hsq/results_lr0.0001_bs8_epochs5  \n",
       "23   ./hsq/results_lr0.0001_bs8_epochs10  \n",
       "24   ./hsq/results_lr0.0001_bs16_epochs3  \n",
       "25   ./hsq/results_lr0.0001_bs16_epochs5  \n",
       "26  ./hsq/results_lr0.0001_bs16_epochs10  "
      ]
     },
     "execution_count": 24,
     "metadata": {},
     "output_type": "execute_result"
    }
   ],
   "source": [
    "# export results to a DataFrame and save to a CSV file\n",
    "results_df = pd.DataFrame(results)\n",
    "results_df['learning_rate'] = results_df['learning_rate'].apply(lambda x: \"{:.2e}\".format(x))\n",
    "results_df"
   ]
  },
  {
   "cell_type": "code",
   "execution_count": 25,
   "id": "51788bd8-a089-4cf3-8707-d4748be2d9da",
   "metadata": {
    "language": "python",
    "name": "cell12"
   },
   "outputs": [],
   "source": [
    "results_df.to_csv('results.csv', index=False)"
   ]
  },
  {
   "cell_type": "code",
   "execution_count": null,
   "id": "c7536c4d-c91a-4817-baf1-f09ca15a270d",
   "metadata": {
    "language": "python",
    "name": "cell30"
   },
   "outputs": [],
   "source": [
    "# Initially I wrote code in Snowflake, but as it doesn't have output when exported jupyter notebook, I decided to run in my local pc using my GPU RTX3050. So some commands are for Snowflake running only.\n",
    "# # Print all results_df and save to txt as backup\n",
    "# csv_output = \"Learning rate,Batch size,Epochs, F1-score, Accuracy, Model path\\n\"  # CSV Header\n",
    "\n",
    "# # Iterate through the DataFrame rows and create the CSV content\n",
    "# for index, row in results_df.iterrows():\n",
    "#     csv_output += f\"{row['learning_rate']},{row['batch_size']},{row['epochs']},{row['f1_score']},{row['accuracy']},{row['model_path']}\\n\"\n",
    "\n",
    "# # Print the CSV output so you can copy it and save it locally\n",
    "# print(csv_output)"
   ]
  },
  {
   "cell_type": "code",
   "execution_count": 26,
   "id": "26c7ee86-7e24-4488-98c7-31e44b169539",
   "metadata": {
    "language": "python",
    "name": "cell29"
   },
   "outputs": [
    {
     "name": "stdout",
     "output_type": "stream",
     "text": [
      "Best Combination: Learning Rate=5e-05, Batch Size=16, Epochs=5\n"
     ]
    }
   ],
   "source": [
    "# After tuning, use the test set for final evaluation\n",
    "best_result = max(results, key=lambda x: x['f1_score'])\n",
    "best_model_path = best_result['model_path']\n",
    "\n",
    "# Print the best combination and corresponding F1 score\n",
    "print(f\"Best Combination: Learning Rate={best_result['learning_rate']}, Batch Size={best_result['batch_size']}, Epochs={best_result['epochs']}\")"
   ]
  },
  {
   "cell_type": "code",
   "execution_count": 27,
   "id": "da21d1a1-6a2c-4242-8199-81578a21fa14",
   "metadata": {
    "codeCollapsed": false,
    "language": "python",
    "name": "cell13"
   },
   "outputs": [
    {
     "data": {
      "application/vnd.jupyter.widget-view+json": {
       "model_id": "53c0139bd71a4bf5aeca0d9234a1d166",
       "version_major": 2,
       "version_minor": 0
      },
      "text/plain": [
       "  0%|          | 0/14 [00:00<?, ?it/s]"
      ]
     },
     "metadata": {},
     "output_type": "display_data"
    },
    {
     "name": "stdout",
     "output_type": "stream",
     "text": [
      "Classification Report on Test Dataset:\n",
      "               precision    recall  f1-score   support\n",
      "\n",
      "      Dovish       0.66      0.71      0.69        69\n",
      "     Hawkish       0.66      0.84      0.74        49\n",
      "     Neutral       0.74      0.60      0.67        96\n",
      "\n",
      "    accuracy                           0.69       214\n",
      "   macro avg       0.69      0.72      0.70       214\n",
      "weighted avg       0.70      0.69      0.69       214\n",
      "\n"
     ]
    },
    {
     "data": {
      "image/png": "[encoded data removed]",
      "text/plain": [
       "<Figure size 800x600 with 2 Axes>"
      ]
     },
     "metadata": {},
     "output_type": "display_data"
    }
   ],
   "source": [
    "# Load the best model\n",
    "best_model = AutoModelForSequenceClassification.from_pretrained(best_model_path)\n",
    "\n",
    "# Create the Trainer with the test set as eval_dataset\n",
    "trainer = Trainer(\n",
    "    model=best_model,\n",
    "    args=training_args,\n",
    "    eval_dataset=tokenized_test_dataset  # Pass the test set for final evaluation\n",
    ")\n",
    "\n",
    "# Perform final evaluation on the test set\n",
    "test_predictions, test_labels, _ = trainer.predict(tokenized_test_dataset)\n",
    "test_predictions = np.argmax(test_predictions, axis=1)\n",
    "\n",
    "# Print classification report to get F1 score, precision, recall, etc.\n",
    "test_report = classification_report(test_labels, test_predictions, target_names=['Dovish', 'Hawkish', 'Neutral'])\n",
    "print(\"Classification Report on Test Dataset:\\n\", test_report)\n",
    "\n",
    "# Compute and print confusion matrix\n",
    "cm = confusion_matrix(test_labels, test_predictions)\n",
    "\n",
    "# Visualize the confusion matrix using seaborn\n",
    "plt.figure(figsize=(8, 6))\n",
    "sns.heatmap(cm, annot=True, fmt='d', cmap='Blues', xticklabels=['Dovish', 'Hawkish', 'Neutral'], yticklabels=['Dovish', 'Hawkish', 'Neutral'])\n",
    "plt.xlabel('Predicted Labels')\n",
    "plt.ylabel('True Labels')\n",
    "plt.title('Confusion Matrix')\n",
    "plt.show()"
   ]
  },
  {
   "cell_type": "code",
   "execution_count": null,
   "id": "f81fff25",
   "metadata": {},
   "outputs": [],
   "source": [
    "# # Sample CSV generation for copying the test predictions to txt file and saving locally for report plotting\n",
    "# csv_content = \"Sentence,True Label,Predicted Label\\n\"  # Header\n",
    "\n",
    "# for i, (true_label, pred_label) in enumerate(zip(test_labels, test_predictions)):\n",
    "#     filename = f\"test_sample_{i}\"  # Example filename placeholder, replace with actual data if available\n",
    "#     csv_content += f\"{filename},{true_label},{pred_label}\\n\"\n",
    "\n",
    "# # Print CSV content for copying and saving locally\n",
    "# print(csv_content)"
   ]
  },
  {
   "cell_type": "code",
   "execution_count": null,
   "id": "b3d5bb92",
   "metadata": {},
   "outputs": [],
   "source": [
    "# # If no enough space, use this code to delete checkpoint folders except the best combination to release desk space for further task\n",
    "# import os\n",
    "# import shutil\n",
    "\n",
    "# learning_rates = [2e-5, 5e-5, 1e-4]  \n",
    "# batch_sizes = [4, 8, 16]            \n",
    "# num_epochs = [3, 5, 10]       \n",
    "\n",
    "# best_lr = best_result['learning_rate']\n",
    "# best_batch_size = best_result['batch_size']\n",
    "# best_epoch = best_result['epochs']\n",
    "\n",
    "# # base dir\n",
    "# base_dir = '/home/app/hsq/results_lr{lr}_bs{batch_size}_epochs{epoch}'\n",
    "\n",
    "# # Delete all checkpoint folders except for the specified best combination\n",
    "# for lr in learning_rates:\n",
    "#     for batch_size in batch_sizes:\n",
    "#         for epoch in num_epochs:\n",
    "#             # Check if the current combination is not the best one\n",
    "#             if lr != best_lr or batch_size != best_batch_size or epoch != best_epoch:\n",
    "#                 print(f\"Keeping directory: {base_dir.format(lr=lr, batch_size=batch_size, epoch=epoch)}\")\n",
    "#                 continue\n",
    "                \n",
    "#             # Construct the output directory path\n",
    "#             output_dir = base_dir.format(lr=lr, batch_size=batch_size, epoch=epoch)\n",
    "\n",
    "#             # Check if the directory exists and delete it if it does\n",
    "#             if os.path.exists(output_dir):\n",
    "#                 print(f\"Deleting directory: {output_dir}\")\n",
    "#                 shutil.rmtree(output_dir)\n",
    "#             # else:\n",
    "#             #     print(f\"Directory not found: {output_dir}\")\n",
    "\n",
    "# print(\"All specified checkpoints have been deleted, except the best combination.\")"
   ]
  },
  {
   "cell_type": "markdown",
   "id": "03e0f170-1943-4ca4-8d61-0a96cab32c55",
   "metadata": {
    "collapsed": false,
    "name": "cell14"
   },
   "source": [
    "### Step 2: Inference Using the Fine-Tuned Model\n",
    "\n",
    "1. **Filtering and Inference on FOMC Meeting Minutes:**\n",
    "* Tokenize the raw text files into sentences.\n",
    "* Before running inference, filter the sentences from the FOMC meeting minutes\n",
    "(January 1996 to September 2024) based on the presence of words from **Panel A1** or **B1** in Table 1 of the paper. Only sentences containing these keywords should be kept for further analysis.\n",
    "* Once the sentences are filtered, use the fine-tuned model to perform inference on the remaining sentences. Mark each sentence as hawkish, dovish, or neutral.\n",
    "* Save the predictions to a file, specifying whether each sentence is hawkish, dovish, or neutral.\n",
    "\n",
    "2. **Construct a Hawkishness Measure:**\n",
    "\n",
    "* Following the method described in the paper, construct a **document-level hawkishness measure**. For each document (FOMC meeting minute), compute:\n",
    "\n",
    "$$\\text{Hawkishness} = \\frac{\\# \\text{Hawkish sentences} - \\# \\text{Dovish sentences}}{\\# \\text{Total filtered sentences}}$$\n",
    "\n",
    "* Save these results for the next step."
   ]
  },
  {
   "cell_type": "code",
   "execution_count": 28,
   "id": "20043ba5-7c45-420d-960a-6e4f50dbded2",
   "metadata": {
    "language": "python",
    "name": "cell15"
   },
   "outputs": [],
   "source": [
    "# open meeting_minutes_raw_text_files.zip\n",
    "with open('meeting_minutes_raw_text_files.zip', 'rb') as f:\n",
    "    zip_file = zipfile.ZipFile(io.BytesIO(f.read()))\n",
    "\n",
    "# list all files in the zip\n",
    "# print(\"Files in zip:\", zip_file.namelist())b\n",
    "\n",
    "# Read the contents of all .txt files in the zip\n",
    "def load_text_files_from_zip(zip_file):\n",
    "    raw_texts = {}\n",
    "    for filename in zip_file.namelist():\n",
    "        if filename.endswith('.txt'):\n",
    "            with zip_file.open(filename) as file:\n",
    "                content = file.read().decode('utf-8')  # Decoding file content\n",
    "                raw_texts[filename] = content  # Use file name as key and content as value\n",
    "    return raw_texts\n",
    "\n",
    "raw_texts = load_text_files_from_zip(zip_file)\n",
    "\n",
    "# tokenizer = AutoTokenizer.from_pretrained('roberta-base')\n",
    "\n",
    "# def tokenize_text(text):\n",
    "#     return tokenizer.tokenize(text)\n",
    "\n",
    "# tokenized_texts = {filename: tokenize_text(text) for filename, text in raw_texts.items()}"
   ]
  },
  {
   "cell_type": "code",
   "execution_count": 29,
   "id": "aa9a306d-db90-4e85-a2dc-10ccd5bf2905",
   "metadata": {
    "language": "python",
    "name": "cell16"
   },
   "outputs": [],
   "source": [
    "keywords = [ \"inflation expectation\", \"interest rate\", \"bank rate\", \"fund rate\", \"price\", \"economic activity\", \"inflation\", \"employment\"] \n",
    "\n",
    "# def a func that use re to seperate sentences\n",
    "def split_sentences(text):\n",
    "    # Use regular expressions to split sentences based on '.''?''!', and similar punctuation, while avoiding splits on abbr. and other cases.\n",
    "    sentence_endings = re.compile(r'(?<!\\w\\.\\w.)(?<![A-Z][a-z]\\.)(?<=\\.|\\?|\\!)\\s')\n",
    "    sentences = sentence_endings.split(text)\n",
    "    return [sentence.strip() for sentence in sentences if sentence]  # Remove blank sentences\n",
    "\n",
    "# def a func that filter sentences with keywords\n",
    "def filter_sentences(tokenized_sentences, keywords):\n",
    "    filtered = [sentence for sentence in tokenized_sentences if any(keyword in sentence.lower() for keyword in keywords)]\n",
    "    return filtered\n",
    "\n",
    "# filter text\n",
    "filtered_texts = {}\n",
    "for filename, text in raw_texts.items():\n",
    "    sentences = split_sentences(text)\n",
    "    filtered_sentences = filter_sentences(sentences, keywords)\n",
    "    if filtered_sentences:\n",
    "        filtered_texts[filename] = filtered_sentences"
   ]
  },
  {
   "cell_type": "code",
   "execution_count": 30,
   "id": "4035633c-c9c5-4399-8ce3-d6ad9758289c",
   "metadata": {
    "language": "python",
    "name": "cell19"
   },
   "outputs": [
    {
     "data": {
      "application/vnd.jupyter.widget-view+json": {
       "model_id": "762c196c7fd84abf8b5bdc9bcc423c00",
       "version_major": 2,
       "version_minor": 0
      },
      "text/plain": [
       "  0%|          | 0/7 [00:00<?, ?it/s]"
      ]
     },
     "metadata": {},
     "output_type": "display_data"
    },
    {
     "data": {
      "application/vnd.jupyter.widget-view+json": {
       "model_id": "11687bf1a20847f795a4e098c9e92454",
       "version_major": 2,
       "version_minor": 0
      },
      "text/plain": [
       "  0%|          | 0/8 [00:00<?, ?it/s]"
      ]
     },
     "metadata": {},
     "output_type": "display_data"
    },
    {
     "data": {
      "application/vnd.jupyter.widget-view+json": {
       "model_id": "b7c6ded79b75443ab8ade96aaff0364a",
       "version_major": 2,
       "version_minor": 0
      },
      "text/plain": [
       "  0%|          | 0/7 [00:00<?, ?it/s]"
      ]
     },
     "metadata": {},
     "output_type": "display_data"
    },
    {
     "data": {
      "application/vnd.jupyter.widget-view+json": {
       "model_id": "76ede235b8054f08896a47e06a984b7d",
       "version_major": 2,
       "version_minor": 0
      },
      "text/plain": [
       "  0%|          | 0/7 [00:00<?, ?it/s]"
      ]
     },
     "metadata": {},
     "output_type": "display_data"
    },
    {
     "data": {
      "application/vnd.jupyter.widget-view+json": {
       "model_id": "f3c21b8da8344e1381c1cd07f739f19c",
       "version_major": 2,
       "version_minor": 0
      },
      "text/plain": [
       "  0%|          | 0/7 [00:00<?, ?it/s]"
      ]
     },
     "metadata": {},
     "output_type": "display_data"
    },
    {
     "data": {
      "application/vnd.jupyter.widget-view+json": {
       "model_id": "6370d3627e774382a8d758b8fdd8deb7",
       "version_major": 2,
       "version_minor": 0
      },
      "text/plain": [
       "  0%|          | 0/7 [00:00<?, ?it/s]"
      ]
     },
     "metadata": {},
     "output_type": "display_data"
    },
    {
     "data": {
      "application/vnd.jupyter.widget-view+json": {
       "model_id": "47263607a6b4417c8e54b5497f2f331f",
       "version_major": 2,
       "version_minor": 0
      },
      "text/plain": [
       "  0%|          | 0/7 [00:00<?, ?it/s]"
      ]
     },
     "metadata": {},
     "output_type": "display_data"
    },
    {
     "data": {
      "application/vnd.jupyter.widget-view+json": {
       "model_id": "a0934e8ba445488cabe2a30a535c56cb",
       "version_major": 2,
       "version_minor": 0
      },
      "text/plain": [
       "  0%|          | 0/6 [00:00<?, ?it/s]"
      ]
     },
     "metadata": {},
     "output_type": "display_data"
    },
    {
     "data": {
      "application/vnd.jupyter.widget-view+json": {
       "model_id": "8f04a9ee87b8436587cce84ada704a74",
       "version_major": 2,
       "version_minor": 0
      },
      "text/plain": [
       "  0%|          | 0/6 [00:00<?, ?it/s]"
      ]
     },
     "metadata": {},
     "output_type": "display_data"
    },
    {
     "data": {
      "application/vnd.jupyter.widget-view+json": {
       "model_id": "80077493759a4f4c9af05caca17a6322",
       "version_major": 2,
       "version_minor": 0
      },
      "text/plain": [
       "  0%|          | 0/2 [00:00<?, ?it/s]"
      ]
     },
     "metadata": {},
     "output_type": "display_data"
    },
    {
     "data": {
      "application/vnd.jupyter.widget-view+json": {
       "model_id": "ed253e63b5dd4fdea1bf66fe4343c62e",
       "version_major": 2,
       "version_minor": 0
      },
      "text/plain": [
       "  0%|          | 0/7 [00:00<?, ?it/s]"
      ]
     },
     "metadata": {},
     "output_type": "display_data"
    },
    {
     "data": {
      "application/vnd.jupyter.widget-view+json": {
       "model_id": "356bb91cc59644408c7776eaeb1668b2",
       "version_major": 2,
       "version_minor": 0
      },
      "text/plain": [
       "  0%|          | 0/6 [00:00<?, ?it/s]"
      ]
     },
     "metadata": {},
     "output_type": "display_data"
    },
    {
     "data": {
      "application/vnd.jupyter.widget-view+json": {
       "model_id": "45e3f24ea8714e1d8367dbedcd9c499c",
       "version_major": 2,
       "version_minor": 0
      },
      "text/plain": [
       "  0%|          | 0/7 [00:00<?, ?it/s]"
      ]
     },
     "metadata": {},
     "output_type": "display_data"
    },
    {
     "data": {
      "application/vnd.jupyter.widget-view+json": {
       "model_id": "e19a5817538e45b79389e6f9742fb2dd",
       "version_major": 2,
       "version_minor": 0
      },
      "text/plain": [
       "  0%|          | 0/7 [00:00<?, ?it/s]"
      ]
     },
     "metadata": {},
     "output_type": "display_data"
    },
    {
     "data": {
      "application/vnd.jupyter.widget-view+json": {
       "model_id": "5fc213ec5acf4f51b40a4b1909561d1b",
       "version_major": 2,
       "version_minor": 0
      },
      "text/plain": [
       "  0%|          | 0/6 [00:00<?, ?it/s]"
      ]
     },
     "metadata": {},
     "output_type": "display_data"
    },
    {
     "data": {
      "application/vnd.jupyter.widget-view+json": {
       "model_id": "d3a72ba0eb8f4850b72a05b58929ed28",
       "version_major": 2,
       "version_minor": 0
      },
      "text/plain": [
       "  0%|          | 0/7 [00:00<?, ?it/s]"
      ]
     },
     "metadata": {},
     "output_type": "display_data"
    },
    {
     "data": {
      "application/vnd.jupyter.widget-view+json": {
       "model_id": "375063d4dac14d40b5b733b8214fea32",
       "version_major": 2,
       "version_minor": 0
      },
      "text/plain": [
       "  0%|          | 0/4 [00:00<?, ?it/s]"
      ]
     },
     "metadata": {},
     "output_type": "display_data"
    },
    {
     "data": {
      "application/vnd.jupyter.widget-view+json": {
       "model_id": "c5df6ad23b0c4d67b4820588dfb8ccc8",
       "version_major": 2,
       "version_minor": 0
      },
      "text/plain": [
       "  0%|          | 0/4 [00:00<?, ?it/s]"
      ]
     },
     "metadata": {},
     "output_type": "display_data"
    },
    {
     "data": {
      "application/vnd.jupyter.widget-view+json": {
       "model_id": "b95330a002874a81ac1811d14b5b0eac",
       "version_major": 2,
       "version_minor": 0
      },
      "text/plain": [
       "  0%|          | 0/4 [00:00<?, ?it/s]"
      ]
     },
     "metadata": {},
     "output_type": "display_data"
    },
    {
     "data": {
      "application/vnd.jupyter.widget-view+json": {
       "model_id": "5d760be5de2344af959d6337438a6c6d",
       "version_major": 2,
       "version_minor": 0
      },
      "text/plain": [
       "  0%|          | 0/5 [00:00<?, ?it/s]"
      ]
     },
     "metadata": {},
     "output_type": "display_data"
    },
    {
     "data": {
      "application/vnd.jupyter.widget-view+json": {
       "model_id": "06212b75dce848ce9677939602d8c816",
       "version_major": 2,
       "version_minor": 0
      },
      "text/plain": [
       "  0%|          | 0/4 [00:00<?, ?it/s]"
      ]
     },
     "metadata": {},
     "output_type": "display_data"
    },
    {
     "data": {
      "application/vnd.jupyter.widget-view+json": {
       "model_id": "4d5e0588149c4224b4f384d70923672f",
       "version_major": 2,
       "version_minor": 0
      },
      "text/plain": [
       "  0%|          | 0/4 [00:00<?, ?it/s]"
      ]
     },
     "metadata": {},
     "output_type": "display_data"
    },
    {
     "data": {
      "application/vnd.jupyter.widget-view+json": {
       "model_id": "3cdd7ea212634e4ea9edc7dc2ba8f9c0",
       "version_major": 2,
       "version_minor": 0
      },
      "text/plain": [
       "  0%|          | 0/4 [00:00<?, ?it/s]"
      ]
     },
     "metadata": {},
     "output_type": "display_data"
    },
    {
     "data": {
      "application/vnd.jupyter.widget-view+json": {
       "model_id": "8aa84da362a54031a99aafd621ddfede",
       "version_major": 2,
       "version_minor": 0
      },
      "text/plain": [
       "  0%|          | 0/3 [00:00<?, ?it/s]"
      ]
     },
     "metadata": {},
     "output_type": "display_data"
    },
    {
     "data": {
      "application/vnd.jupyter.widget-view+json": {
       "model_id": "c9afefad492c4eb5932c5f72730991cd",
       "version_major": 2,
       "version_minor": 0
      },
      "text/plain": [
       "  0%|          | 0/4 [00:00<?, ?it/s]"
      ]
     },
     "metadata": {},
     "output_type": "display_data"
    },
    {
     "data": {
      "application/vnd.jupyter.widget-view+json": {
       "model_id": "1a4abee7277849bb8eb29113a71a795d",
       "version_major": 2,
       "version_minor": 0
      },
      "text/plain": [
       "  0%|          | 0/4 [00:00<?, ?it/s]"
      ]
     },
     "metadata": {},
     "output_type": "display_data"
    },
    {
     "data": {
      "application/vnd.jupyter.widget-view+json": {
       "model_id": "33377fdd398d41cbba68927fadc0ffae",
       "version_major": 2,
       "version_minor": 0
      },
      "text/plain": [
       "  0%|          | 0/4 [00:00<?, ?it/s]"
      ]
     },
     "metadata": {},
     "output_type": "display_data"
    },
    {
     "data": {
      "application/vnd.jupyter.widget-view+json": {
       "model_id": "5bb509310e584852ba0fb8b9a38a0ef3",
       "version_major": 2,
       "version_minor": 0
      },
      "text/plain": [
       "  0%|          | 0/5 [00:00<?, ?it/s]"
      ]
     },
     "metadata": {},
     "output_type": "display_data"
    },
    {
     "data": {
      "application/vnd.jupyter.widget-view+json": {
       "model_id": "ea10df329fae4e9aacd889700d106bbc",
       "version_major": 2,
       "version_minor": 0
      },
      "text/plain": [
       "  0%|          | 0/4 [00:00<?, ?it/s]"
      ]
     },
     "metadata": {},
     "output_type": "display_data"
    },
    {
     "data": {
      "application/vnd.jupyter.widget-view+json": {
       "model_id": "b56619e198d64cd98800cb0bb1cb74df",
       "version_major": 2,
       "version_minor": 0
      },
      "text/plain": [
       "  0%|          | 0/4 [00:00<?, ?it/s]"
      ]
     },
     "metadata": {},
     "output_type": "display_data"
    },
    {
     "data": {
      "application/vnd.jupyter.widget-view+json": {
       "model_id": "5915a9b90c404dda9627b0213dd69bba",
       "version_major": 2,
       "version_minor": 0
      },
      "text/plain": [
       "  0%|          | 0/3 [00:00<?, ?it/s]"
      ]
     },
     "metadata": {},
     "output_type": "display_data"
    },
    {
     "data": {
      "application/vnd.jupyter.widget-view+json": {
       "model_id": "350c747df70b42f29c49318521bc3bbf",
       "version_major": 2,
       "version_minor": 0
      },
      "text/plain": [
       "  0%|          | 0/3 [00:00<?, ?it/s]"
      ]
     },
     "metadata": {},
     "output_type": "display_data"
    },
    {
     "data": {
      "application/vnd.jupyter.widget-view+json": {
       "model_id": "9e7bb6fbd58c4bfbacc3f991ef4237c4",
       "version_major": 2,
       "version_minor": 0
      },
      "text/plain": [
       "  0%|          | 0/4 [00:00<?, ?it/s]"
      ]
     },
     "metadata": {},
     "output_type": "display_data"
    },
    {
     "data": {
      "application/vnd.jupyter.widget-view+json": {
       "model_id": "b32037e727744a9ebbaa3ad45e3bd3a9",
       "version_major": 2,
       "version_minor": 0
      },
      "text/plain": [
       "  0%|          | 0/4 [00:00<?, ?it/s]"
      ]
     },
     "metadata": {},
     "output_type": "display_data"
    },
    {
     "data": {
      "application/vnd.jupyter.widget-view+json": {
       "model_id": "0be980179713465ababc46c7cc71d02b",
       "version_major": 2,
       "version_minor": 0
      },
      "text/plain": [
       "  0%|          | 0/4 [00:00<?, ?it/s]"
      ]
     },
     "metadata": {},
     "output_type": "display_data"
    },
    {
     "data": {
      "application/vnd.jupyter.widget-view+json": {
       "model_id": "6e649b8313ec43e4abe15ed9225aa771",
       "version_major": 2,
       "version_minor": 0
      },
      "text/plain": [
       "  0%|          | 0/5 [00:00<?, ?it/s]"
      ]
     },
     "metadata": {},
     "output_type": "display_data"
    },
    {
     "data": {
      "application/vnd.jupyter.widget-view+json": {
       "model_id": "e45999ff022849da933a772c868cf22e",
       "version_major": 2,
       "version_minor": 0
      },
      "text/plain": [
       "  0%|          | 0/4 [00:00<?, ?it/s]"
      ]
     },
     "metadata": {},
     "output_type": "display_data"
    },
    {
     "data": {
      "application/vnd.jupyter.widget-view+json": {
       "model_id": "b5ede06c9f644d4e9c16d0b2808704ad",
       "version_major": 2,
       "version_minor": 0
      },
      "text/plain": [
       "  0%|          | 0/4 [00:00<?, ?it/s]"
      ]
     },
     "metadata": {},
     "output_type": "display_data"
    },
    {
     "data": {
      "application/vnd.jupyter.widget-view+json": {
       "model_id": "1c80dc871f5e4dbbab9534eb91c7fdd4",
       "version_major": 2,
       "version_minor": 0
      },
      "text/plain": [
       "  0%|          | 0/4 [00:00<?, ?it/s]"
      ]
     },
     "metadata": {},
     "output_type": "display_data"
    },
    {
     "data": {
      "application/vnd.jupyter.widget-view+json": {
       "model_id": "0b4cb65b4a2044e68b2147d6dd48e7df",
       "version_major": 2,
       "version_minor": 0
      },
      "text/plain": [
       "  0%|          | 0/3 [00:00<?, ?it/s]"
      ]
     },
     "metadata": {},
     "output_type": "display_data"
    },
    {
     "data": {
      "application/vnd.jupyter.widget-view+json": {
       "model_id": "be358ddcfe9444abbd26bea3a243a029",
       "version_major": 2,
       "version_minor": 0
      },
      "text/plain": [
       "  0%|          | 0/4 [00:00<?, ?it/s]"
      ]
     },
     "metadata": {},
     "output_type": "display_data"
    },
    {
     "data": {
      "application/vnd.jupyter.widget-view+json": {
       "model_id": "3157757bfdfd4fd9a8b1d6dca828dc79",
       "version_major": 2,
       "version_minor": 0
      },
      "text/plain": [
       "  0%|          | 0/4 [00:00<?, ?it/s]"
      ]
     },
     "metadata": {},
     "output_type": "display_data"
    },
    {
     "data": {
      "application/vnd.jupyter.widget-view+json": {
       "model_id": "b76372f1c9be4e0b81c8b35fb850b3d2",
       "version_major": 2,
       "version_minor": 0
      },
      "text/plain": [
       "  0%|          | 0/4 [00:00<?, ?it/s]"
      ]
     },
     "metadata": {},
     "output_type": "display_data"
    },
    {
     "data": {
      "application/vnd.jupyter.widget-view+json": {
       "model_id": "e372f6072162448fb1c50cfe157c15fa",
       "version_major": 2,
       "version_minor": 0
      },
      "text/plain": [
       "  0%|          | 0/5 [00:00<?, ?it/s]"
      ]
     },
     "metadata": {},
     "output_type": "display_data"
    },
    {
     "data": {
      "application/vnd.jupyter.widget-view+json": {
       "model_id": "d434bd2a182344a9b592651bdd306967",
       "version_major": 2,
       "version_minor": 0
      },
      "text/plain": [
       "  0%|          | 0/4 [00:00<?, ?it/s]"
      ]
     },
     "metadata": {},
     "output_type": "display_data"
    },
    {
     "data": {
      "application/vnd.jupyter.widget-view+json": {
       "model_id": "382c47def9314d05bfb389fa5820ae78",
       "version_major": 2,
       "version_minor": 0
      },
      "text/plain": [
       "  0%|          | 0/4 [00:00<?, ?it/s]"
      ]
     },
     "metadata": {},
     "output_type": "display_data"
    },
    {
     "data": {
      "application/vnd.jupyter.widget-view+json": {
       "model_id": "c006f260759749989a34c9d471b6c70f",
       "version_major": 2,
       "version_minor": 0
      },
      "text/plain": [
       "  0%|          | 0/4 [00:00<?, ?it/s]"
      ]
     },
     "metadata": {},
     "output_type": "display_data"
    },
    {
     "data": {
      "application/vnd.jupyter.widget-view+json": {
       "model_id": "ecca7e093d814c9c81059dcde736948d",
       "version_major": 2,
       "version_minor": 0
      },
      "text/plain": [
       "  0%|          | 0/3 [00:00<?, ?it/s]"
      ]
     },
     "metadata": {},
     "output_type": "display_data"
    },
    {
     "data": {
      "application/vnd.jupyter.widget-view+json": {
       "model_id": "3bf7d09634d148baa41140675ca4f87d",
       "version_major": 2,
       "version_minor": 0
      },
      "text/plain": [
       "  0%|          | 0/4 [00:00<?, ?it/s]"
      ]
     },
     "metadata": {},
     "output_type": "display_data"
    },
    {
     "data": {
      "application/vnd.jupyter.widget-view+json": {
       "model_id": "4f68f339142f4a11a49541d88b346785",
       "version_major": 2,
       "version_minor": 0
      },
      "text/plain": [
       "  0%|          | 0/3 [00:00<?, ?it/s]"
      ]
     },
     "metadata": {},
     "output_type": "display_data"
    },
    {
     "data": {
      "application/vnd.jupyter.widget-view+json": {
       "model_id": "e24670c8adbe4687916604501f18b496",
       "version_major": 2,
       "version_minor": 0
      },
      "text/plain": [
       "  0%|          | 0/3 [00:00<?, ?it/s]"
      ]
     },
     "metadata": {},
     "output_type": "display_data"
    },
    {
     "data": {
      "application/vnd.jupyter.widget-view+json": {
       "model_id": "2886fb8be18f46e59717f7342213520f",
       "version_major": 2,
       "version_minor": 0
      },
      "text/plain": [
       "  0%|          | 0/3 [00:00<?, ?it/s]"
      ]
     },
     "metadata": {},
     "output_type": "display_data"
    },
    {
     "data": {
      "application/vnd.jupyter.widget-view+json": {
       "model_id": "9036015df0784887a3cc5c3611470529",
       "version_major": 2,
       "version_minor": 0
      },
      "text/plain": [
       "  0%|          | 0/4 [00:00<?, ?it/s]"
      ]
     },
     "metadata": {},
     "output_type": "display_data"
    },
    {
     "data": {
      "application/vnd.jupyter.widget-view+json": {
       "model_id": "d32a46d9f0ef44628906f973ffccaceb",
       "version_major": 2,
       "version_minor": 0
      },
      "text/plain": [
       "  0%|          | 0/3 [00:00<?, ?it/s]"
      ]
     },
     "metadata": {},
     "output_type": "display_data"
    },
    {
     "data": {
      "application/vnd.jupyter.widget-view+json": {
       "model_id": "5c34518d7cec49cb9256d66ad9979000",
       "version_major": 2,
       "version_minor": 0
      },
      "text/plain": [
       "  0%|          | 0/4 [00:00<?, ?it/s]"
      ]
     },
     "metadata": {},
     "output_type": "display_data"
    },
    {
     "data": {
      "application/vnd.jupyter.widget-view+json": {
       "model_id": "e46075e1fd884de784282a88f122dd3d",
       "version_major": 2,
       "version_minor": 0
      },
      "text/plain": [
       "  0%|          | 0/3 [00:00<?, ?it/s]"
      ]
     },
     "metadata": {},
     "output_type": "display_data"
    },
    {
     "data": {
      "application/vnd.jupyter.widget-view+json": {
       "model_id": "e96b2217a5554a168bb068f9ec3caddd",
       "version_major": 2,
       "version_minor": 0
      },
      "text/plain": [
       "  0%|          | 0/3 [00:00<?, ?it/s]"
      ]
     },
     "metadata": {},
     "output_type": "display_data"
    },
    {
     "data": {
      "application/vnd.jupyter.widget-view+json": {
       "model_id": "b464bb15437c43b8a1277546f15db7e3",
       "version_major": 2,
       "version_minor": 0
      },
      "text/plain": [
       "  0%|          | 0/2 [00:00<?, ?it/s]"
      ]
     },
     "metadata": {},
     "output_type": "display_data"
    },
    {
     "data": {
      "application/vnd.jupyter.widget-view+json": {
       "model_id": "8dcad3bd391848b1b69a17d15ad20c09",
       "version_major": 2,
       "version_minor": 0
      },
      "text/plain": [
       "  0%|          | 0/3 [00:00<?, ?it/s]"
      ]
     },
     "metadata": {},
     "output_type": "display_data"
    },
    {
     "data": {
      "application/vnd.jupyter.widget-view+json": {
       "model_id": "e6d28a3109f14819856a0a28bcc87083",
       "version_major": 2,
       "version_minor": 0
      },
      "text/plain": [
       "  0%|          | 0/4 [00:00<?, ?it/s]"
      ]
     },
     "metadata": {},
     "output_type": "display_data"
    },
    {
     "data": {
      "application/vnd.jupyter.widget-view+json": {
       "model_id": "230eadbb86e344f3aef534545a217184",
       "version_major": 2,
       "version_minor": 0
      },
      "text/plain": [
       "  0%|          | 0/3 [00:00<?, ?it/s]"
      ]
     },
     "metadata": {},
     "output_type": "display_data"
    },
    {
     "data": {
      "application/vnd.jupyter.widget-view+json": {
       "model_id": "f4dd56c85f6a45158496e9da62c78866",
       "version_major": 2,
       "version_minor": 0
      },
      "text/plain": [
       "  0%|          | 0/3 [00:00<?, ?it/s]"
      ]
     },
     "metadata": {},
     "output_type": "display_data"
    },
    {
     "data": {
      "application/vnd.jupyter.widget-view+json": {
       "model_id": "98a9fd6dbc454f42b1bc94c7191732ba",
       "version_major": 2,
       "version_minor": 0
      },
      "text/plain": [
       "  0%|          | 0/3 [00:00<?, ?it/s]"
      ]
     },
     "metadata": {},
     "output_type": "display_data"
    },
    {
     "data": {
      "application/vnd.jupyter.widget-view+json": {
       "model_id": "81fbdef869b4478694cb78df21860db4",
       "version_major": 2,
       "version_minor": 0
      },
      "text/plain": [
       "  0%|          | 0/3 [00:00<?, ?it/s]"
      ]
     },
     "metadata": {},
     "output_type": "display_data"
    },
    {
     "data": {
      "application/vnd.jupyter.widget-view+json": {
       "model_id": "64c12c61717b4c708f842851a8aa93b5",
       "version_major": 2,
       "version_minor": 0
      },
      "text/plain": [
       "  0%|          | 0/4 [00:00<?, ?it/s]"
      ]
     },
     "metadata": {},
     "output_type": "display_data"
    },
    {
     "data": {
      "application/vnd.jupyter.widget-view+json": {
       "model_id": "7d350309114b42b5a7ad782e2a9066b8",
       "version_major": 2,
       "version_minor": 0
      },
      "text/plain": [
       "  0%|          | 0/2 [00:00<?, ?it/s]"
      ]
     },
     "metadata": {},
     "output_type": "display_data"
    },
    {
     "data": {
      "application/vnd.jupyter.widget-view+json": {
       "model_id": "1640ef32fdf24a389c60ed2ac76bbb32",
       "version_major": 2,
       "version_minor": 0
      },
      "text/plain": [
       "  0%|          | 0/3 [00:00<?, ?it/s]"
      ]
     },
     "metadata": {},
     "output_type": "display_data"
    },
    {
     "data": {
      "application/vnd.jupyter.widget-view+json": {
       "model_id": "8fc0a7b4dda44daf90805bcbff6d16e6",
       "version_major": 2,
       "version_minor": 0
      },
      "text/plain": [
       "  0%|          | 0/3 [00:00<?, ?it/s]"
      ]
     },
     "metadata": {},
     "output_type": "display_data"
    },
    {
     "data": {
      "application/vnd.jupyter.widget-view+json": {
       "model_id": "0c7ef636c69140fd9281b026be903e1c",
       "version_major": 2,
       "version_minor": 0
      },
      "text/plain": [
       "  0%|          | 0/3 [00:00<?, ?it/s]"
      ]
     },
     "metadata": {},
     "output_type": "display_data"
    },
    {
     "data": {
      "application/vnd.jupyter.widget-view+json": {
       "model_id": "6b70d5344d014c8da109b63317097369",
       "version_major": 2,
       "version_minor": 0
      },
      "text/plain": [
       "  0%|          | 0/3 [00:00<?, ?it/s]"
      ]
     },
     "metadata": {},
     "output_type": "display_data"
    },
    {
     "data": {
      "application/vnd.jupyter.widget-view+json": {
       "model_id": "6879e6e967204ae09a833c517c96870b",
       "version_major": 2,
       "version_minor": 0
      },
      "text/plain": [
       "  0%|          | 0/3 [00:00<?, ?it/s]"
      ]
     },
     "metadata": {},
     "output_type": "display_data"
    },
    {
     "data": {
      "application/vnd.jupyter.widget-view+json": {
       "model_id": "6d0553b4fcc4451da997d3f390be43d5",
       "version_major": 2,
       "version_minor": 0
      },
      "text/plain": [
       "  0%|          | 0/2 [00:00<?, ?it/s]"
      ]
     },
     "metadata": {},
     "output_type": "display_data"
    },
    {
     "data": {
      "application/vnd.jupyter.widget-view+json": {
       "model_id": "cb0fbdd54a3049cf9b500f524d0e3e7b",
       "version_major": 2,
       "version_minor": 0
      },
      "text/plain": [
       "  0%|          | 0/2 [00:00<?, ?it/s]"
      ]
     },
     "metadata": {},
     "output_type": "display_data"
    },
    {
     "data": {
      "application/vnd.jupyter.widget-view+json": {
       "model_id": "74e26270e1e04810865e69f8d7ae7867",
       "version_major": 2,
       "version_minor": 0
      },
      "text/plain": [
       "  0%|          | 0/2 [00:00<?, ?it/s]"
      ]
     },
     "metadata": {},
     "output_type": "display_data"
    },
    {
     "data": {
      "application/vnd.jupyter.widget-view+json": {
       "model_id": "c8ecb1db736241f4b1f08d93b637d970",
       "version_major": 2,
       "version_minor": 0
      },
      "text/plain": [
       "  0%|          | 0/3 [00:00<?, ?it/s]"
      ]
     },
     "metadata": {},
     "output_type": "display_data"
    },
    {
     "data": {
      "application/vnd.jupyter.widget-view+json": {
       "model_id": "1d89935203724db1870a4ac6f9da98d4",
       "version_major": 2,
       "version_minor": 0
      },
      "text/plain": [
       "  0%|          | 0/3 [00:00<?, ?it/s]"
      ]
     },
     "metadata": {},
     "output_type": "display_data"
    },
    {
     "data": {
      "application/vnd.jupyter.widget-view+json": {
       "model_id": "54afe308ab2342278292fc5d4db14830",
       "version_major": 2,
       "version_minor": 0
      },
      "text/plain": [
       "  0%|          | 0/3 [00:00<?, ?it/s]"
      ]
     },
     "metadata": {},
     "output_type": "display_data"
    },
    {
     "data": {
      "application/vnd.jupyter.widget-view+json": {
       "model_id": "55ed1d7308ef4f84a9e3cdeb8d35c502",
       "version_major": 2,
       "version_minor": 0
      },
      "text/plain": [
       "  0%|          | 0/4 [00:00<?, ?it/s]"
      ]
     },
     "metadata": {},
     "output_type": "display_data"
    },
    {
     "data": {
      "application/vnd.jupyter.widget-view+json": {
       "model_id": "bd9e94cbcb414b60b7f561e7e893aea1",
       "version_major": 2,
       "version_minor": 0
      },
      "text/plain": [
       "  0%|          | 0/3 [00:00<?, ?it/s]"
      ]
     },
     "metadata": {},
     "output_type": "display_data"
    },
    {
     "data": {
      "application/vnd.jupyter.widget-view+json": {
       "model_id": "30b03ba5c3ab4865805f6703737e4ed3",
       "version_major": 2,
       "version_minor": 0
      },
      "text/plain": [
       "  0%|          | 0/3 [00:00<?, ?it/s]"
      ]
     },
     "metadata": {},
     "output_type": "display_data"
    },
    {
     "data": {
      "application/vnd.jupyter.widget-view+json": {
       "model_id": "28521a077f744bdbbcfd9b660678d15e",
       "version_major": 2,
       "version_minor": 0
      },
      "text/plain": [
       "  0%|          | 0/4 [00:00<?, ?it/s]"
      ]
     },
     "metadata": {},
     "output_type": "display_data"
    },
    {
     "data": {
      "application/vnd.jupyter.widget-view+json": {
       "model_id": "b02bf211fa954635a2b56d454a9e6748",
       "version_major": 2,
       "version_minor": 0
      },
      "text/plain": [
       "  0%|          | 0/4 [00:00<?, ?it/s]"
      ]
     },
     "metadata": {},
     "output_type": "display_data"
    },
    {
     "data": {
      "application/vnd.jupyter.widget-view+json": {
       "model_id": "a06dbcc9500b4179b9197539b24a983f",
       "version_major": 2,
       "version_minor": 0
      },
      "text/plain": [
       "  0%|          | 0/4 [00:00<?, ?it/s]"
      ]
     },
     "metadata": {},
     "output_type": "display_data"
    },
    {
     "data": {
      "application/vnd.jupyter.widget-view+json": {
       "model_id": "845049bc088c4b6ebd1e66002a0233a4",
       "version_major": 2,
       "version_minor": 0
      },
      "text/plain": [
       "  0%|          | 0/4 [00:00<?, ?it/s]"
      ]
     },
     "metadata": {},
     "output_type": "display_data"
    },
    {
     "data": {
      "application/vnd.jupyter.widget-view+json": {
       "model_id": "3e1e4aae175740a39cf2492ac0df585b",
       "version_major": 2,
       "version_minor": 0
      },
      "text/plain": [
       "  0%|          | 0/4 [00:00<?, ?it/s]"
      ]
     },
     "metadata": {},
     "output_type": "display_data"
    },
    {
     "data": {
      "application/vnd.jupyter.widget-view+json": {
       "model_id": "c01df78be35943318b4cc75ffd0d8d6b",
       "version_major": 2,
       "version_minor": 0
      },
      "text/plain": [
       "  0%|          | 0/3 [00:00<?, ?it/s]"
      ]
     },
     "metadata": {},
     "output_type": "display_data"
    },
    {
     "data": {
      "application/vnd.jupyter.widget-view+json": {
       "model_id": "2a7022af6ecc4bc3b5ea2eac66e484e5",
       "version_major": 2,
       "version_minor": 0
      },
      "text/plain": [
       "  0%|          | 0/3 [00:00<?, ?it/s]"
      ]
     },
     "metadata": {},
     "output_type": "display_data"
    },
    {
     "data": {
      "application/vnd.jupyter.widget-view+json": {
       "model_id": "80ffbea370544291959f501114b383dc",
       "version_major": 2,
       "version_minor": 0
      },
      "text/plain": [
       "  0%|          | 0/4 [00:00<?, ?it/s]"
      ]
     },
     "metadata": {},
     "output_type": "display_data"
    },
    {
     "data": {
      "application/vnd.jupyter.widget-view+json": {
       "model_id": "140b9bff35b84883a3050f8d07e81b99",
       "version_major": 2,
       "version_minor": 0
      },
      "text/plain": [
       "  0%|          | 0/4 [00:00<?, ?it/s]"
      ]
     },
     "metadata": {},
     "output_type": "display_data"
    },
    {
     "data": {
      "application/vnd.jupyter.widget-view+json": {
       "model_id": "303aa292c4d94336a67a92acef54c170",
       "version_major": 2,
       "version_minor": 0
      },
      "text/plain": [
       "  0%|          | 0/4 [00:00<?, ?it/s]"
      ]
     },
     "metadata": {},
     "output_type": "display_data"
    },
    {
     "data": {
      "application/vnd.jupyter.widget-view+json": {
       "model_id": "81fa8240581542ef8c5a0a5f4034fdee",
       "version_major": 2,
       "version_minor": 0
      },
      "text/plain": [
       "  0%|          | 0/4 [00:00<?, ?it/s]"
      ]
     },
     "metadata": {},
     "output_type": "display_data"
    },
    {
     "data": {
      "application/vnd.jupyter.widget-view+json": {
       "model_id": "91d9f11a61054eeb89ab4b13560caea0",
       "version_major": 2,
       "version_minor": 0
      },
      "text/plain": [
       "  0%|          | 0/5 [00:00<?, ?it/s]"
      ]
     },
     "metadata": {},
     "output_type": "display_data"
    },
    {
     "data": {
      "application/vnd.jupyter.widget-view+json": {
       "model_id": "9fdb1d7bde724e738b35615df35a7758",
       "version_major": 2,
       "version_minor": 0
      },
      "text/plain": [
       "  0%|          | 0/3 [00:00<?, ?it/s]"
      ]
     },
     "metadata": {},
     "output_type": "display_data"
    },
    {
     "data": {
      "application/vnd.jupyter.widget-view+json": {
       "model_id": "fa67ec944efa4577a266a8f809b369e8",
       "version_major": 2,
       "version_minor": 0
      },
      "text/plain": [
       "  0%|          | 0/4 [00:00<?, ?it/s]"
      ]
     },
     "metadata": {},
     "output_type": "display_data"
    },
    {
     "data": {
      "application/vnd.jupyter.widget-view+json": {
       "model_id": "5041e7d66ebe435e82b92284879e2452",
       "version_major": 2,
       "version_minor": 0
      },
      "text/plain": [
       "  0%|          | 0/4 [00:00<?, ?it/s]"
      ]
     },
     "metadata": {},
     "output_type": "display_data"
    },
    {
     "data": {
      "application/vnd.jupyter.widget-view+json": {
       "model_id": "d78431b370f342b989ca8b554e7cd6ba",
       "version_major": 2,
       "version_minor": 0
      },
      "text/plain": [
       "  0%|          | 0/4 [00:00<?, ?it/s]"
      ]
     },
     "metadata": {},
     "output_type": "display_data"
    },
    {
     "data": {
      "application/vnd.jupyter.widget-view+json": {
       "model_id": "ed4eb35411a24a3bbcefba597b5a9624",
       "version_major": 2,
       "version_minor": 0
      },
      "text/plain": [
       "  0%|          | 0/3 [00:00<?, ?it/s]"
      ]
     },
     "metadata": {},
     "output_type": "display_data"
    },
    {
     "data": {
      "application/vnd.jupyter.widget-view+json": {
       "model_id": "3ce54e7936cb4e8fa29d4f176f0dc4ac",
       "version_major": 2,
       "version_minor": 0
      },
      "text/plain": [
       "  0%|          | 0/4 [00:00<?, ?it/s]"
      ]
     },
     "metadata": {},
     "output_type": "display_data"
    },
    {
     "data": {
      "application/vnd.jupyter.widget-view+json": {
       "model_id": "8495d953068b40c5871d9565321ffcba",
       "version_major": 2,
       "version_minor": 0
      },
      "text/plain": [
       "  0%|          | 0/4 [00:00<?, ?it/s]"
      ]
     },
     "metadata": {},
     "output_type": "display_data"
    },
    {
     "data": {
      "application/vnd.jupyter.widget-view+json": {
       "model_id": "7b23a979927f4a46852db5a625a27b29",
       "version_major": 2,
       "version_minor": 0
      },
      "text/plain": [
       "  0%|          | 0/4 [00:00<?, ?it/s]"
      ]
     },
     "metadata": {},
     "output_type": "display_data"
    },
    {
     "data": {
      "application/vnd.jupyter.widget-view+json": {
       "model_id": "20f38733b1aa4822acf31507adba1b14",
       "version_major": 2,
       "version_minor": 0
      },
      "text/plain": [
       "  0%|          | 0/4 [00:00<?, ?it/s]"
      ]
     },
     "metadata": {},
     "output_type": "display_data"
    },
    {
     "data": {
      "application/vnd.jupyter.widget-view+json": {
       "model_id": "a8c273b627c24c47a1fd8406413af905",
       "version_major": 2,
       "version_minor": 0
      },
      "text/plain": [
       "  0%|          | 0/4 [00:00<?, ?it/s]"
      ]
     },
     "metadata": {},
     "output_type": "display_data"
    },
    {
     "data": {
      "application/vnd.jupyter.widget-view+json": {
       "model_id": "8c3df03e9c984448a62df3cb310d6fb9",
       "version_major": 2,
       "version_minor": 0
      },
      "text/plain": [
       "  0%|          | 0/4 [00:00<?, ?it/s]"
      ]
     },
     "metadata": {},
     "output_type": "display_data"
    },
    {
     "data": {
      "application/vnd.jupyter.widget-view+json": {
       "model_id": "4bf58c9c6caa48ba8adf750123ca91b5",
       "version_major": 2,
       "version_minor": 0
      },
      "text/plain": [
       "  0%|          | 0/4 [00:00<?, ?it/s]"
      ]
     },
     "metadata": {},
     "output_type": "display_data"
    },
    {
     "data": {
      "application/vnd.jupyter.widget-view+json": {
       "model_id": "1e2b18d1caaa4568a83130771ee11dc9",
       "version_major": 2,
       "version_minor": 0
      },
      "text/plain": [
       "  0%|          | 0/4 [00:00<?, ?it/s]"
      ]
     },
     "metadata": {},
     "output_type": "display_data"
    },
    {
     "data": {
      "application/vnd.jupyter.widget-view+json": {
       "model_id": "2cc1b624fbb9441483c4608d8dbbe56d",
       "version_major": 2,
       "version_minor": 0
      },
      "text/plain": [
       "  0%|          | 0/4 [00:00<?, ?it/s]"
      ]
     },
     "metadata": {},
     "output_type": "display_data"
    },
    {
     "data": {
      "application/vnd.jupyter.widget-view+json": {
       "model_id": "8f26a35fbcc340968db6c3b6b7d6f77c",
       "version_major": 2,
       "version_minor": 0
      },
      "text/plain": [
       "  0%|          | 0/4 [00:00<?, ?it/s]"
      ]
     },
     "metadata": {},
     "output_type": "display_data"
    },
    {
     "data": {
      "application/vnd.jupyter.widget-view+json": {
       "model_id": "1bbdf60faf0c49dea9ee4bc5d04d5b02",
       "version_major": 2,
       "version_minor": 0
      },
      "text/plain": [
       "  0%|          | 0/4 [00:00<?, ?it/s]"
      ]
     },
     "metadata": {},
     "output_type": "display_data"
    },
    {
     "data": {
      "application/vnd.jupyter.widget-view+json": {
       "model_id": "ceff9251cacf4523a034770f699ef00b",
       "version_major": 2,
       "version_minor": 0
      },
      "text/plain": [
       "  0%|          | 0/4 [00:00<?, ?it/s]"
      ]
     },
     "metadata": {},
     "output_type": "display_data"
    },
    {
     "data": {
      "application/vnd.jupyter.widget-view+json": {
       "model_id": "e463117838134e2497231510427ff9f1",
       "version_major": 2,
       "version_minor": 0
      },
      "text/plain": [
       "  0%|          | 0/4 [00:00<?, ?it/s]"
      ]
     },
     "metadata": {},
     "output_type": "display_data"
    },
    {
     "data": {
      "application/vnd.jupyter.widget-view+json": {
       "model_id": "7772bae55d6e49c9b30fb671fdcc3cba",
       "version_major": 2,
       "version_minor": 0
      },
      "text/plain": [
       "  0%|          | 0/5 [00:00<?, ?it/s]"
      ]
     },
     "metadata": {},
     "output_type": "display_data"
    },
    {
     "data": {
      "application/vnd.jupyter.widget-view+json": {
       "model_id": "8f3ceff38a774770823c1dcdd7cdc9b0",
       "version_major": 2,
       "version_minor": 0
      },
      "text/plain": [
       "  0%|          | 0/4 [00:00<?, ?it/s]"
      ]
     },
     "metadata": {},
     "output_type": "display_data"
    },
    {
     "data": {
      "application/vnd.jupyter.widget-view+json": {
       "model_id": "1c6d81e377314cb186172e7d1ed7ed40",
       "version_major": 2,
       "version_minor": 0
      },
      "text/plain": [
       "  0%|          | 0/5 [00:00<?, ?it/s]"
      ]
     },
     "metadata": {},
     "output_type": "display_data"
    },
    {
     "data": {
      "application/vnd.jupyter.widget-view+json": {
       "model_id": "6c5c0ec9048e44fd8a4e92fe51ba6fc7",
       "version_major": 2,
       "version_minor": 0
      },
      "text/plain": [
       "  0%|          | 0/5 [00:00<?, ?it/s]"
      ]
     },
     "metadata": {},
     "output_type": "display_data"
    },
    {
     "data": {
      "application/vnd.jupyter.widget-view+json": {
       "model_id": "6c371223cdc34b34a090cd6b5efa2cb5",
       "version_major": 2,
       "version_minor": 0
      },
      "text/plain": [
       "  0%|          | 0/6 [00:00<?, ?it/s]"
      ]
     },
     "metadata": {},
     "output_type": "display_data"
    },
    {
     "data": {
      "application/vnd.jupyter.widget-view+json": {
       "model_id": "34bd5bad8a194a24a64806880097006e",
       "version_major": 2,
       "version_minor": 0
      },
      "text/plain": [
       "  0%|          | 0/6 [00:00<?, ?it/s]"
      ]
     },
     "metadata": {},
     "output_type": "display_data"
    },
    {
     "data": {
      "application/vnd.jupyter.widget-view+json": {
       "model_id": "7af02a6acd7c4813929dc097d7ec3d6b",
       "version_major": 2,
       "version_minor": 0
      },
      "text/plain": [
       "  0%|          | 0/4 [00:00<?, ?it/s]"
      ]
     },
     "metadata": {},
     "output_type": "display_data"
    },
    {
     "data": {
      "application/vnd.jupyter.widget-view+json": {
       "model_id": "1103606944664f7cb8afdbc9b3283634",
       "version_major": 2,
       "version_minor": 0
      },
      "text/plain": [
       "  0%|          | 0/4 [00:00<?, ?it/s]"
      ]
     },
     "metadata": {},
     "output_type": "display_data"
    },
    {
     "data": {
      "application/vnd.jupyter.widget-view+json": {
       "model_id": "d58268489f6443ec9547915ea0b4157d",
       "version_major": 2,
       "version_minor": 0
      },
      "text/plain": [
       "  0%|          | 0/4 [00:00<?, ?it/s]"
      ]
     },
     "metadata": {},
     "output_type": "display_data"
    },
    {
     "data": {
      "application/vnd.jupyter.widget-view+json": {
       "model_id": "11047715fe2f41b583364fb2023bb7d1",
       "version_major": 2,
       "version_minor": 0
      },
      "text/plain": [
       "  0%|          | 0/6 [00:00<?, ?it/s]"
      ]
     },
     "metadata": {},
     "output_type": "display_data"
    },
    {
     "data": {
      "application/vnd.jupyter.widget-view+json": {
       "model_id": "16318218445b4362b08d52eaf3d5c814",
       "version_major": 2,
       "version_minor": 0
      },
      "text/plain": [
       "  0%|          | 0/4 [00:00<?, ?it/s]"
      ]
     },
     "metadata": {},
     "output_type": "display_data"
    },
    {
     "data": {
      "application/vnd.jupyter.widget-view+json": {
       "model_id": "517102547ebb402ab1ef5fe9803e05cb",
       "version_major": 2,
       "version_minor": 0
      },
      "text/plain": [
       "  0%|          | 0/4 [00:00<?, ?it/s]"
      ]
     },
     "metadata": {},
     "output_type": "display_data"
    },
    {
     "data": {
      "application/vnd.jupyter.widget-view+json": {
       "model_id": "e71f5a0e38124027b7623306a95718f8",
       "version_major": 2,
       "version_minor": 0
      },
      "text/plain": [
       "  0%|          | 0/4 [00:00<?, ?it/s]"
      ]
     },
     "metadata": {},
     "output_type": "display_data"
    },
    {
     "data": {
      "application/vnd.jupyter.widget-view+json": {
       "model_id": "64f239b555f64ed1a8cd79a324a2559b",
       "version_major": 2,
       "version_minor": 0
      },
      "text/plain": [
       "  0%|          | 0/5 [00:00<?, ?it/s]"
      ]
     },
     "metadata": {},
     "output_type": "display_data"
    },
    {
     "data": {
      "application/vnd.jupyter.widget-view+json": {
       "model_id": "11191679c6ac4f358615621f063cc0da",
       "version_major": 2,
       "version_minor": 0
      },
      "text/plain": [
       "  0%|          | 0/4 [00:00<?, ?it/s]"
      ]
     },
     "metadata": {},
     "output_type": "display_data"
    },
    {
     "data": {
      "application/vnd.jupyter.widget-view+json": {
       "model_id": "2504e405069449c08c76fc2f535a54be",
       "version_major": 2,
       "version_minor": 0
      },
      "text/plain": [
       "  0%|          | 0/5 [00:00<?, ?it/s]"
      ]
     },
     "metadata": {},
     "output_type": "display_data"
    },
    {
     "data": {
      "application/vnd.jupyter.widget-view+json": {
       "model_id": "e5293dd7229b444a85844ef34179626f",
       "version_major": 2,
       "version_minor": 0
      },
      "text/plain": [
       "  0%|          | 0/4 [00:00<?, ?it/s]"
      ]
     },
     "metadata": {},
     "output_type": "display_data"
    },
    {
     "data": {
      "application/vnd.jupyter.widget-view+json": {
       "model_id": "a42776b9ce774b2eb7ea7353d4d5178f",
       "version_major": 2,
       "version_minor": 0
      },
      "text/plain": [
       "  0%|          | 0/6 [00:00<?, ?it/s]"
      ]
     },
     "metadata": {},
     "output_type": "display_data"
    },
    {
     "data": {
      "application/vnd.jupyter.widget-view+json": {
       "model_id": "8534530beb444eb89ee3543f2da22622",
       "version_major": 2,
       "version_minor": 0
      },
      "text/plain": [
       "  0%|          | 0/4 [00:00<?, ?it/s]"
      ]
     },
     "metadata": {},
     "output_type": "display_data"
    },
    {
     "data": {
      "application/vnd.jupyter.widget-view+json": {
       "model_id": "0cc9dae2dc5343ee89d94e1238d422a9",
       "version_major": 2,
       "version_minor": 0
      },
      "text/plain": [
       "  0%|          | 0/4 [00:00<?, ?it/s]"
      ]
     },
     "metadata": {},
     "output_type": "display_data"
    },
    {
     "data": {
      "application/vnd.jupyter.widget-view+json": {
       "model_id": "4d8b8808a9f349ba954fa40e13069241",
       "version_major": 2,
       "version_minor": 0
      },
      "text/plain": [
       "  0%|          | 0/5 [00:00<?, ?it/s]"
      ]
     },
     "metadata": {},
     "output_type": "display_data"
    },
    {
     "data": {
      "application/vnd.jupyter.widget-view+json": {
       "model_id": "f8de8e84e272469fa0410bebc1177e28",
       "version_major": 2,
       "version_minor": 0
      },
      "text/plain": [
       "  0%|          | 0/5 [00:00<?, ?it/s]"
      ]
     },
     "metadata": {},
     "output_type": "display_data"
    },
    {
     "data": {
      "application/vnd.jupyter.widget-view+json": {
       "model_id": "41a98155692a4b26a72b508ce2700ad4",
       "version_major": 2,
       "version_minor": 0
      },
      "text/plain": [
       "  0%|          | 0/5 [00:00<?, ?it/s]"
      ]
     },
     "metadata": {},
     "output_type": "display_data"
    },
    {
     "data": {
      "application/vnd.jupyter.widget-view+json": {
       "model_id": "430ed9b793c74927b44763abf8a3c5d3",
       "version_major": 2,
       "version_minor": 0
      },
      "text/plain": [
       "  0%|          | 0/5 [00:00<?, ?it/s]"
      ]
     },
     "metadata": {},
     "output_type": "display_data"
    },
    {
     "data": {
      "application/vnd.jupyter.widget-view+json": {
       "model_id": "51007a05f7224479885c2ca518f0bc5a",
       "version_major": 2,
       "version_minor": 0
      },
      "text/plain": [
       "  0%|          | 0/6 [00:00<?, ?it/s]"
      ]
     },
     "metadata": {},
     "output_type": "display_data"
    },
    {
     "data": {
      "application/vnd.jupyter.widget-view+json": {
       "model_id": "492e6d2a4e314e829e32398300a96819",
       "version_major": 2,
       "version_minor": 0
      },
      "text/plain": [
       "  0%|          | 0/5 [00:00<?, ?it/s]"
      ]
     },
     "metadata": {},
     "output_type": "display_data"
    },
    {
     "data": {
      "application/vnd.jupyter.widget-view+json": {
       "model_id": "ba906986ff894887944c093f011cc253",
       "version_major": 2,
       "version_minor": 0
      },
      "text/plain": [
       "  0%|          | 0/6 [00:00<?, ?it/s]"
      ]
     },
     "metadata": {},
     "output_type": "display_data"
    },
    {
     "data": {
      "application/vnd.jupyter.widget-view+json": {
       "model_id": "405fad94fec44435a5c6913e13e8ede0",
       "version_major": 2,
       "version_minor": 0
      },
      "text/plain": [
       "  0%|          | 0/6 [00:00<?, ?it/s]"
      ]
     },
     "metadata": {},
     "output_type": "display_data"
    },
    {
     "data": {
      "application/vnd.jupyter.widget-view+json": {
       "model_id": "21794c95d7964135b45a200c282184eb",
       "version_major": 2,
       "version_minor": 0
      },
      "text/plain": [
       "  0%|          | 0/6 [00:00<?, ?it/s]"
      ]
     },
     "metadata": {},
     "output_type": "display_data"
    },
    {
     "data": {
      "application/vnd.jupyter.widget-view+json": {
       "model_id": "1964f9d2acef494aa35ca41c4d1aedb6",
       "version_major": 2,
       "version_minor": 0
      },
      "text/plain": [
       "  0%|          | 0/6 [00:00<?, ?it/s]"
      ]
     },
     "metadata": {},
     "output_type": "display_data"
    },
    {
     "data": {
      "application/vnd.jupyter.widget-view+json": {
       "model_id": "5ca887cc9cd24d8f9d934d84e80f7cab",
       "version_major": 2,
       "version_minor": 0
      },
      "text/plain": [
       "  0%|          | 0/5 [00:00<?, ?it/s]"
      ]
     },
     "metadata": {},
     "output_type": "display_data"
    },
    {
     "data": {
      "application/vnd.jupyter.widget-view+json": {
       "model_id": "316c92dad8484d87ae3a03d795f4026c",
       "version_major": 2,
       "version_minor": 0
      },
      "text/plain": [
       "  0%|          | 0/6 [00:00<?, ?it/s]"
      ]
     },
     "metadata": {},
     "output_type": "display_data"
    },
    {
     "data": {
      "application/vnd.jupyter.widget-view+json": {
       "model_id": "975a411063da46ae86541075efe5763e",
       "version_major": 2,
       "version_minor": 0
      },
      "text/plain": [
       "  0%|          | 0/6 [00:00<?, ?it/s]"
      ]
     },
     "metadata": {},
     "output_type": "display_data"
    },
    {
     "data": {
      "application/vnd.jupyter.widget-view+json": {
       "model_id": "4899481a8df2402c81ea3b6c5b231968",
       "version_major": 2,
       "version_minor": 0
      },
      "text/plain": [
       "  0%|          | 0/5 [00:00<?, ?it/s]"
      ]
     },
     "metadata": {},
     "output_type": "display_data"
    },
    {
     "data": {
      "application/vnd.jupyter.widget-view+json": {
       "model_id": "cca0e37f0f334f6ca620b020fe841402",
       "version_major": 2,
       "version_minor": 0
      },
      "text/plain": [
       "  0%|          | 0/5 [00:00<?, ?it/s]"
      ]
     },
     "metadata": {},
     "output_type": "display_data"
    },
    {
     "data": {
      "application/vnd.jupyter.widget-view+json": {
       "model_id": "083fac6958e3403e94137d3eff9495b9",
       "version_major": 2,
       "version_minor": 0
      },
      "text/plain": [
       "  0%|          | 0/5 [00:00<?, ?it/s]"
      ]
     },
     "metadata": {},
     "output_type": "display_data"
    },
    {
     "data": {
      "application/vnd.jupyter.widget-view+json": {
       "model_id": "b88ff4762a8b485586c6c151da534486",
       "version_major": 2,
       "version_minor": 0
      },
      "text/plain": [
       "  0%|          | 0/5 [00:00<?, ?it/s]"
      ]
     },
     "metadata": {},
     "output_type": "display_data"
    },
    {
     "data": {
      "application/vnd.jupyter.widget-view+json": {
       "model_id": "21a7afe2a6a344049d1cdc63066c09f0",
       "version_major": 2,
       "version_minor": 0
      },
      "text/plain": [
       "  0%|          | 0/6 [00:00<?, ?it/s]"
      ]
     },
     "metadata": {},
     "output_type": "display_data"
    },
    {
     "data": {
      "application/vnd.jupyter.widget-view+json": {
       "model_id": "b8ecb9cb1a6c41989dac6845777bbc6c",
       "version_major": 2,
       "version_minor": 0
      },
      "text/plain": [
       "  0%|          | 0/5 [00:00<?, ?it/s]"
      ]
     },
     "metadata": {},
     "output_type": "display_data"
    },
    {
     "data": {
      "application/vnd.jupyter.widget-view+json": {
       "model_id": "c2802db9668c44b3bdc27758ca4483ef",
       "version_major": 2,
       "version_minor": 0
      },
      "text/plain": [
       "  0%|          | 0/6 [00:00<?, ?it/s]"
      ]
     },
     "metadata": {},
     "output_type": "display_data"
    },
    {
     "data": {
      "application/vnd.jupyter.widget-view+json": {
       "model_id": "1f00ad0cb8ea4820a2b6ce50f7ea29ea",
       "version_major": 2,
       "version_minor": 0
      },
      "text/plain": [
       "  0%|          | 0/5 [00:00<?, ?it/s]"
      ]
     },
     "metadata": {},
     "output_type": "display_data"
    },
    {
     "data": {
      "application/vnd.jupyter.widget-view+json": {
       "model_id": "152356e782fc4191803f7cc30b6061e5",
       "version_major": 2,
       "version_minor": 0
      },
      "text/plain": [
       "  0%|          | 0/6 [00:00<?, ?it/s]"
      ]
     },
     "metadata": {},
     "output_type": "display_data"
    },
    {
     "data": {
      "application/vnd.jupyter.widget-view+json": {
       "model_id": "80cb43190d2c47c88ef028bcda405970",
       "version_major": 2,
       "version_minor": 0
      },
      "text/plain": [
       "  0%|          | 0/5 [00:00<?, ?it/s]"
      ]
     },
     "metadata": {},
     "output_type": "display_data"
    },
    {
     "data": {
      "application/vnd.jupyter.widget-view+json": {
       "model_id": "6276969969614afaa6f2c53e1a13ce9a",
       "version_major": 2,
       "version_minor": 0
      },
      "text/plain": [
       "  0%|          | 0/6 [00:00<?, ?it/s]"
      ]
     },
     "metadata": {},
     "output_type": "display_data"
    },
    {
     "data": {
      "application/vnd.jupyter.widget-view+json": {
       "model_id": "1d75e0c35bcc41a2afcc02a67ab83f28",
       "version_major": 2,
       "version_minor": 0
      },
      "text/plain": [
       "  0%|          | 0/5 [00:00<?, ?it/s]"
      ]
     },
     "metadata": {},
     "output_type": "display_data"
    },
    {
     "data": {
      "application/vnd.jupyter.widget-view+json": {
       "model_id": "9d1a776fd3634ba5a1f0d15f82f6ca8c",
       "version_major": 2,
       "version_minor": 0
      },
      "text/plain": [
       "  0%|          | 0/7 [00:00<?, ?it/s]"
      ]
     },
     "metadata": {},
     "output_type": "display_data"
    },
    {
     "data": {
      "application/vnd.jupyter.widget-view+json": {
       "model_id": "de92d66ce8f347e9afe45394a5c6ff5e",
       "version_major": 2,
       "version_minor": 0
      },
      "text/plain": [
       "  0%|          | 0/6 [00:00<?, ?it/s]"
      ]
     },
     "metadata": {},
     "output_type": "display_data"
    },
    {
     "data": {
      "application/vnd.jupyter.widget-view+json": {
       "model_id": "189cd029180942079b6e5f23af554925",
       "version_major": 2,
       "version_minor": 0
      },
      "text/plain": [
       "  0%|          | 0/6 [00:00<?, ?it/s]"
      ]
     },
     "metadata": {},
     "output_type": "display_data"
    },
    {
     "data": {
      "application/vnd.jupyter.widget-view+json": {
       "model_id": "9db0abdb769e4c2cb5d65cd069383566",
       "version_major": 2,
       "version_minor": 0
      },
      "text/plain": [
       "  0%|          | 0/5 [00:00<?, ?it/s]"
      ]
     },
     "metadata": {},
     "output_type": "display_data"
    },
    {
     "data": {
      "application/vnd.jupyter.widget-view+json": {
       "model_id": "32f5d8f271aa4cee9f665e03f12704d8",
       "version_major": 2,
       "version_minor": 0
      },
      "text/plain": [
       "  0%|          | 0/7 [00:00<?, ?it/s]"
      ]
     },
     "metadata": {},
     "output_type": "display_data"
    },
    {
     "data": {
      "application/vnd.jupyter.widget-view+json": {
       "model_id": "b48ae53a379740b1804221f89e030213",
       "version_major": 2,
       "version_minor": 0
      },
      "text/plain": [
       "  0%|          | 0/5 [00:00<?, ?it/s]"
      ]
     },
     "metadata": {},
     "output_type": "display_data"
    },
    {
     "data": {
      "application/vnd.jupyter.widget-view+json": {
       "model_id": "19f0a73662374bd7a601a8dd09dfd7af",
       "version_major": 2,
       "version_minor": 0
      },
      "text/plain": [
       "  0%|          | 0/7 [00:00<?, ?it/s]"
      ]
     },
     "metadata": {},
     "output_type": "display_data"
    },
    {
     "data": {
      "application/vnd.jupyter.widget-view+json": {
       "model_id": "80edf114c99649d5a60b1660bdbf53e4",
       "version_major": 2,
       "version_minor": 0
      },
      "text/plain": [
       "  0%|          | 0/5 [00:00<?, ?it/s]"
      ]
     },
     "metadata": {},
     "output_type": "display_data"
    },
    {
     "data": {
      "application/vnd.jupyter.widget-view+json": {
       "model_id": "b8ba91d13f234619b8c3a16481013af0",
       "version_major": 2,
       "version_minor": 0
      },
      "text/plain": [
       "  0%|          | 0/7 [00:00<?, ?it/s]"
      ]
     },
     "metadata": {},
     "output_type": "display_data"
    },
    {
     "data": {
      "application/vnd.jupyter.widget-view+json": {
       "model_id": "6607c79bae8c4ce78d17e7d8bcd8fcba",
       "version_major": 2,
       "version_minor": 0
      },
      "text/plain": [
       "  0%|          | 0/6 [00:00<?, ?it/s]"
      ]
     },
     "metadata": {},
     "output_type": "display_data"
    },
    {
     "data": {
      "application/vnd.jupyter.widget-view+json": {
       "model_id": "3ccfc094aec44f39bdd74790d172cb98",
       "version_major": 2,
       "version_minor": 0
      },
      "text/plain": [
       "  0%|          | 0/7 [00:00<?, ?it/s]"
      ]
     },
     "metadata": {},
     "output_type": "display_data"
    },
    {
     "data": {
      "application/vnd.jupyter.widget-view+json": {
       "model_id": "81e6f730c1a247029847a3a7932e4546",
       "version_major": 2,
       "version_minor": 0
      },
      "text/plain": [
       "  0%|          | 0/6 [00:00<?, ?it/s]"
      ]
     },
     "metadata": {},
     "output_type": "display_data"
    },
    {
     "data": {
      "application/vnd.jupyter.widget-view+json": {
       "model_id": "f89dea77d3b24e1c8f9edaad3e2a7c6a",
       "version_major": 2,
       "version_minor": 0
      },
      "text/plain": [
       "  0%|          | 0/7 [00:00<?, ?it/s]"
      ]
     },
     "metadata": {},
     "output_type": "display_data"
    },
    {
     "data": {
      "application/vnd.jupyter.widget-view+json": {
       "model_id": "b6f570a0aec0401f8659e7440da95140",
       "version_major": 2,
       "version_minor": 0
      },
      "text/plain": [
       "  0%|          | 0/8 [00:00<?, ?it/s]"
      ]
     },
     "metadata": {},
     "output_type": "display_data"
    },
    {
     "data": {
      "application/vnd.jupyter.widget-view+json": {
       "model_id": "fc1e0420971443d995b208bac49e3562",
       "version_major": 2,
       "version_minor": 0
      },
      "text/plain": [
       "  0%|          | 0/6 [00:00<?, ?it/s]"
      ]
     },
     "metadata": {},
     "output_type": "display_data"
    },
    {
     "data": {
      "application/vnd.jupyter.widget-view+json": {
       "model_id": "97a1c4a2bc184971b03e6b0e5230c2b6",
       "version_major": 2,
       "version_minor": 0
      },
      "text/plain": [
       "  0%|          | 0/7 [00:00<?, ?it/s]"
      ]
     },
     "metadata": {},
     "output_type": "display_data"
    },
    {
     "data": {
      "application/vnd.jupyter.widget-view+json": {
       "model_id": "4b11fcdd00cd4d86a2f4eedb79674bef",
       "version_major": 2,
       "version_minor": 0
      },
      "text/plain": [
       "  0%|          | 0/7 [00:00<?, ?it/s]"
      ]
     },
     "metadata": {},
     "output_type": "display_data"
    },
    {
     "data": {
      "application/vnd.jupyter.widget-view+json": {
       "model_id": "2514e979c1794e45aae28a0051e7c0df",
       "version_major": 2,
       "version_minor": 0
      },
      "text/plain": [
       "  0%|          | 0/7 [00:00<?, ?it/s]"
      ]
     },
     "metadata": {},
     "output_type": "display_data"
    },
    {
     "data": {
      "application/vnd.jupyter.widget-view+json": {
       "model_id": "d4714a83a742422db227985ec754482d",
       "version_major": 2,
       "version_minor": 0
      },
      "text/plain": [
       "  0%|          | 0/8 [00:00<?, ?it/s]"
      ]
     },
     "metadata": {},
     "output_type": "display_data"
    },
    {
     "data": {
      "application/vnd.jupyter.widget-view+json": {
       "model_id": "ad73858e248a431c89e481919099c058",
       "version_major": 2,
       "version_minor": 0
      },
      "text/plain": [
       "  0%|          | 0/8 [00:00<?, ?it/s]"
      ]
     },
     "metadata": {},
     "output_type": "display_data"
    },
    {
     "data": {
      "application/vnd.jupyter.widget-view+json": {
       "model_id": "13afc192839b4a0b82b5082a2bd48009",
       "version_major": 2,
       "version_minor": 0
      },
      "text/plain": [
       "  0%|          | 0/8 [00:00<?, ?it/s]"
      ]
     },
     "metadata": {},
     "output_type": "display_data"
    },
    {
     "data": {
      "application/vnd.jupyter.widget-view+json": {
       "model_id": "270b7d05097e4efcb8633eefae84ba57",
       "version_major": 2,
       "version_minor": 0
      },
      "text/plain": [
       "  0%|          | 0/6 [00:00<?, ?it/s]"
      ]
     },
     "metadata": {},
     "output_type": "display_data"
    },
    {
     "data": {
      "application/vnd.jupyter.widget-view+json": {
       "model_id": "d00bf82f20f440b6bc6f53d0a4abce1a",
       "version_major": 2,
       "version_minor": 0
      },
      "text/plain": [
       "  0%|          | 0/7 [00:00<?, ?it/s]"
      ]
     },
     "metadata": {},
     "output_type": "display_data"
    },
    {
     "data": {
      "application/vnd.jupyter.widget-view+json": {
       "model_id": "72f0de7ceb0c45c680be40c05b5431c4",
       "version_major": 2,
       "version_minor": 0
      },
      "text/plain": [
       "  0%|          | 0/6 [00:00<?, ?it/s]"
      ]
     },
     "metadata": {},
     "output_type": "display_data"
    },
    {
     "data": {
      "application/vnd.jupyter.widget-view+json": {
       "model_id": "222d2f09f1cc4ce6b001d73c13b295ae",
       "version_major": 2,
       "version_minor": 0
      },
      "text/plain": [
       "  0%|          | 0/7 [00:00<?, ?it/s]"
      ]
     },
     "metadata": {},
     "output_type": "display_data"
    },
    {
     "data": {
      "application/vnd.jupyter.widget-view+json": {
       "model_id": "bbfc158f987e45f3a0805a0708148603",
       "version_major": 2,
       "version_minor": 0
      },
      "text/plain": [
       "  0%|          | 0/8 [00:00<?, ?it/s]"
      ]
     },
     "metadata": {},
     "output_type": "display_data"
    },
    {
     "data": {
      "application/vnd.jupyter.widget-view+json": {
       "model_id": "be5db0c477b14da3a6b8e94fe4297f8f",
       "version_major": 2,
       "version_minor": 0
      },
      "text/plain": [
       "  0%|          | 0/8 [00:00<?, ?it/s]"
      ]
     },
     "metadata": {},
     "output_type": "display_data"
    },
    {
     "data": {
      "application/vnd.jupyter.widget-view+json": {
       "model_id": "d193ff8ead9e49afb79de3b617128c39",
       "version_major": 2,
       "version_minor": 0
      },
      "text/plain": [
       "  0%|          | 0/7 [00:00<?, ?it/s]"
      ]
     },
     "metadata": {},
     "output_type": "display_data"
    },
    {
     "data": {
      "application/vnd.jupyter.widget-view+json": {
       "model_id": "9ba02f885eff4a129b9117330ec23560",
       "version_major": 2,
       "version_minor": 0
      },
      "text/plain": [
       "  0%|          | 0/7 [00:00<?, ?it/s]"
      ]
     },
     "metadata": {},
     "output_type": "display_data"
    },
    {
     "data": {
      "application/vnd.jupyter.widget-view+json": {
       "model_id": "3b21db2c574840fe85d230ca123f2a47",
       "version_major": 2,
       "version_minor": 0
      },
      "text/plain": [
       "  0%|          | 0/7 [00:00<?, ?it/s]"
      ]
     },
     "metadata": {},
     "output_type": "display_data"
    },
    {
     "data": {
      "application/vnd.jupyter.widget-view+json": {
       "model_id": "7ebac1c240f74f62bcd51f20e60d822d",
       "version_major": 2,
       "version_minor": 0
      },
      "text/plain": [
       "  0%|          | 0/7 [00:00<?, ?it/s]"
      ]
     },
     "metadata": {},
     "output_type": "display_data"
    },
    {
     "data": {
      "application/vnd.jupyter.widget-view+json": {
       "model_id": "2f9a1935215a45908490b622f5de0e75",
       "version_major": 2,
       "version_minor": 0
      },
      "text/plain": [
       "  0%|          | 0/7 [00:00<?, ?it/s]"
      ]
     },
     "metadata": {},
     "output_type": "display_data"
    },
    {
     "data": {
      "application/vnd.jupyter.widget-view+json": {
       "model_id": "fee706a2390d46b2bd080737b3bcf44d",
       "version_major": 2,
       "version_minor": 0
      },
      "text/plain": [
       "  0%|          | 0/7 [00:00<?, ?it/s]"
      ]
     },
     "metadata": {},
     "output_type": "display_data"
    },
    {
     "data": {
      "application/vnd.jupyter.widget-view+json": {
       "model_id": "15eebc6692c348bea14911f478150940",
       "version_major": 2,
       "version_minor": 0
      },
      "text/plain": [
       "  0%|          | 0/7 [00:00<?, ?it/s]"
      ]
     },
     "metadata": {},
     "output_type": "display_data"
    },
    {
     "data": {
      "application/vnd.jupyter.widget-view+json": {
       "model_id": "09346325086f400bbbbec59c28fff729",
       "version_major": 2,
       "version_minor": 0
      },
      "text/plain": [
       "  0%|          | 0/7 [00:00<?, ?it/s]"
      ]
     },
     "metadata": {},
     "output_type": "display_data"
    },
    {
     "data": {
      "application/vnd.jupyter.widget-view+json": {
       "model_id": "002cdb38d0ea40f0b4b7d123b7dd63d2",
       "version_major": 2,
       "version_minor": 0
      },
      "text/plain": [
       "  0%|          | 0/7 [00:00<?, ?it/s]"
      ]
     },
     "metadata": {},
     "output_type": "display_data"
    },
    {
     "data": {
      "application/vnd.jupyter.widget-view+json": {
       "model_id": "1fc4111118f042bda884967ec41c86c4",
       "version_major": 2,
       "version_minor": 0
      },
      "text/plain": [
       "  0%|          | 0/7 [00:00<?, ?it/s]"
      ]
     },
     "metadata": {},
     "output_type": "display_data"
    },
    {
     "data": {
      "application/vnd.jupyter.widget-view+json": {
       "model_id": "499a5c4eea514accb46b97591a0abe0a",
       "version_major": 2,
       "version_minor": 0
      },
      "text/plain": [
       "  0%|          | 0/8 [00:00<?, ?it/s]"
      ]
     },
     "metadata": {},
     "output_type": "display_data"
    },
    {
     "data": {
      "application/vnd.jupyter.widget-view+json": {
       "model_id": "eb459918bed749bd8524b820801afb1f",
       "version_major": 2,
       "version_minor": 0
      },
      "text/plain": [
       "  0%|          | 0/6 [00:00<?, ?it/s]"
      ]
     },
     "metadata": {},
     "output_type": "display_data"
    },
    {
     "data": {
      "application/vnd.jupyter.widget-view+json": {
       "model_id": "57c6481f9a164c05a9fd18ab26c1d6f0",
       "version_major": 2,
       "version_minor": 0
      },
      "text/plain": [
       "  0%|          | 0/7 [00:00<?, ?it/s]"
      ]
     },
     "metadata": {},
     "output_type": "display_data"
    },
    {
     "data": {
      "application/vnd.jupyter.widget-view+json": {
       "model_id": "b1c57b204455490696270c195de09e80",
       "version_major": 2,
       "version_minor": 0
      },
      "text/plain": [
       "  0%|          | 0/6 [00:00<?, ?it/s]"
      ]
     },
     "metadata": {},
     "output_type": "display_data"
    },
    {
     "data": {
      "application/vnd.jupyter.widget-view+json": {
       "model_id": "4a33572af4cd48eea4e04451d8a509d4",
       "version_major": 2,
       "version_minor": 0
      },
      "text/plain": [
       "  0%|          | 0/6 [00:00<?, ?it/s]"
      ]
     },
     "metadata": {},
     "output_type": "display_data"
    },
    {
     "data": {
      "application/vnd.jupyter.widget-view+json": {
       "model_id": "546c14244e7b4f48a9ebcab9c98e84f2",
       "version_major": 2,
       "version_minor": 0
      },
      "text/plain": [
       "  0%|          | 0/6 [00:00<?, ?it/s]"
      ]
     },
     "metadata": {},
     "output_type": "display_data"
    },
    {
     "data": {
      "application/vnd.jupyter.widget-view+json": {
       "model_id": "5e61d0c9521a42249579be9a9701c7be",
       "version_major": 2,
       "version_minor": 0
      },
      "text/plain": [
       "  0%|          | 0/6 [00:00<?, ?it/s]"
      ]
     },
     "metadata": {},
     "output_type": "display_data"
    },
    {
     "data": {
      "application/vnd.jupyter.widget-view+json": {
       "model_id": "64a17e88e37d4cb7944ccead356c1af8",
       "version_major": 2,
       "version_minor": 0
      },
      "text/plain": [
       "  0%|          | 0/6 [00:00<?, ?it/s]"
      ]
     },
     "metadata": {},
     "output_type": "display_data"
    },
    {
     "data": {
      "application/vnd.jupyter.widget-view+json": {
       "model_id": "5d0bf146461044b7a4e06ca1bda4769c",
       "version_major": 2,
       "version_minor": 0
      },
      "text/plain": [
       "  0%|          | 0/6 [00:00<?, ?it/s]"
      ]
     },
     "metadata": {},
     "output_type": "display_data"
    },
    {
     "data": {
      "application/vnd.jupyter.widget-view+json": {
       "model_id": "d6b9e2b621444faf84e9906aeef7940d",
       "version_major": 2,
       "version_minor": 0
      },
      "text/plain": [
       "  0%|          | 0/7 [00:00<?, ?it/s]"
      ]
     },
     "metadata": {},
     "output_type": "display_data"
    },
    {
     "data": {
      "application/vnd.jupyter.widget-view+json": {
       "model_id": "8b4245050aeb4e958026010353ac60f1",
       "version_major": 2,
       "version_minor": 0
      },
      "text/plain": [
       "  0%|          | 0/6 [00:00<?, ?it/s]"
      ]
     },
     "metadata": {},
     "output_type": "display_data"
    },
    {
     "data": {
      "application/vnd.jupyter.widget-view+json": {
       "model_id": "7543ed9408644fe9a7662f194af6e6b3",
       "version_major": 2,
       "version_minor": 0
      },
      "text/plain": [
       "  0%|          | 0/6 [00:00<?, ?it/s]"
      ]
     },
     "metadata": {},
     "output_type": "display_data"
    },
    {
     "data": {
      "application/vnd.jupyter.widget-view+json": {
       "model_id": "75fb4efff6ea429f82795f2c04ded273",
       "version_major": 2,
       "version_minor": 0
      },
      "text/plain": [
       "  0%|          | 0/8 [00:00<?, ?it/s]"
      ]
     },
     "metadata": {},
     "output_type": "display_data"
    },
    {
     "data": {
      "application/vnd.jupyter.widget-view+json": {
       "model_id": "e0f3496ac50e4cb2bc3b6bb25c74d90e",
       "version_major": 2,
       "version_minor": 0
      },
      "text/plain": [
       "  0%|          | 0/7 [00:00<?, ?it/s]"
      ]
     },
     "metadata": {},
     "output_type": "display_data"
    },
    {
     "data": {
      "application/vnd.jupyter.widget-view+json": {
       "model_id": "d14a118708994019bb5774a0f44ee5e8",
       "version_major": 2,
       "version_minor": 0
      },
      "text/plain": [
       "  0%|          | 0/6 [00:00<?, ?it/s]"
      ]
     },
     "metadata": {},
     "output_type": "display_data"
    },
    {
     "data": {
      "application/vnd.jupyter.widget-view+json": {
       "model_id": "e16ca5dbb0d340ba8b7ab5e04be026f6",
       "version_major": 2,
       "version_minor": 0
      },
      "text/plain": [
       "  0%|          | 0/6 [00:00<?, ?it/s]"
      ]
     },
     "metadata": {},
     "output_type": "display_data"
    },
    {
     "data": {
      "application/vnd.jupyter.widget-view+json": {
       "model_id": "5be47f1fff4d4bd6b23c5fd16a9b497a",
       "version_major": 2,
       "version_minor": 0
      },
      "text/plain": [
       "  0%|          | 0/6 [00:00<?, ?it/s]"
      ]
     },
     "metadata": {},
     "output_type": "display_data"
    },
    {
     "data": {
      "application/vnd.jupyter.widget-view+json": {
       "model_id": "950301ac7b4944de8c52cd9909ed5384",
       "version_major": 2,
       "version_minor": 0
      },
      "text/plain": [
       "  0%|          | 0/6 [00:00<?, ?it/s]"
      ]
     },
     "metadata": {},
     "output_type": "display_data"
    },
    {
     "data": {
      "application/vnd.jupyter.widget-view+json": {
       "model_id": "4fd62d15970a4348922275af8d6bb911",
       "version_major": 2,
       "version_minor": 0
      },
      "text/plain": [
       "  0%|          | 0/6 [00:00<?, ?it/s]"
      ]
     },
     "metadata": {},
     "output_type": "display_data"
    },
    {
     "data": {
      "application/vnd.jupyter.widget-view+json": {
       "model_id": "a23d2dfbafb843e48141364595a6cdc8",
       "version_major": 2,
       "version_minor": 0
      },
      "text/plain": [
       "  0%|          | 0/6 [00:00<?, ?it/s]"
      ]
     },
     "metadata": {},
     "output_type": "display_data"
    },
    {
     "data": {
      "application/vnd.jupyter.widget-view+json": {
       "model_id": "a3f030152c33424d9abc55eec62c2fcf",
       "version_major": 2,
       "version_minor": 0
      },
      "text/plain": [
       "  0%|          | 0/5 [00:00<?, ?it/s]"
      ]
     },
     "metadata": {},
     "output_type": "display_data"
    },
    {
     "data": {
      "application/vnd.jupyter.widget-view+json": {
       "model_id": "3fdf29bd020c4840ad9363c308e817cb",
       "version_major": 2,
       "version_minor": 0
      },
      "text/plain": [
       "  0%|          | 0/6 [00:00<?, ?it/s]"
      ]
     },
     "metadata": {},
     "output_type": "display_data"
    },
    {
     "data": {
      "application/vnd.jupyter.widget-view+json": {
       "model_id": "1396cb6d3a584982889e260afee46704",
       "version_major": 2,
       "version_minor": 0
      },
      "text/plain": [
       "  0%|          | 0/5 [00:00<?, ?it/s]"
      ]
     },
     "metadata": {},
     "output_type": "display_data"
    },
    {
     "data": {
      "application/vnd.jupyter.widget-view+json": {
       "model_id": "a889af08f56c4938bd6a243f2407dafb",
       "version_major": 2,
       "version_minor": 0
      },
      "text/plain": [
       "  0%|          | 0/6 [00:00<?, ?it/s]"
      ]
     },
     "metadata": {},
     "output_type": "display_data"
    },
    {
     "data": {
      "application/vnd.jupyter.widget-view+json": {
       "model_id": "ccd80e0428fd4632b5429447218398bd",
       "version_major": 2,
       "version_minor": 0
      },
      "text/plain": [
       "  0%|          | 0/6 [00:00<?, ?it/s]"
      ]
     },
     "metadata": {},
     "output_type": "display_data"
    },
    {
     "data": {
      "application/vnd.jupyter.widget-view+json": {
       "model_id": "8ea0a46a05294b478087cf1dbaad86c2",
       "version_major": 2,
       "version_minor": 0
      },
      "text/plain": [
       "  0%|          | 0/6 [00:00<?, ?it/s]"
      ]
     },
     "metadata": {},
     "output_type": "display_data"
    },
    {
     "data": {
      "application/vnd.jupyter.widget-view+json": {
       "model_id": "2d944f2fbbbf47a6921024e0d9de751b",
       "version_major": 2,
       "version_minor": 0
      },
      "text/plain": [
       "  0%|          | 0/6 [00:00<?, ?it/s]"
      ]
     },
     "metadata": {},
     "output_type": "display_data"
    },
    {
     "data": {
      "application/vnd.jupyter.widget-view+json": {
       "model_id": "8f603e66d84445d4ae41f15a1e72a7b2",
       "version_major": 2,
       "version_minor": 0
      },
      "text/plain": [
       "  0%|          | 0/6 [00:00<?, ?it/s]"
      ]
     },
     "metadata": {},
     "output_type": "display_data"
    },
    {
     "data": {
      "application/vnd.jupyter.widget-view+json": {
       "model_id": "d6c0920273b3457d92ff60bd24a85e68",
       "version_major": 2,
       "version_minor": 0
      },
      "text/plain": [
       "  0%|          | 0/7 [00:00<?, ?it/s]"
      ]
     },
     "metadata": {},
     "output_type": "display_data"
    },
    {
     "data": {
      "application/vnd.jupyter.widget-view+json": {
       "model_id": "22939270793b492c890b580644cea0bf",
       "version_major": 2,
       "version_minor": 0
      },
      "text/plain": [
       "  0%|          | 0/7 [00:00<?, ?it/s]"
      ]
     },
     "metadata": {},
     "output_type": "display_data"
    },
    {
     "data": {
      "application/vnd.jupyter.widget-view+json": {
       "model_id": "8efee8b29b0b4d3c9748ea0f1fd0a5c8",
       "version_major": 2,
       "version_minor": 0
      },
      "text/plain": [
       "  0%|          | 0/7 [00:00<?, ?it/s]"
      ]
     },
     "metadata": {},
     "output_type": "display_data"
    },
    {
     "data": {
      "application/vnd.jupyter.widget-view+json": {
       "model_id": "c5ea75929faf49b4b56298ae9abc318b",
       "version_major": 2,
       "version_minor": 0
      },
      "text/plain": [
       "  0%|          | 0/7 [00:00<?, ?it/s]"
      ]
     },
     "metadata": {},
     "output_type": "display_data"
    },
    {
     "data": {
      "application/vnd.jupyter.widget-view+json": {
       "model_id": "bc6009cd9fda493f960980c7b36c5703",
       "version_major": 2,
       "version_minor": 0
      },
      "text/plain": [
       "  0%|          | 0/7 [00:00<?, ?it/s]"
      ]
     },
     "metadata": {},
     "output_type": "display_data"
    },
    {
     "data": {
      "application/vnd.jupyter.widget-view+json": {
       "model_id": "3d02189e08754ed8a676b924fcb14179",
       "version_major": 2,
       "version_minor": 0
      },
      "text/plain": [
       "  0%|          | 0/6 [00:00<?, ?it/s]"
      ]
     },
     "metadata": {},
     "output_type": "display_data"
    },
    {
     "data": {
      "application/vnd.jupyter.widget-view+json": {
       "model_id": "d5b20fcdd7f04723a4e64eed497fa273",
       "version_major": 2,
       "version_minor": 0
      },
      "text/plain": [
       "  0%|          | 0/5 [00:00<?, ?it/s]"
      ]
     },
     "metadata": {},
     "output_type": "display_data"
    },
    {
     "data": {
      "application/vnd.jupyter.widget-view+json": {
       "model_id": "ec6958eda58d4b9c838733b0c88d61a2",
       "version_major": 2,
       "version_minor": 0
      },
      "text/plain": [
       "  0%|          | 0/7 [00:00<?, ?it/s]"
      ]
     },
     "metadata": {},
     "output_type": "display_data"
    },
    {
     "data": {
      "application/vnd.jupyter.widget-view+json": {
       "model_id": "f911868882dc4fa49b64be2a5fa04d78",
       "version_major": 2,
       "version_minor": 0
      },
      "text/plain": [
       "  0%|          | 0/8 [00:00<?, ?it/s]"
      ]
     },
     "metadata": {},
     "output_type": "display_data"
    },
    {
     "data": {
      "application/vnd.jupyter.widget-view+json": {
       "model_id": "f4fa6e3a5f2b4ac08ddeb4e078d38c04",
       "version_major": 2,
       "version_minor": 0
      },
      "text/plain": [
       "  0%|          | 0/7 [00:00<?, ?it/s]"
      ]
     },
     "metadata": {},
     "output_type": "display_data"
    }
   ],
   "source": [
    "# def a func that convert the filtered sentences into a dataset format acceptable to the model\n",
    "def prepare_dataset(filtered_sentences):\n",
    "    encodings = tokenizer(filtered_sentences, padding=True, truncation=True, max_length=256)\n",
    "    return HFDataset.from_dict(encodings)\n",
    "    \n",
    "# Inference on each filtered sentence and save the results\n",
    "inference_results = {}\n",
    "for filename, sentences in filtered_texts.items():\n",
    "    dataset = prepare_dataset(sentences)  # Convert sentences to Dataset format\n",
    "    predictions = trainer.predict(dataset).predictions  # Use .predict for inference\n",
    "    predicted_labels = predictions.argmax(-1)  # Obtain the category index with the highest probability in the model prediction results\n",
    "    inference_results[filename] = predicted_labels\n",
    "\n",
    "# save result to csv\n",
    "import csv\n",
    "\n",
    "with open('inference_results.csv', mode='w', newline='') as file:\n",
    "    writer = csv.writer(file)\n",
    "    writer.writerow([\"Filename\", \"Sentence\", \"Prediction\"])  # Headers\n",
    "    for filename, predictions in inference_results.items():\n",
    "        for sentence, prediction in zip(filtered_texts[filename], predictions):\n",
    "            label = [\"Dovish\", \"Hawkish\", \"Neutral\"][prediction]\n",
    "            writer.writerow([filename, sentence, label])\n"
   ]
  },
  {
   "cell_type": "code",
   "execution_count": null,
   "id": "a038dffa-e245-43ca-90a8-0b2894937ff2",
   "metadata": {
    "language": "python",
    "name": "cell20"
   },
   "outputs": [],
   "source": [
    "# # Print all inference result and save to txt file locally for report plotting\n",
    "# csv_output = \"Filename,Sentence,Prediction\\n\"  # CSV Header\n",
    "\n",
    "# # Generate CSV content from inference results (mockup example since actual data is not available)\n",
    "# for filename, predictions in inference_results.items():\n",
    "#     for sentence, prediction in zip(filtered_texts[filename], predictions):\n",
    "#         label = [\"Dovish\", \"Hawkish\", \"Neutral\"][prediction]\n",
    "#         csv_output += f\"{filename},{sentence},{label}\\n\"\n",
    "\n",
    "# print(csv_output)"
   ]
  },
  {
   "cell_type": "code",
   "execution_count": 31,
   "id": "651205f9-e65c-4fb1-85d9-7ed050fd507d",
   "metadata": {
    "language": "python",
    "name": "cell21"
   },
   "outputs": [],
   "source": [
    "# calculate Hawkishness measure using formula\n",
    "hawkishness_scores = {}\n",
    "for filename, predictions in inference_results.items():\n",
    "    hawkish_count = (predictions == 1).sum()  # 1: Hawkish\n",
    "    dovish_count = (predictions == 0).sum()   # 0: Dovish\n",
    "    total_count = len(predictions)\n",
    "    \n",
    "    hawkishness = (hawkish_count - dovish_count) / total_count\n",
    "    hawkishness_scores[filename] = hawkishness\n",
    "\n",
    "# save Hawkishness score to csv\n",
    "with open('hawkishness_scores.csv', mode='w', newline='') as file:\n",
    "    writer = csv.writer(file)\n",
    "    writer.writerow([\"Filename\", \"Hawkishness Score\"])  # header\n",
    "    for filename, score in hawkishness_scores.items():\n",
    "        writer.writerow([filename, score])"
   ]
  },
  {
   "cell_type": "code",
   "execution_count": 32,
   "id": "74d14a4a-9f9b-40f6-bcef-b842511a4aac",
   "metadata": {
    "language": "python",
    "name": "cell22"
   },
   "outputs": [],
   "source": [
    "# read csv as pandas df, and format df for step3 comparison\n",
    "hawkishness_data = pd.read_csv('hawkishness_scores.csv')\n",
    "\n",
    "hawkishness_data['Date'] = pd.to_datetime(hawkishness_data['Filename'].str.extract(r'(\\d{8})\\.txt')[0], format='%Y%m%d')\n",
    "hawkishness_data['Month'] = hawkishness_data['Date'].dt.to_period('M')"
   ]
  },
  {
   "cell_type": "code",
   "execution_count": null,
   "id": "3ea6758b",
   "metadata": {},
   "outputs": [],
   "source": [
    "# print(hawkishness_data)"
   ]
  },
  {
   "cell_type": "code",
   "execution_count": null,
   "id": "ce495e27-6a04-4a9e-bbb9-6f85a8194f19",
   "metadata": {
    "language": "python",
    "name": "cell23"
   },
   "outputs": [],
   "source": [
    "# # Print all hawkishness_score result and save to txt file locally for report plotting\n",
    "# csv_content = \"Filename,Hawkishness Score,Date,Month\\n\"  # Header\n",
    "\n",
    "# # Iterate through the DataFrame and add each row to the CSV content\n",
    "# for index, row in hawkishness_data.iterrows():\n",
    "#     csv_content += f\"{row['Filename']},{row['Hawkishness Score']},{row['Date']},{row['Month']}\\n\"\n",
    "\n",
    "# print(csv_content)"
   ]
  },
  {
   "cell_type": "markdown",
   "id": "944a33e7-4456-459b-b97f-37970572af2a",
   "metadata": {
    "collapsed": false,
    "name": "cell24"
   },
   "source": [
    "### Step 3: Analysis of CPI, PPI, and Recession\n",
    "---\n",
    "**Provide commentary on what you observe in the relationship between monetary policy stance (hawkish/dovish), CPI, PPI, and periods of recession. Do you see any patterns in how the hawkishness measure relates to inflation or economic downturns?**\n",
    "\n",
    "- **Hawkishness and Inflation Relationship**: \n",
    "  - The Fed typically becomes more hawkish as inflation rises - we see the hawkishness measure increasing alongside climbing CPI and PPI, as demonstrated in both the early 2000s and 2021-2022 inflationary periods. Conversely, when inflation metrics decline, the Fed adopts a more dovish stance by lowering interest rates and expanding money supply to support economic growth.\n",
    "\n",
    "- **Economic Downturns and Dovish Shifts**: \n",
    "  - During recessions, there's a clear pattern of the hawkishness measure dropping sharply as the Fed pivots to dovish policies - lowering rates and increasing market liquidity to stimulate economic recovery. This was particularly evident during the 2008 financial crisis and 2020 pandemic recession.\n",
    "\n",
    "- **Lagged Effects and Policy Impact**: \n",
    "  - There appears to be a slight lag between peaks in the hawkishness measure and the subsequent stabilization or decline in inflation (both CPI and PPI). This suggests that the effects of restrictive policy measures on inflation are not immediate and may take several months or quarters to materialize."
   ]
  },
  {
   "cell_type": "code",
   "execution_count": 43,
   "id": "f257d635-57e2-45e6-ab96-6379d7123929",
   "metadata": {
    "language": "python",
    "name": "cell25"
   },
   "outputs": [],
   "source": [
    "# Macro economic indicators from FRED, monthly data\n",
    "import pandas_datareader as pdr\n",
    "from datetime import datetime\n",
    "\n",
    "# Define the start and end dates\n",
    "start_date = datetime(1996, 1, 1)\n",
    "end_date = datetime(2024, 10, 31)\n",
    "\n",
    "# Fetch FRED data using pandas_datareader\n",
    "cpi = pdr.get_data_fred('CPIAUCSL', start=start_date, end=end_date)\n",
    "ppi = pdr.get_data_fred('PPIACO', start=start_date, end=end_date)\n",
    "\n",
    "# Reset index for better handling\n",
    "cpi.reset_index(inplace=True)\n",
    "ppi.reset_index(inplace=True)\n",
    "\n",
    "# Rename columns for clarity\n",
    "cpi.columns = ['Date', 'CPI']\n",
    "ppi.columns = ['Date', 'PPI']\n",
    "\n",
    "# Create Month column\n",
    "cpi['Month'] = pd.to_datetime(cpi['Date']).dt.to_period('M')\n",
    "cpi = cpi.drop(['Date'], axis = 1)\n",
    "ppi['Month'] = pd.to_datetime(ppi['Date']).dt.to_period('M')\n",
    "ppi = ppi.drop(['Date'], axis = 1)\n",
    "\n",
    "macro_indicators = pd.merge(cpi, ppi, on=\"Month\", how='left')"
   ]
  },
  {
   "cell_type": "code",
   "execution_count": 44,
   "id": "bf27f862-75a9-4554-92af-79163d64565c",
   "metadata": {
    "language": "python",
    "name": "cell26"
   },
   "outputs": [],
   "source": [
    "# Add USREC data\n",
    "NBER_df = pdr.get_data_fred('USREC', start=start_date, end=end_date)\n",
    "NBER_df.reset_index(inplace=True)\n",
    "NBER_df.columns = ['Date', 'NBER']\n",
    "NBER_df['Month'] = pd.to_datetime(NBER_df['Date']).dt.to_period('M')\n",
    "NBER_df = NBER_df[(NBER_df['Month'] >= '1996-01') & (NBER_df['Month'] <= '2024-10')]\n",
    "NBER_df = NBER_df.drop(['Date'], axis = 1)\n",
    "\n",
    "macro_indicators = pd.merge(macro_indicators, NBER_df, on=\"Month\", how='left')"
   ]
  },
  {
   "cell_type": "markdown",
   "id": "13c39071",
   "metadata": {},
   "source": [
    "**Plot - Annual percentage change of CPI and PPI over time (1996-2024), overlayed with a recession indicator:**"
   ]
  },
  {
   "cell_type": "code",
   "execution_count": 45,
   "id": "fb76e39f",
   "metadata": {},
   "outputs": [],
   "source": [
    "# Calculate the annual percentage change for CPI and PPI\n",
    "macro_indicators['CPI_pct_change'] = macro_indicators['CPI'].pct_change(periods=12) * 100\n",
    "macro_indicators['PPI_pct_change'] = macro_indicators['PPI'].pct_change(periods=12) * 100\n",
    "\n",
    "# Drop any rows with NaN values in percentage change columns\n",
    "macro_indicators = macro_indicators.dropna(subset=['CPI_pct_change', 'PPI_pct_change'])"
   ]
  },
  {
   "cell_type": "code",
   "execution_count": 46,
   "id": "3f1a56fc",
   "metadata": {},
   "outputs": [
    {
     "data": {
      "image/png": "[encoded data removed]",
      "text/plain": [
       "<Figure size 1500x500 with 1 Axes>"
      ]
     },
     "metadata": {},
     "output_type": "display_data"
    }
   ],
   "source": [
    "# Plot CPI and PPI annual percentage change with recession periods highlighted\n",
    "plt.figure(figsize=(15, 5))\n",
    "\n",
    "# Plot CPI and PPI percentage changes\n",
    "plt.plot(macro_indicators['Month'].dt.to_timestamp(), macro_indicators['CPI_pct_change'], label='CPI Annual % Change', color='red')\n",
    "plt.plot(macro_indicators['Month'].dt.to_timestamp(), macro_indicators['PPI_pct_change'], label='PPI Annual % Change', color='green')\n",
    "\n",
    "# Highlight recession periods using NBER recession indicator\n",
    "recession_periods = macro_indicators[macro_indicators['NBER'] == 1]\n",
    "for idx, row in recession_periods.iterrows():\n",
    "    plt.axvspan(row['Month'].start_time, row['Month'].end_time, color='gray', alpha=0.3)\n",
    "\n",
    "# Set plot labels and title\n",
    "plt.xlabel('Year')\n",
    "plt.ylabel('Annual % Change')\n",
    "plt.title('Annual Percentage Change of CPI and PPI (1996-2024) with Recession Periods')\n",
    "plt.legend(loc='upper left')\n",
    "\n",
    "# Show the plot\n",
    "plt.savefig(\"CPI_PPI_with_Recession_Periods.svg\", format=\"svg\")  # Save as SVG\n",
    "plt.show()"
   ]
  },
  {
   "cell_type": "markdown",
   "id": "12105ff4",
   "metadata": {},
   "source": [
    "**Plot - Overlay Hawkishness measure with CPI, PPI, and recession indicator:**"
   ]
  },
  {
   "cell_type": "code",
   "execution_count": 36,
   "id": "ba83aa5f-466e-468e-9f24-8b32302d8066",
   "metadata": {
    "language": "python",
    "name": "cell34"
   },
   "outputs": [],
   "source": [
    "macro_with_hawkishness = pd.merge(macro_indicators, hawkishness_data[['Month', 'Hawkishness Score']], on='Month', how='left')\n",
    "\n",
    "# Sort the dataframe by 'Month' before applying fillna\n",
    "macro_with_hawkishness = macro_with_hawkishness.sort_values(by='Month')\n",
    "\n",
    "# Fill missing Hawkishness scores using forward fill\n",
    "macro_with_hawkishness['Hawkishness Score'].fillna(method='ffill', inplace=True)"
   ]
  },
  {
   "cell_type": "code",
   "execution_count": 39,
   "id": "becbcc97",
   "metadata": {},
   "outputs": [
    {
     "data": {
      "image/png": "[encoded data removed]",
      "text/plain": [
       "<Figure size 1500x1000 with 4 Axes>"
      ]
     },
     "metadata": {},
     "output_type": "display_data"
    }
   ],
   "source": [
    "# Set up the figure and subplots\n",
    "fig, (ax1, ax2) = plt.subplots(2, 1, figsize=(15, 10))\n",
    "\n",
    "# First subplot: CPI vs Hawkishness\n",
    "cpi_line, = ax1.plot(macro_with_hawkishness['Month'].dt.to_timestamp(), \n",
    "                     macro_with_hawkishness['CPI_pct_change'], label='CPI', color='red')\n",
    "ax1.set_ylabel('CPI Percentage Change', color='red')\n",
    "ax1.tick_params(axis='y', labelcolor='red')\n",
    "ax1.set_xlabel('Date')\n",
    "\n",
    "# Secondary axis for Hawkishness score\n",
    "ax1_2 = ax1.twinx()\n",
    "hawkishness_line1, = ax1_2.plot(macro_with_hawkishness['Month'].dt.to_timestamp(), \n",
    "                                macro_with_hawkishness['Hawkishness Score'] * 10, label='Hawkishness Score', color='blue')\n",
    "ax1_2.set_ylabel('Hawkish-Dovish Measure * 10', color='blue')\n",
    "ax1_2.tick_params(axis='y', labelcolor='blue')\n",
    "\n",
    "# Title for the first subplot\n",
    "ax1.set_title('CPI vs Hawkishness Score')\n",
    "\n",
    "# Combine legends for both CPI and Hawkishness\n",
    "lines1 = [cpi_line, hawkishness_line1]\n",
    "ax1.legend(lines1, [line.get_label() for line in lines1], loc='upper left')\n",
    "\n",
    "# Second subplot: PPI vs Hawkishness\n",
    "ppi_line, = ax2.plot(macro_with_hawkishness['Month'].dt.to_timestamp(), \n",
    "                     macro_with_hawkishness['PPI_pct_change'], label='PPI', color='green')\n",
    "ax2.set_ylabel('PPI Percentage Change', color='green')\n",
    "ax2.tick_params(axis='y', labelcolor='green')\n",
    "ax2.set_xlabel('Date')\n",
    "\n",
    "# Secondary axis for Hawkishness score\n",
    "ax2_2 = ax2.twinx()\n",
    "hawkishness_line2, = ax2_2.plot(macro_with_hawkishness['Month'].dt.to_timestamp(), \n",
    "                                macro_with_hawkishness['Hawkishness Score'] * 10, label='Hawkishness Score', color='blue')\n",
    "ax2_2.set_ylabel('Hawkish-Dovish Measure * 10', color='blue')\n",
    "ax2_2.tick_params(axis='y', labelcolor='blue')\n",
    "\n",
    "# Title for the second subplot\n",
    "ax2.set_title('PPI vs Hawkishness Score')\n",
    "\n",
    "# Combine legends for both PPI and Hawkishness\n",
    "lines2 = [ppi_line, hawkishness_line2]\n",
    "ax2.legend(lines2, [line.get_label() for line in lines2], loc='upper left')\n",
    "\n",
    "# Highlighting recession periods for both plots\n",
    "recession_periods = macro_with_hawkishness[macro_with_hawkishness['NBER'] == 1]\n",
    "for idx, row in recession_periods.iterrows():\n",
    "    ax1.axvspan(row['Month'].start_time, row['Month'].end_time, color='gray', alpha=0.3)\n",
    "    ax2.axvspan(row['Month'].start_time, row['Month'].end_time, color='gray', alpha=0.3)\n",
    "\n",
    "# Finalize plot layout\n",
    "plt.tight_layout()\n",
    "plt.savefig(\"CPI_PPI_with_Hawkishness_Score.svg\", format=\"svg\")  # Save as SVG\n",
    "plt.show()"
   ]
  }
 ],
 "metadata": {
  "kernelspec": {
   "display_name": "AI_in_Finance",
   "language": "python",
   "name": "python3"
  },
  "language_info": {
   "codemirror_mode": {
    "name": "ipython",
    "version": 3
   },
   "file_extension": ".py",
   "mimetype": "text/x-python",
   "name": "python",
   "nbconvert_exporter": "python",
   "pygments_lexer": "ipython3",
   "version": "3.11.9"
  }
 },
 "nbformat": 4,
 "nbformat_minor": 5
}
